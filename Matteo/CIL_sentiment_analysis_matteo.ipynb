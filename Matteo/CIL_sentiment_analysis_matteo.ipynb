{
  "nbformat": 4,
  "nbformat_minor": 0,
  "metadata": {
    "colab": {
      "name": "CIL_sentiment_analysis_matteo.ipynb",
      "provenance": []
    },
    "kernelspec": {
      "name": "python3",
      "display_name": "Python 3"
    },
    "language_info": {
      "name": "python"
    }
  },
  "cells": [
    {
      "cell_type": "markdown",
      "source": [
        "# SETUP"
      ],
      "metadata": {
        "id": "TXXbzMLJGjEu"
      }
    },
    {
      "cell_type": "code",
      "execution_count": 1,
      "metadata": {
        "id": "daDv64K6B-cB"
      },
      "outputs": [],
      "source": [
        "import numpy as np\n",
        "import sklearn"
      ]
    },
    {
      "cell_type": "code",
      "source": [
        "from google.colab import drive\n",
        "drive.mount('/content/drive')"
      ],
      "metadata": {
        "colab": {
          "base_uri": "https://localhost:8080/"
        },
        "id": "ay1hAmXJIEZX",
        "outputId": "2f805e62-5ecc-47b9-9d9d-793bb6e007ed"
      },
      "execution_count": 5,
      "outputs": [
        {
          "output_type": "stream",
          "name": "stdout",
          "text": [
            "Mounted at /content/drive\n"
          ]
        }
      ]
    },
    {
      "cell_type": "code",
      "source": [
        "# constants and global variables\n",
        "DATA_PATH = '/content/drive/MyDrive/Colab Notebooks/CIL/Dataset/{}'\n",
        "MODEL_PATH = '/content/drive/MyDrive/Colab Notebooks/CIL/Models/{}'\n",
        "\n",
        "is_train_enabled = True\n",
        "is_preprocessing_enabled = True"
      ],
      "metadata": {
        "id": "2ZlkJQhDGoTK"
      },
      "execution_count": 9,
      "outputs": []
    },
    {
      "cell_type": "markdown",
      "source": [
        "# READ DATA"
      ],
      "metadata": {
        "id": "UarTFFNLHdbG"
      }
    },
    {
      "cell_type": "code",
      "source": [
        "tweets = []\n",
        "labels = []\n",
        "\n",
        "def load_tweets(filename, label):\n",
        "    with open(filename, 'r', encoding='utf-8') as f:\n",
        "        for line in f:\n",
        "            tweets.append(line.rstrip())\n",
        "            labels.append(label)\n",
        "\n",
        "# load tweets   \n",
        "load_tweets(DATA_PATH.format('train_neg_full.txt'), 0)\n",
        "load_tweets(DATA_PATH.format('train_pos_full.txt'), 1)\n",
        "\n",
        "# Convert to NumPy array to facilitate indexing\n",
        "tweets = np.array(tweets)\n",
        "labels = np.array(labels)\n",
        "\n",
        "print(f'{len(tweets)} tweets loaded')"
      ],
      "metadata": {
        "colab": {
          "base_uri": "https://localhost:8080/"
        },
        "id": "JR2w1P5nCOiY",
        "outputId": "1ada8e90-2be3-4853-b935-15bf7c40f706"
      },
      "execution_count": 11,
      "outputs": [
        {
          "output_type": "stream",
          "name": "stdout",
          "text": [
            "2500000 tweets loaded\n"
          ]
        }
      ]
    },
    {
      "cell_type": "code",
      "source": [
        "# split the data into train, test and validation --> 70% train, 20% test, 10% validation\n",
        "X_train, y_train, X_test, y_test = sklearn.model_selection.train_test_split(tweets, labels, test_size=20, random_state=42, shuffle=True)\n",
        "X_train, y_train, X_val, y_val = sklearn.model_selection.train_test_split(X_train, y_train, test_size=13, random_state=42, shuffle=True)"
      ],
      "metadata": {
        "id": "u2OpUpbQCWBD"
      },
      "execution_count": null,
      "outputs": []
    },
    {
      "cell_type": "markdown",
      "source": [
        "# INITIAL EXPLORATION"
      ],
      "metadata": {
        "id": "wLGfqcvEHhRj"
      }
    },
    {
      "cell_type": "code",
      "source": [
        "# get number of positive and negative tweets\n",
        "print(f\"In our dataset there are {(labels == 0).sum()} negative tweets\")\n",
        "print(f\"In our dataset there are {(labels == 1).sum()} positive tweets\")"
      ],
      "metadata": {
        "colab": {
          "base_uri": "https://localhost:8080/"
        },
        "id": "0YGXIVtwF1C7",
        "outputId": "fd5ace35-75ed-4c29-d504-c14e2ef33340"
      },
      "execution_count": 13,
      "outputs": [
        {
          "output_type": "stream",
          "name": "stdout",
          "text": [
            "In our dataset there are 1250000 negative tweets\n",
            "In our dataset there are 1250000 positive tweets\n"
          ]
        }
      ]
    },
    {
      "cell_type": "code",
      "source": [
        "# get average length of positive and negative examples\n",
        "def get_average_length(target_label):\n",
        "  len_tweets = []\n",
        "  for tweet, label in zip(tweets, labels):\n",
        "    if label == target_label:\n",
        "      len_tweets.append(len(tweet))\n",
        "  \n",
        "  return np.array(len_tweets).mean()\n",
        "\n",
        "# NOTE: postive tweets seem to be longer on average than negative tweets.\n",
        "# TODO: check if this thing can be used at our advantange in training\n",
        "print(f\"The average length of tweets with a negative sentiment is: {get_average_length(0)}\")\n",
        "print(f\"The average length of tweets with a positive sentiment is: {get_average_length(1)}\")"
      ],
      "metadata": {
        "colab": {
          "base_uri": "https://localhost:8080/"
        },
        "id": "ivQ_UyYXD1zi",
        "outputId": "cf92964d-00d2-4ef5-d0c6-3a052dbc78cf"
      },
      "execution_count": 21,
      "outputs": [
        {
          "output_type": "stream",
          "name": "stdout",
          "text": [
            "The average length of tweets with a negative sentiment is: 84.0923984\n",
            "The average length of tweets with a positive sentiment is: 67.835752\n"
          ]
        }
      ]
    },
    {
      "cell_type": "code",
      "source": [
        "# get most frequent words in positive and negative examples"
      ],
      "metadata": {
        "id": "yDQjBYSZHnYp"
      },
      "execution_count": null,
      "outputs": []
    },
    {
      "cell_type": "markdown",
      "source": [
        "# Word embeddings"
      ],
      "metadata": {
        "id": "MWjfoHu2KwEx"
      }
    },
    {
      "cell_type": "markdown",
      "source": [
        "## TF-IDF"
      ],
      "metadata": {
        "id": "qn4wCyoSK0lB"
      }
    },
    {
      "cell_type": "markdown",
      "source": [
        "## W2V"
      ],
      "metadata": {
        "id": "Wtbgm8TgK0hp"
      }
    },
    {
      "cell_type": "markdown",
      "source": [
        "# Models"
      ],
      "metadata": {
        "id": "_viGci2MLCRo"
      }
    },
    {
      "cell_type": "code",
      "source": [
        "if is_train_enabled:\n",
        "  pass"
      ],
      "metadata": {
        "id": "gsz3VjNBLJlG"
      },
      "execution_count": null,
      "outputs": []
    }
  ]
}