{
  "cells": [
    {
      "cell_type": "markdown",
      "metadata": {
        "id": "TXXbzMLJGjEu"
      },
      "source": [
        "# SETUP"
      ]
    },
    {
      "cell_type": "code",
      "source": [
        "!pip install nltk\n",
        "!pip install gensim\n",
        "!pip install seaborn\n",
        "!pip install transformers\n",
        "!pip install datasets"
      ],
      "metadata": {
        "colab": {
          "base_uri": "https://localhost:8080/"
        },
        "id": "boDzUwM91-SE",
        "outputId": "21908fdb-b329-4f0d-e572-32e5b80d5c10"
      },
      "execution_count": null,
      "outputs": [
        {
          "output_type": "stream",
          "name": "stdout",
          "text": [
            "Requirement already satisfied: nltk in /usr/local/lib/python3.7/dist-packages (3.2.5)\n",
            "Requirement already satisfied: six in /usr/local/lib/python3.7/dist-packages (from nltk) (1.15.0)\n",
            "Requirement already satisfied: gensim in /usr/local/lib/python3.7/dist-packages (3.6.0)\n",
            "Requirement already satisfied: six>=1.5.0 in /usr/local/lib/python3.7/dist-packages (from gensim) (1.15.0)\n",
            "Requirement already satisfied: scipy>=0.18.1 in /usr/local/lib/python3.7/dist-packages (from gensim) (1.4.1)\n",
            "Requirement already satisfied: numpy>=1.11.3 in /usr/local/lib/python3.7/dist-packages (from gensim) (1.21.6)\n",
            "Requirement already satisfied: smart-open>=1.2.1 in /usr/local/lib/python3.7/dist-packages (from gensim) (5.2.1)\n",
            "Requirement already satisfied: seaborn in /usr/local/lib/python3.7/dist-packages (0.11.2)\n",
            "Requirement already satisfied: numpy>=1.15 in /usr/local/lib/python3.7/dist-packages (from seaborn) (1.21.6)\n",
            "Requirement already satisfied: matplotlib>=2.2 in /usr/local/lib/python3.7/dist-packages (from seaborn) (3.2.2)\n",
            "Requirement already satisfied: scipy>=1.0 in /usr/local/lib/python3.7/dist-packages (from seaborn) (1.4.1)\n",
            "Requirement already satisfied: pandas>=0.23 in /usr/local/lib/python3.7/dist-packages (from seaborn) (1.3.5)\n",
            "Requirement already satisfied: kiwisolver>=1.0.1 in /usr/local/lib/python3.7/dist-packages (from matplotlib>=2.2->seaborn) (1.4.2)\n",
            "Requirement already satisfied: cycler>=0.10 in /usr/local/lib/python3.7/dist-packages (from matplotlib>=2.2->seaborn) (0.11.0)\n",
            "Requirement already satisfied: python-dateutil>=2.1 in /usr/local/lib/python3.7/dist-packages (from matplotlib>=2.2->seaborn) (2.8.2)\n",
            "Requirement already satisfied: pyparsing!=2.0.4,!=2.1.2,!=2.1.6,>=2.0.1 in /usr/local/lib/python3.7/dist-packages (from matplotlib>=2.2->seaborn) (3.0.8)\n",
            "Requirement already satisfied: typing-extensions in /usr/local/lib/python3.7/dist-packages (from kiwisolver>=1.0.1->matplotlib>=2.2->seaborn) (4.2.0)\n",
            "Requirement already satisfied: pytz>=2017.3 in /usr/local/lib/python3.7/dist-packages (from pandas>=0.23->seaborn) (2022.1)\n",
            "Requirement already satisfied: six>=1.5 in /usr/local/lib/python3.7/dist-packages (from python-dateutil>=2.1->matplotlib>=2.2->seaborn) (1.15.0)\n",
            "Collecting transformers\n",
            "  Downloading transformers-4.18.0-py3-none-any.whl (4.0 MB)\n",
            "\u001b[K     |████████████████████████████████| 4.0 MB 5.2 MB/s \n",
            "\u001b[?25hRequirement already satisfied: requests in /usr/local/lib/python3.7/dist-packages (from transformers) (2.23.0)\n",
            "Requirement already satisfied: packaging>=20.0 in /usr/local/lib/python3.7/dist-packages (from transformers) (21.3)\n",
            "Requirement already satisfied: filelock in /usr/local/lib/python3.7/dist-packages (from transformers) (3.6.0)\n",
            "Collecting pyyaml>=5.1\n",
            "  Downloading PyYAML-6.0-cp37-cp37m-manylinux_2_5_x86_64.manylinux1_x86_64.manylinux_2_12_x86_64.manylinux2010_x86_64.whl (596 kB)\n",
            "\u001b[K     |████████████████████████████████| 596 kB 40.5 MB/s \n",
            "\u001b[?25hCollecting huggingface-hub<1.0,>=0.1.0\n",
            "  Downloading huggingface_hub-0.5.1-py3-none-any.whl (77 kB)\n",
            "\u001b[K     |████████████████████████████████| 77 kB 7.3 MB/s \n",
            "\u001b[?25hRequirement already satisfied: importlib-metadata in /usr/local/lib/python3.7/dist-packages (from transformers) (4.11.3)\n",
            "Collecting sacremoses\n",
            "  Downloading sacremoses-0.0.49-py3-none-any.whl (895 kB)\n",
            "\u001b[K     |████████████████████████████████| 895 kB 46.4 MB/s \n",
            "\u001b[?25hRequirement already satisfied: tqdm>=4.27 in /usr/local/lib/python3.7/dist-packages (from transformers) (4.64.0)\n",
            "Requirement already satisfied: numpy>=1.17 in /usr/local/lib/python3.7/dist-packages (from transformers) (1.21.6)\n",
            "Requirement already satisfied: regex!=2019.12.17 in /usr/local/lib/python3.7/dist-packages (from transformers) (2019.12.20)\n",
            "Collecting tokenizers!=0.11.3,<0.13,>=0.11.1\n",
            "  Downloading tokenizers-0.12.1-cp37-cp37m-manylinux_2_12_x86_64.manylinux2010_x86_64.whl (6.6 MB)\n",
            "\u001b[K     |████████████████████████████████| 6.6 MB 41.7 MB/s \n",
            "\u001b[?25hRequirement already satisfied: typing-extensions>=3.7.4.3 in /usr/local/lib/python3.7/dist-packages (from huggingface-hub<1.0,>=0.1.0->transformers) (4.2.0)\n",
            "Requirement already satisfied: pyparsing!=3.0.5,>=2.0.2 in /usr/local/lib/python3.7/dist-packages (from packaging>=20.0->transformers) (3.0.8)\n",
            "Requirement already satisfied: zipp>=0.5 in /usr/local/lib/python3.7/dist-packages (from importlib-metadata->transformers) (3.8.0)\n",
            "Requirement already satisfied: certifi>=2017.4.17 in /usr/local/lib/python3.7/dist-packages (from requests->transformers) (2021.10.8)\n",
            "Requirement already satisfied: urllib3!=1.25.0,!=1.25.1,<1.26,>=1.21.1 in /usr/local/lib/python3.7/dist-packages (from requests->transformers) (1.24.3)\n",
            "Requirement already satisfied: chardet<4,>=3.0.2 in /usr/local/lib/python3.7/dist-packages (from requests->transformers) (3.0.4)\n",
            "Requirement already satisfied: idna<3,>=2.5 in /usr/local/lib/python3.7/dist-packages (from requests->transformers) (2.10)\n",
            "Requirement already satisfied: six in /usr/local/lib/python3.7/dist-packages (from sacremoses->transformers) (1.15.0)\n",
            "Requirement already satisfied: joblib in /usr/local/lib/python3.7/dist-packages (from sacremoses->transformers) (1.1.0)\n",
            "Requirement already satisfied: click in /usr/local/lib/python3.7/dist-packages (from sacremoses->transformers) (7.1.2)\n",
            "Installing collected packages: pyyaml, tokenizers, sacremoses, huggingface-hub, transformers\n",
            "  Attempting uninstall: pyyaml\n",
            "    Found existing installation: PyYAML 3.13\n",
            "    Uninstalling PyYAML-3.13:\n",
            "      Successfully uninstalled PyYAML-3.13\n",
            "Successfully installed huggingface-hub-0.5.1 pyyaml-6.0 sacremoses-0.0.49 tokenizers-0.12.1 transformers-4.18.0\n",
            "Collecting datasets\n",
            "  Downloading datasets-2.1.0-py3-none-any.whl (325 kB)\n",
            "\u001b[K     |████████████████████████████████| 325 kB 5.0 MB/s \n",
            "\u001b[?25hRequirement already satisfied: huggingface-hub<1.0.0,>=0.1.0 in /usr/local/lib/python3.7/dist-packages (from datasets) (0.5.1)\n",
            "Requirement already satisfied: packaging in /usr/local/lib/python3.7/dist-packages (from datasets) (21.3)\n",
            "Requirement already satisfied: importlib-metadata in /usr/local/lib/python3.7/dist-packages (from datasets) (4.11.3)\n",
            "Requirement already satisfied: pandas in /usr/local/lib/python3.7/dist-packages (from datasets) (1.3.5)\n",
            "Requirement already satisfied: pyarrow>=5.0.0 in /usr/local/lib/python3.7/dist-packages (from datasets) (6.0.1)\n",
            "Collecting aiohttp\n",
            "  Downloading aiohttp-3.8.1-cp37-cp37m-manylinux_2_5_x86_64.manylinux1_x86_64.manylinux_2_12_x86_64.manylinux2010_x86_64.whl (1.1 MB)\n",
            "\u001b[K     |████████████████████████████████| 1.1 MB 29.3 MB/s \n",
            "\u001b[?25hCollecting responses<0.19\n",
            "  Downloading responses-0.18.0-py3-none-any.whl (38 kB)\n",
            "Requirement already satisfied: dill in /usr/local/lib/python3.7/dist-packages (from datasets) (0.3.4)\n",
            "Requirement already satisfied: multiprocess in /usr/local/lib/python3.7/dist-packages (from datasets) (0.70.12.2)\n",
            "Requirement already satisfied: requests>=2.19.0 in /usr/local/lib/python3.7/dist-packages (from datasets) (2.23.0)\n",
            "Requirement already satisfied: numpy>=1.17 in /usr/local/lib/python3.7/dist-packages (from datasets) (1.21.6)\n",
            "Requirement already satisfied: tqdm>=4.62.1 in /usr/local/lib/python3.7/dist-packages (from datasets) (4.64.0)\n",
            "Collecting fsspec[http]>=2021.05.0\n",
            "  Downloading fsspec-2022.3.0-py3-none-any.whl (136 kB)\n",
            "\u001b[K     |████████████████████████████████| 136 kB 58.0 MB/s \n",
            "\u001b[?25hCollecting xxhash\n",
            "  Downloading xxhash-3.0.0-cp37-cp37m-manylinux_2_17_x86_64.manylinux2014_x86_64.whl (212 kB)\n",
            "\u001b[K     |████████████████████████████████| 212 kB 50.8 MB/s \n",
            "\u001b[?25hRequirement already satisfied: pyyaml in /usr/local/lib/python3.7/dist-packages (from huggingface-hub<1.0.0,>=0.1.0->datasets) (6.0)\n",
            "Requirement already satisfied: typing-extensions>=3.7.4.3 in /usr/local/lib/python3.7/dist-packages (from huggingface-hub<1.0.0,>=0.1.0->datasets) (4.2.0)\n",
            "Requirement already satisfied: filelock in /usr/local/lib/python3.7/dist-packages (from huggingface-hub<1.0.0,>=0.1.0->datasets) (3.6.0)\n",
            "Requirement already satisfied: pyparsing!=3.0.5,>=2.0.2 in /usr/local/lib/python3.7/dist-packages (from packaging->datasets) (3.0.8)\n",
            "Requirement already satisfied: chardet<4,>=3.0.2 in /usr/local/lib/python3.7/dist-packages (from requests>=2.19.0->datasets) (3.0.4)\n",
            "Requirement already satisfied: urllib3!=1.25.0,!=1.25.1,<1.26,>=1.21.1 in /usr/local/lib/python3.7/dist-packages (from requests>=2.19.0->datasets) (1.24.3)\n",
            "Requirement already satisfied: idna<3,>=2.5 in /usr/local/lib/python3.7/dist-packages (from requests>=2.19.0->datasets) (2.10)\n",
            "Requirement already satisfied: certifi>=2017.4.17 in /usr/local/lib/python3.7/dist-packages (from requests>=2.19.0->datasets) (2021.10.8)\n",
            "Collecting urllib3!=1.25.0,!=1.25.1,<1.26,>=1.21.1\n",
            "  Downloading urllib3-1.25.11-py2.py3-none-any.whl (127 kB)\n",
            "\u001b[K     |████████████████████████████████| 127 kB 44.6 MB/s \n",
            "\u001b[?25hRequirement already satisfied: charset-normalizer<3.0,>=2.0 in /usr/local/lib/python3.7/dist-packages (from aiohttp->datasets) (2.0.12)\n",
            "Collecting frozenlist>=1.1.1\n",
            "  Downloading frozenlist-1.3.0-cp37-cp37m-manylinux_2_5_x86_64.manylinux1_x86_64.manylinux_2_17_x86_64.manylinux2014_x86_64.whl (144 kB)\n",
            "\u001b[K     |████████████████████████████████| 144 kB 73.2 MB/s \n",
            "\u001b[?25hCollecting async-timeout<5.0,>=4.0.0a3\n",
            "  Downloading async_timeout-4.0.2-py3-none-any.whl (5.8 kB)\n",
            "Collecting asynctest==0.13.0\n",
            "  Downloading asynctest-0.13.0-py3-none-any.whl (26 kB)\n",
            "Collecting aiosignal>=1.1.2\n",
            "  Downloading aiosignal-1.2.0-py3-none-any.whl (8.2 kB)\n",
            "Collecting yarl<2.0,>=1.0\n",
            "  Downloading yarl-1.7.2-cp37-cp37m-manylinux_2_5_x86_64.manylinux1_x86_64.manylinux_2_12_x86_64.manylinux2010_x86_64.whl (271 kB)\n",
            "\u001b[K     |████████████████████████████████| 271 kB 47.7 MB/s \n",
            "\u001b[?25hCollecting multidict<7.0,>=4.5\n",
            "  Downloading multidict-6.0.2-cp37-cp37m-manylinux_2_17_x86_64.manylinux2014_x86_64.whl (94 kB)\n",
            "\u001b[K     |████████████████████████████████| 94 kB 1.5 MB/s \n",
            "\u001b[?25hRequirement already satisfied: attrs>=17.3.0 in /usr/local/lib/python3.7/dist-packages (from aiohttp->datasets) (21.4.0)\n",
            "Requirement already satisfied: zipp>=0.5 in /usr/local/lib/python3.7/dist-packages (from importlib-metadata->datasets) (3.8.0)\n",
            "Requirement already satisfied: pytz>=2017.3 in /usr/local/lib/python3.7/dist-packages (from pandas->datasets) (2022.1)\n",
            "Requirement already satisfied: python-dateutil>=2.7.3 in /usr/local/lib/python3.7/dist-packages (from pandas->datasets) (2.8.2)\n",
            "Requirement already satisfied: six>=1.5 in /usr/local/lib/python3.7/dist-packages (from python-dateutil>=2.7.3->pandas->datasets) (1.15.0)\n",
            "Installing collected packages: multidict, frozenlist, yarl, urllib3, asynctest, async-timeout, aiosignal, fsspec, aiohttp, xxhash, responses, datasets\n",
            "  Attempting uninstall: urllib3\n",
            "    Found existing installation: urllib3 1.24.3\n",
            "    Uninstalling urllib3-1.24.3:\n",
            "      Successfully uninstalled urllib3-1.24.3\n",
            "\u001b[31mERROR: pip's dependency resolver does not currently take into account all the packages that are installed. This behaviour is the source of the following dependency conflicts.\n",
            "datascience 0.10.6 requires folium==0.2.1, but you have folium 0.8.3 which is incompatible.\u001b[0m\n",
            "Successfully installed aiohttp-3.8.1 aiosignal-1.2.0 async-timeout-4.0.2 asynctest-0.13.0 datasets-2.1.0 frozenlist-1.3.0 fsspec-2022.3.0 multidict-6.0.2 responses-0.18.0 urllib3-1.25.11 xxhash-3.0.0 yarl-1.7.2\n"
          ]
        }
      ]
    },
    {
      "cell_type": "code",
      "execution_count": null,
      "metadata": {
        "id": "daDv64K6B-cB",
        "colab": {
          "base_uri": "https://localhost:8080/"
        },
        "outputId": "523d23bd-34fa-4fb4-a6e1-924bbb681017"
      },
      "outputs": [
        {
          "output_type": "stream",
          "name": "stdout",
          "text": [
            "[nltk_data] Downloading package stopwords to /root/nltk_data...\n",
            "[nltk_data]   Unzipping corpora/stopwords.zip.\n",
            "[nltk_data] Downloading package wordnet to /root/nltk_data...\n",
            "[nltk_data]   Unzipping corpora/wordnet.zip.\n"
          ]
        },
        {
          "output_type": "execute_result",
          "data": {
            "text/plain": [
              "True"
            ]
          },
          "metadata": {},
          "execution_count": 2
        }
      ],
      "source": [
        "import numpy as np\n",
        "import sklearn\n",
        "import gensim\n",
        "import pandas as pd\n",
        "import torch\n",
        "import threading                 # For multi-threading\n",
        "\n",
        "import nltk\n",
        "nltk.download('stopwords')\n",
        "nltk.download('wordnet')"
      ]
    },
    {
      "cell_type": "code",
      "execution_count": null,
      "metadata": {
        "colab": {
          "base_uri": "https://localhost:8080/"
        },
        "id": "ay1hAmXJIEZX",
        "outputId": "a851052f-b9e4-4f2a-da12-7a19650067b1"
      },
      "outputs": [
        {
          "output_type": "stream",
          "name": "stdout",
          "text": [
            "Mounted at /content/drive\n"
          ]
        }
      ],
      "source": [
        "from google.colab import drive\n",
        "drive.mount('/content/drive')"
      ]
    },
    {
      "cell_type": "code",
      "execution_count": null,
      "metadata": {
        "id": "2ZlkJQhDGoTK"
      },
      "outputs": [],
      "source": [
        "# constants and global variables\n",
        "DATA_PATH = '/content/drive/MyDrive/Colab Notebooks/CIL/Dataset/{}'\n",
        "MODEL_PATH = '/content/drive/MyDrive/Colab Notebooks/CIL/Models/{}'\n",
        "TENSOR_BOARD_PATH = '/content/drive/MyDrive/Colab Notebooks/CIL/Tensorboard/{}'\n",
        "\n",
        "# if set to true the trainig of the classifier models will be performed, otherwise the \n",
        "# models will be loaded from a file (if present)\n",
        "is_train_enabled = True\n",
        "# if set to True the preprocessing for the bert models will be performed.\n",
        "# if set to False the preprocessing for TD_IDF/W2V will be performed\n",
        "is_bert_preprocessing_enabled = False\n",
        "# if set to true the trainig of the W2V model will be performed, otherwise the \n",
        "# model will be loaded from a file (if present)\n",
        "is_w2v_train_enabled = False"
      ]
    },
    {
      "cell_type": "code",
      "source": [
        "# Clear the logs of previous runs of tensorboard\n",
        "!rm -rf /content/drive/MyDrive/Colab\\ Notebooks/CIL/Tensorboard/*\n",
        "\n",
        "# Tensorboard\n",
        "from torch.utils.tensorboard import SummaryWriter\n",
        "\n",
        "training_writer = SummaryWriter(TENSOR_BOARD_PATH.format(\"/train\"))\n",
        "validation_writer = SummaryWriter(TENSOR_BOARD_PATH.format(\"/valid\"))"
      ],
      "metadata": {
        "id": "JxXwu9JGB5FT"
      },
      "execution_count": null,
      "outputs": []
    },
    {
      "cell_type": "markdown",
      "metadata": {
        "id": "UarTFFNLHdbG"
      },
      "source": [
        "# READ DATA"
      ]
    },
    {
      "cell_type": "code",
      "execution_count": null,
      "metadata": {
        "colab": {
          "base_uri": "https://localhost:8080/"
        },
        "id": "JR2w1P5nCOiY",
        "outputId": "f115d77a-50df-4d3c-8fd2-86cd0620e5d8"
      },
      "outputs": [
        {
          "output_type": "stream",
          "name": "stdout",
          "text": [
            "2500000 training/dev tweets loaded\n",
            "10000 test tweets loaded\n",
            "vinco tresorpack 6 ( difficulty 10 of 10 object : disassemble and reassemble the wooden pieces this beautiful wo ... <url>\n",
            "0\n",
            "glad i dot have taks tomorrow ! ! #thankful #startho\n",
            "0\n",
            "1-3 vs celtics in the regular season = were fucked if we play them in the playoffs\n",
            "0\n",
            "<user> i could actually kill that girl i'm so sorry ! ! !\n",
            "0\n",
            "<user> <user> <user> i find that very hard to believe im afraid\n",
            "0\n",
            "wish i could be out all night tonight ! <user>\n",
            "0\n",
            "<user> i got kicked out the wgm\n",
            "0\n",
            "rt <user> <user> <user> yes she is ! u tell it ! my lips are closed okay\n",
            "0\n",
            "why is she so perfect <url>\n",
            "0\n",
            "<user> hi harry ! did u havea good time in aus ? i didnt get 2 see u maybe next year ! follow me back if u can , would bea dreamcome truex\n",
            "0\n",
            "sea doo pro sea scooter ( sports with the portable sea-doo seascootersave air\n",
            "<user> shucks well i work all week so now i can't come cheer you on ! oh and put those batteries in your calculator ! ! !\n",
            "i cant stay away from bug thats my baby\n",
            "<user> no ma'am ! ! ! lol im perfectly fine and not contagious anymore lmao\n",
            "whenever i fall asleep watching the tv\n",
            "<user> he needs to get rid of that thing ! it scares me lol but he don't need a car either . he needs drivers ed again .\n",
            "its whatever . in a terrible mood ( (\n",
            "yesss ! rt <user> <user> thanks jordan\n",
            "my friend <user> text me to check up on me last night .\n",
            "<user> #followback please . when will ur #unitytour come to europe and sweden ? ?\n"
          ]
        }
      ],
      "source": [
        "tweets = []\n",
        "labels = []\n",
        "\n",
        "def load_tweets(filename, label):\n",
        "    with open(filename, 'r', encoding='utf-8') as f:\n",
        "        for line in f:\n",
        "            tweets.append(line.rstrip())\n",
        "            labels.append(label)\n",
        "\n",
        "# load training tweets   \n",
        "load_tweets(DATA_PATH.format('train_neg_full.txt'), 0)\n",
        "load_tweets(DATA_PATH.format('train_pos_full.txt'), 1)\n",
        "# Convert to NumPy array to facilitate indexing\n",
        "print(f'{len(tweets)} training/dev tweets loaded')\n",
        "tweets = np.array(tweets)\n",
        "labels = np.array(labels)\n",
        "\n",
        "# load the test file\n",
        "f = open(DATA_PATH.format('test_data.txt'), 'r', encoding='utf-8')\n",
        "X_test = []\n",
        "for line in f:\n",
        "  X_test.append(line.split(',')[1].rstrip())\n",
        "X_test = np.array(X_test)\n",
        "print(f'{len(X_test)} test tweets loaded')\n",
        "\n",
        "\n",
        "for i in range(10):\n",
        "    print(tweets[i])\n",
        "    print(labels[i])\n",
        "\n",
        "for i in range(10):\n",
        "  print(X_test[i])"
      ]
    },
    {
      "cell_type": "markdown",
      "source": [
        "# Preprocessing\n",
        "perform cleaning and tokenization of the data set. There are two different routines, one for the standard machine learning models (trees, svc, mlp, etc...) and one for the bert models"
      ],
      "metadata": {
        "id": "r5NUPzxM11A3"
      }
    },
    {
      "cell_type": "code",
      "source": [
        "from transformers import AutoTokenizer\n",
        "\n",
        "# built-in tokenization function for the pretrained BERT models\n",
        "def tokenize_function(tweet):\n",
        "    return tokenizer(tweet, padding=True, truncation=True, max_length=30)"
      ],
      "metadata": {
        "id": "xMinCsUOTeDJ"
      },
      "execution_count": null,
      "outputs": []
    },
    {
      "cell_type": "code",
      "source": [
        "# preprocessing for the bert models \n",
        "if is_bert_preprocessing_enabled:\n",
        "  \n",
        "  # Lowercasing sentence\n",
        "  tweets = list(map(lambda tweet : tweet.lower(), tweets))\n",
        "  X_test = list(map(lambda tweet : tweet.lower(), X_test))\n",
        "\n",
        "  tokenizer = AutoTokenizer.from_pretrained(\"bert-base-cased\")\n",
        "  tweets = tweets.map(tokenize_function, batched=True)\n",
        "  X_test = X_test.map(tokenize_function, batched=True)"
      ],
      "metadata": {
        "id": "G8RzZxhh15ZW"
      },
      "execution_count": null,
      "outputs": []
    },
    {
      "cell_type": "code",
      "source": [
        "# preprocessing for the non bert models\n",
        "if not is_bert_preprocessing_enabled:\n",
        "  # Lowercasing sentence\n",
        "  tweets = list(map(lambda tweet : tweet.lower(), tweets))\n",
        "  X_test = list(map(lambda tweet : tweet.lower(), X_test))\n",
        "\n",
        "  # TODO: remove url, user, link and numbers and other common words\n",
        "\n",
        "  from nltk.tokenize import RegexpTokenizer\n",
        "  # Tokenizing sentence\n",
        "  tokenizer = RegexpTokenizer(r'\\w+')\n",
        "  tweets = list(map(lambda tweet : tokenizer.tokenize(tweet), tweets))\n",
        "  X_test = list(map(lambda tweet : tokenizer.tokenize(tweet), X_test))\n",
        "\n",
        "  from nltk.corpus import stopwords\n",
        "  # Removing stopwords\n",
        "  stopwords_set = stopwords.words('english')\n",
        "  tweets = list(map(lambda tweet  : [w for w in tweet if not w in stopwords_set], tweets))\n",
        "  X_test = list(map(lambda tweet  : [w for w in tweet if not w in stopwords_set], X_test))\n",
        "\n",
        "  from nltk.stem import WordNetLemmatizer\n",
        "  # Lemmatizing\n",
        "  lemmatizer = WordNetLemmatizer()\n",
        "  tweets = list(map(lambda tweet : [lemmatizer.lemmatize(w) for w in tweet], tweets))\n",
        "  X_test = list(map(lambda tweet : [lemmatizer.lemmatize(w) for w in tweet], X_test))\n",
        "\n",
        "  # TODO: detect bigrams"
      ],
      "metadata": {
        "id": "22eKvQEYUC3V"
      },
      "execution_count": null,
      "outputs": []
    },
    {
      "cell_type": "code",
      "source": [
        "for i in range(20):\n",
        "  print(tweets[i])\n",
        "\n",
        "print(\"\\n\\n\\n\")\n",
        "\n",
        "for i in range(20):\n",
        "  print(X_test[i])"
      ],
      "metadata": {
        "colab": {
          "base_uri": "https://localhost:8080/"
        },
        "id": "AhKDf1WyUWR3",
        "outputId": "67f97304-287b-43e3-faa0-83bb08010165"
      },
      "execution_count": null,
      "outputs": [
        {
          "output_type": "stream",
          "name": "stdout",
          "text": [
            "['vinco', 'tresorpack', '6', 'difficulty', '10', '10', 'object', 'disassemble', 'reassemble', 'wooden', 'piece', 'beautiful', 'wo', 'url']\n",
            "['glad', 'dot', 'taks', 'tomorrow', 'thankful', 'startho']\n",
            "['1', '3', 'v', 'celtic', 'regular', 'season', 'fucked', 'play', 'playoff']\n",
            "['user', 'could', 'actually', 'kill', 'girl', 'sorry']\n",
            "['user', 'user', 'user', 'find', 'hard', 'believe', 'im', 'afraid']\n",
            "['wish', 'could', 'night', 'tonight', 'user']\n",
            "['user', 'got', 'kicked', 'wgm']\n",
            "['rt', 'user', 'user', 'user', 'yes', 'u', 'tell', 'lip', 'closed', 'okay']\n",
            "['perfect', 'url']\n",
            "['user', 'hi', 'harry', 'u', 'havea', 'good', 'time', 'au', 'didnt', 'get', '2', 'see', 'u', 'maybe', 'next', 'year', 'follow', 'back', 'u', 'would', 'bea', 'dreamcome', 'truex']\n",
            "['introduction', 'programming', 'c', '2nd', 'edition', 'solid', 'foundation', 'basic', 'c', 'programming', 'url']\n",
            "['introduction', 'programming', 'c', '2nd', 'edition', 'solid', 'foundation', 'basic', 'c', 'programming', 'url']\n",
            "['introduction', 'programming', 'c', '2nd', 'edition', 'solid', 'foundation', 'basic', 'c', 'programming', 'url']\n",
            "['user', 'white', 'aw']\n",
            "['user', 'dan', 'love', 'miss', 'sad', 'wheresthegeneral']\n",
            "['many', 'wonderful', 'building', 'dc', 'still', 'miss', 'user']\n",
            "['user', 'annoying', 'secretly', 'find', 'good']\n",
            "['post', 'boom', 'spanish', 'american', 'fiction', 'suny', 'series', 'latin', 'american', 'iberian', 'thought', 'culture', 'url']\n",
            "['layer', 'heart', 'paperback', 'journey', 'inspired', 'recent', 'robbery', 'took', 'place', 'united', 'sta', 'url']\n",
            "['layer', 'heart', 'paperback', 'journey', 'inspired', 'recent', 'robbery', 'took', 'place', 'united', 'sta', 'url']\n",
            "\n",
            "\n",
            "\n",
            "\n",
            "['sea', 'doo', 'pro', 'sea', 'scooter', 'sport', 'portable', 'sea', 'doo', 'seascootersave', 'air']\n",
            "['user', 'shuck', 'well', 'work', 'week', 'come', 'cheer', 'oh', 'put', 'battery', 'calculator']\n",
            "['cant', 'stay', 'away', 'bug', 'thats', 'baby']\n",
            "['user', 'lol', 'im', 'perfectly', 'fine', 'contagious', 'anymore', 'lmao']\n",
            "['whenever', 'fall', 'asleep', 'watching', 'tv']\n",
            "['user', 'need', 'get', 'rid', 'thing', 'scare', 'lol', 'need', 'car', 'either', 'need', 'driver', 'ed']\n",
            "['whatever', 'terrible', 'mood']\n",
            "['yes', 'rt', 'user', 'user', 'thanks', 'jordan']\n",
            "['friend', 'user', 'text', 'check', 'last', 'night']\n",
            "['user', 'followback', 'please', 'ur', 'unitytour', 'come', 'europe', 'sweden']\n",
            "['watch', 'dumb', 'ass', 'get', 'lock', 'today', 'happy420']\n",
            "['obsessed', 'phasell', 'user', 'killed', 'best', 'album', 'ever', 'love', 'yew', 'roycee', 'rt']\n",
            "['user', 'robert', 'de', 'niro', 'gay', 'name', 'like', 'lewy']\n",
            "['user', 'canada', 'grade', '12', 'since', 'grade', '12']\n",
            "['user', 'please', 'say', 'hi', 'denmark', 'would', 'amazing', 'user', 'live', 'url']\n",
            "['finally', 'home']\n",
            "['3x3', 'custom', 'picture', 'frame', 'poster', 'frame', '1', '2', 'wide', 'complete', 'gold', 'frame', '2380763', '9gd', 'frame', 'manufactured', 'url']\n",
            "['new', 'follower', 'mention', 'followback', 'boo']\n",
            "['user', 'yep']\n",
            "['nhl', 'bettman', 'suspension', 'criticism', 'gamesmanship', 'associated', 'press', 'new', 'york', 'ap', 'nhl', 'url', 'predator', 'nhl']\n"
          ]
        }
      ]
    },
    {
      "cell_type": "code",
      "source": [
        "# shuffle the training data\n",
        "from sklearn.utils import shuffle\n",
        "\n",
        "X_train, y_train = shuffle(tweets, labels, random_state=42)"
      ],
      "metadata": {
        "id": "dds-WL8v7h4F"
      },
      "execution_count": null,
      "outputs": []
    },
    {
      "cell_type": "markdown",
      "metadata": {
        "id": "wLGfqcvEHhRj"
      },
      "source": [
        "# INITIAL EXPLORATION"
      ]
    },
    {
      "cell_type": "code",
      "execution_count": null,
      "metadata": {
        "colab": {
          "base_uri": "https://localhost:8080/"
        },
        "id": "0YGXIVtwF1C7",
        "outputId": "9cd97cbe-f761-43d6-ad7e-38d827525088"
      },
      "outputs": [
        {
          "output_type": "stream",
          "name": "stdout",
          "text": [
            "In our dataset there are 1250000 negative tweets\n",
            "In our dataset there are 1250000 positive tweets\n"
          ]
        }
      ],
      "source": [
        "# get number of positive and negative tweets\n",
        "print(f\"In our dataset there are {(labels == 0).sum()} negative tweets\")\n",
        "print(f\"In our dataset there are {(labels == 1).sum()} positive tweets\")"
      ]
    },
    {
      "cell_type": "code",
      "execution_count": null,
      "metadata": {
        "colab": {
          "base_uri": "https://localhost:8080/"
        },
        "id": "ivQ_UyYXD1zi",
        "outputId": "5ca65ee8-7444-4995-9d2e-3c7bfa8210fb"
      },
      "outputs": [
        {
          "output_type": "stream",
          "name": "stdout",
          "text": [
            "The average length of tweets with a negative sentiment is: 9.7352336\n",
            "The average length of tweets with a positive sentiment is: 7.4341976\n"
          ]
        }
      ],
      "source": [
        "# get the average length of positive and negative examples\n",
        "def get_average_length(target_label):\n",
        "  len_tweets = []\n",
        "  for tweet, label in zip(tweets, labels):\n",
        "    if label == target_label:\n",
        "      len_tweets.append(len(tweet))\n",
        "  \n",
        "  return np.array(len_tweets).mean()\n",
        "\n",
        "# NOTE: postive tweets seem to be longer on average than negative tweets.\n",
        "# TODO: check if this thing can be used at our advantange in training\n",
        "if not is_bert_preprocessing_enabled:\n",
        "  print(f\"The average length of tweets with a negative sentiment is: {get_average_length(0)}\")\n",
        "  print(f\"The average length of tweets with a positive sentiment is: {get_average_length(1)}\")"
      ]
    },
    {
      "cell_type": "code",
      "source": [
        "# get most frequent words in positive and negative examples\n",
        "def count_words(target_label):\n",
        "  words_occurrences = {}\n",
        "  for tweet, label in zip(tweets, labels):\n",
        "    if label == target_label:\n",
        "      for word in tweet:\n",
        "        words_occurrences[word] = words_occurrences.get(word, 0) + 1\n",
        "\n",
        "  return words_occurrences\n",
        "\n",
        "\n",
        "from collections import Counter\n",
        "\n",
        "if not is_bert_preprocessing_enabled:\n",
        "  # negative tweets\n",
        "  print(\"NEGATIVE TWEETS:\")\n",
        "  negative = count_words(0)\n",
        "  print(dict(Counter(negative).most_common(100)))\n",
        "  # print uniques words in the negative tweets\n",
        "  print(len(negative))\n",
        "\n",
        "  # positive tweets\n",
        "  print(\"\\n\\n\\n POSITIVE TWEETS:\")\n",
        "  positive = count_words(1)\n",
        "  print(dict(Counter(positive).most_common(100)))\n",
        "  # print uniques words in the positive tweets\n",
        "  print(len(positive))"
      ],
      "metadata": {
        "colab": {
          "base_uri": "https://localhost:8080/"
        },
        "id": "WTDyENY06On1",
        "outputId": "ccae8ace-6605-441d-b9b5-20b7b63ec5c8"
      },
      "execution_count": null,
      "outputs": [
        {
          "output_type": "stream",
          "name": "stdout",
          "text": [
            "NEGATIVE TWEETS:\n",
            "{'user': 579290, 'url': 428041, 'frame': 102464, '2': 59746, '1': 59459, 'rt': 56658, 'like': 55673, '3': 54515, 'u': 52488, 'get': 52067, 'go': 50980, 'one': 48103, 'want': 45193, 'paperback': 43726, 'miss': 42609, 'know': 42561, 'day': 38829, 'really': 36500, 'time': 35358, 'love': 34868, 'pack': 32850, 'black': 32752, 'see': 32029, 'x': 31429, 'please': 31428, '5': 31329, 'complete': 31283, 'back': 31109, '4': 30968, 'picture': 30957, 'need': 30432, 'lol': 30146, 'wish': 29888, 'got': 28315, 'im': 28047, 'going': 27808, 'today': 27585, 'wide': 27324, 'feel': 26855, 'poster': 26620, 'new': 26317, 'custom': 26146, 'make': 24955, 'sad': 24903, 'think': 24530, '8': 24527, 'work': 24335, 'good': 24202, 'come': 23695, 'never': 23377, 'much': 23338, 'still': 23055, 'edition': 22846, 'hate': 22774, '6': 22597, 'follow': 21341, 'home': 20523, 'wanna': 20324, 'would': 20053, 'sorry': 19781, 'friend': 19595, 'right': 19427, 'life': 19338, 'year': 19174, 'book': 18919, 'school': 18628, 'bad': 18589, 'last': 18375, 'oh': 18193, 'even': 17355, 'night': 17016, 'could': 16928, 'hardcover': 16884, 'cry': 16873, 'well': 16763, 'set': 16661, 'gonna': 16432, 'people': 16321, '10': 15915, 'tomorrow': 15879, 'cd': 15771, 'thing': 15577, 'dvd': 15502, 'way': 15439, 'sleep': 15390, 'say': 15374, 'phone': 15225, 'world': 15177, 'haha': 14756, 'girl': 14704, 'omg': 14682, 'series': 14586, 'white': 14545, 'take': 14471, 'man': 14235, 'dont': 14144, 'video': 13960, 'wood': 13953, 'week': 13901, 'case': 13810}\n",
            "324693\n",
            "\n",
            "\n",
            "\n",
            " POSITIVE TWEETS:\n",
            "{'user': 1027448, 'url': 98964, 'love': 95837, 'rt': 87663, 'u': 76740, 'good': 72723, 'follow': 72095, 'like': 67511, 'lol': 67275, 'thanks': 63631, 'get': 62675, 'day': 59774, 'know': 58092, '3': 54618, 'one': 53893, 'please': 50787, 'go': 44505, 'haha': 43321, 'see': 42012, 'back': 40978, 'time': 39416, 'thank': 37168, 'x': 36757, 'got': 35625, 'make': 35242, 'today': 35080, 'want': 34879, 'think': 32595, 'happy': 32063, 'well': 30897, 'im': 30095, 'going': 28933, 'girl': 28651, 'best': 27018, 'really': 27001, 'would': 26842, 'much': 25912, 'night': 25268, 'come': 25131, 'need': 25041, 'hope': 24448, 'say': 24133, 'new': 24043, 'xx': 24033, 'tweet': 23744, 'tomorrow': 22950, 'great': 22660, 'yeah': 22594, 'oh': 22517, 'hey': 22394, 'friend': 22282, 'guy': 22175, 'let': 21779, 'yes': 21569, 'look': 21340, 'people': 20541, 'wait': 20379, 'right': 20119, 'thing': 19839, 'birthday': 19749, 'better': 18978, 'nice': 18894, 'always': 18421, 'still': 18029, '2': 17939, 'way': 17690, 'gonna': 17623, 'work': 17260, 'morning': 17006, 'tonight': 16878, 'xxx': 16190, 'life': 16186, 'never': 16127, 'twitter': 16022, 'take': 15935, 'amazing': 15652, 'next': 14999, 'school': 14487, 'feel': 14334, 'boy': 14317, 'beautiful': 14303, 'baby': 14167, 'could': 14165, 'following': 13972, 'everyone': 13770, 'cute': 13745, 'okay': 13717, 'fun': 13605, 'give': 13514, 'wanna': 13418, 'sure': 13301, 'first': 13279, 'though': 13244, 'live': 13202, '4': 13143, 'tell': 13034, 'home': 12918, 'ur': 12836, 'last': 12797, 'pretty': 12644}\n",
            "247452\n"
          ]
        }
      ]
    },
    {
      "cell_type": "markdown",
      "metadata": {
        "id": "MWjfoHu2KwEx"
      },
      "source": [
        "# Words embeddings"
      ]
    },
    {
      "cell_type": "markdown",
      "metadata": {
        "id": "qn4wCyoSK0lB"
      },
      "source": [
        "## TF-IDF"
      ]
    },
    {
      "cell_type": "code",
      "source": [
        "# TODO"
      ],
      "metadata": {
        "id": "YWZLpCcnMe-t"
      },
      "execution_count": null,
      "outputs": []
    },
    {
      "cell_type": "markdown",
      "metadata": {
        "id": "Wtbgm8TgK0hp"
      },
      "source": [
        "## W2V"
      ]
    },
    {
      "cell_type": "code",
      "source": [
        "from gensim.models import Word2Vec\n",
        "import multiprocessing\n",
        "\n",
        "# Count the number of cores in the computer\n",
        "cores = multiprocessing.cpu_count()\n",
        "print(cores)\n",
        "\n",
        "# define the  W2V model\n",
        "# TODO: experiment with different hyperparameters\n",
        "w2v_model = Word2Vec(min_count=10,\n",
        "                     window=3,\n",
        "                     size=220,\n",
        "                     sample=6e-5, \n",
        "                     alpha=0.03, \n",
        "                     min_alpha=0.0007, \n",
        "                     negative=5,\n",
        "                     workers=cores-1)"
      ],
      "metadata": {
        "colab": {
          "base_uri": "https://localhost:8080/"
        },
        "id": "mPrJilY86pKl",
        "outputId": "f0eb415b-9efc-4dd9-ee3b-8ea144eb35d6"
      },
      "execution_count": null,
      "outputs": [
        {
          "output_type": "stream",
          "name": "stdout",
          "text": [
            "4\n"
          ]
        }
      ]
    },
    {
      "cell_type": "code",
      "source": [
        "#  build the vocabulary table\n",
        "if is_w2v_train_enabled:\n",
        "  w2v_model.build_vocab(X_train)"
      ],
      "metadata": {
        "id": "I_VYgZJG62hx"
      },
      "execution_count": null,
      "outputs": []
    },
    {
      "cell_type": "code",
      "source": [
        "if is_w2v_train_enabled:\n",
        "  # train the model\n",
        "  w2v_model.train(X_train, total_examples=w2v_model.corpus_count, epochs=30, report_delay=1)\n",
        "  \n",
        "  # since we don't plan to train the model any further, we use this function to make the model more memory efficient\n",
        "  w2v_model.init_sims(replace=True)\n",
        "\n",
        "  # save the model to a file so that it can be reused without being trained from scratch\n",
        "  w2v_model.save(MODEL_PATH.format(\"word2vec_200.model\"))"
      ],
      "metadata": {
        "id": "spxiyo3f64O0"
      },
      "execution_count": null,
      "outputs": []
    },
    {
      "cell_type": "code",
      "source": [
        "# load the trained model\n",
        "w2v_model = Word2Vec.load(MODEL_PATH.format(\"word2vec_200.model\"))"
      ],
      "metadata": {
        "id": "VZT9yPDj66JX"
      },
      "execution_count": null,
      "outputs": []
    },
    {
      "cell_type": "markdown",
      "source": [
        "### Data Visualization"
      ],
      "metadata": {
        "id": "MnvcOCrq7DU9"
      }
    },
    {
      "cell_type": "code",
      "source": [
        "# check which words are most similar to\n",
        "w2v_model.wv.most_similar(positive=[\"lol\"])"
      ],
      "metadata": {
        "colab": {
          "base_uri": "https://localhost:8080/"
        },
        "id": "Ct10f4407Fu_",
        "outputId": "66909f19-2c14-41f5-f29f-b9f695ff3144"
      },
      "execution_count": null,
      "outputs": [
        {
          "output_type": "execute_result",
          "data": {
            "text/plain": [
              "[('lmao', 0.8865727186203003),\n",
              " ('tho', 0.8333746790885925),\n",
              " ('haha', 0.7717642188072205),\n",
              " ('lmfao', 0.7281587719917297),\n",
              " ('yea', 0.7275999188423157),\n",
              " ('thats', 0.7223934531211853),\n",
              " ('cuz', 0.7182134389877319),\n",
              " ('hahaha', 0.7142066955566406),\n",
              " ('shit', 0.709229052066803),\n",
              " ('smh', 0.6982873678207397)]"
            ]
          },
          "metadata": {},
          "execution_count": 20
        }
      ]
    },
    {
      "cell_type": "code",
      "source": [
        "# check which words are most similar to\n",
        "w2v_model.wv.most_similar(positive=[\"war\"])"
      ],
      "metadata": {
        "colab": {
          "base_uri": "https://localhost:8080/"
        },
        "id": "OVVHwsxT7HcF",
        "outputId": "9157ebbf-c309-4ae1-e0b0-a664912ffc9b"
      },
      "execution_count": null,
      "outputs": [
        {
          "output_type": "execute_result",
          "data": {
            "text/plain": [
              "[('wwii', 0.5806748867034912),\n",
              " ('civil', 0.5701678395271301),\n",
              " ('napoleonic', 0.5542724132537842),\n",
              " ('1945', 0.5520930290222168),\n",
              " ('boer', 0.5484464168548584),\n",
              " ('soviet', 0.5306030511856079),\n",
              " ('warfare', 0.5247260332107544),\n",
              " ('1943', 0.5238946676254272),\n",
              " ('1939', 0.5214782953262329),\n",
              " ('crusade', 0.5192654132843018)]"
            ]
          },
          "metadata": {},
          "execution_count": 21
        }
      ]
    },
    {
      "cell_type": "code",
      "source": [
        "# check which words are most similar to\n",
        "w2v_model.wv.most_similar(positive=[\"email\"])"
      ],
      "metadata": {
        "colab": {
          "base_uri": "https://localhost:8080/"
        },
        "id": "j5q81UslB8QK",
        "outputId": "713f9166-f9e3-4b0c-bef8-9fcc2915c210"
      },
      "execution_count": null,
      "outputs": [
        {
          "output_type": "execute_result",
          "data": {
            "text/plain": [
              "[('message', 0.6152521371841431),\n",
              " ('dm', 0.5976051092147827),\n",
              " ('fanmail', 0.5599991083145142),\n",
              " ('mail', 0.5475662350654602),\n",
              " ('msg', 0.5178768038749695),\n",
              " ('emailed', 0.5144924521446228),\n",
              " ('hotmail', 0.5121719837188721),\n",
              " ('inbox', 0.5073807835578918),\n",
              " ('info', 0.5003353357315063),\n",
              " ('send', 0.49818187952041626)]"
            ]
          },
          "metadata": {},
          "execution_count": 22
        }
      ]
    },
    {
      "cell_type": "code",
      "source": [
        "# return a number representing how much these two words are similar\n",
        "w2v_model.wv.similarity(\"lol\", 'haha')"
      ],
      "metadata": {
        "colab": {
          "base_uri": "https://localhost:8080/"
        },
        "id": "TflAG96N7JsC",
        "outputId": "3c7f65ed-3703-4aa7-cb17-09acd6c0b108"
      },
      "execution_count": null,
      "outputs": [
        {
          "output_type": "execute_result",
          "data": {
            "text/plain": [
              "0.7717642"
            ]
          },
          "metadata": {},
          "execution_count": 23
        }
      ]
    },
    {
      "cell_type": "code",
      "source": [
        "# return the word that is least similar to the others in the list\n",
        "w2v_model.wv.doesnt_match(['lol', 'haha', 'sad'])"
      ],
      "metadata": {
        "colab": {
          "base_uri": "https://localhost:8080/",
          "height": 176
        },
        "id": "aI0XIT0G7Lem",
        "outputId": "23e4f859-db8c-42ff-e81a-02a689b4758b"
      },
      "execution_count": null,
      "outputs": [
        {
          "output_type": "stream",
          "name": "stderr",
          "text": [
            "/usr/local/lib/python3.7/dist-packages/gensim/models/keyedvectors.py:895: FutureWarning: arrays to stack must be passed as a \"sequence\" type such as list or tuple. Support for non-sequence iterables such as generators is deprecated as of NumPy 1.16 and will raise an error in the future.\n",
            "  vectors = vstack(self.word_vec(word, use_norm=True) for word in used_words).astype(REAL)\n"
          ]
        },
        {
          "output_type": "execute_result",
          "data": {
            "text/plain": [
              "'sad'"
            ],
            "application/vnd.google.colaboratory.intrinsic+json": {
              "type": "string"
            }
          },
          "metadata": {},
          "execution_count": 24
        }
      ]
    },
    {
      "cell_type": "code",
      "source": [
        "import matplotlib.pyplot as plt\n",
        "%matplotlib inline\n",
        " \n",
        "import seaborn as sns\n",
        "sns.set_style(\"darkgrid\")\n",
        "\n",
        "from sklearn.decomposition import PCA\n",
        "from sklearn.manifold import TSNE\n",
        "\n",
        "# draw words on a graph. Similar words  are close together in the graph.\n",
        "def tsnescatterplot(model, word, list_names):\n",
        "    \"\"\" Plot in seaborn the results from the t-SNE dimensionality reduction algorithm of the vectors of a query word,\n",
        "    its list of most similar words, and a list of words.\n",
        "    \"\"\"\n",
        "    arrays = np.empty((0, w2v_model.vector_size), dtype='f')\n",
        "    word_labels = [word]\n",
        "    color_list  = ['red']\n",
        "\n",
        "    # adds the vector of the query word\n",
        "    arrays = np.append(arrays, model.wv.__getitem__([word]), axis=0)\n",
        "    \n",
        "    # gets list of most similar words\n",
        "    close_words = model.wv.most_similar([word])\n",
        "    \n",
        "    # adds the vector for each of the closest words to the array\n",
        "    for wrd_score in close_words:\n",
        "        wrd_vector = model.wv.__getitem__([wrd_score[0]])\n",
        "        word_labels.append(wrd_score[0])\n",
        "        color_list.append('blue')\n",
        "        arrays = np.append(arrays, wrd_vector, axis=0)\n",
        "    \n",
        "    # adds the vector for each of the words from list_names to the array\n",
        "    for wrd in list_names:\n",
        "        wrd_vector = model.wv.__getitem__([wrd])\n",
        "        word_labels.append(wrd)\n",
        "        color_list.append('green')\n",
        "        arrays = np.append(arrays, wrd_vector, axis=0)\n",
        "        \n",
        "    # Reduces the dimensionality from 300 to 50 dimensions with PCA\n",
        "    reduc = PCA(n_components=19).fit_transform(arrays)\n",
        "    \n",
        "    # Finds t-SNE coordinates for 2 dimensions\n",
        "    np.set_printoptions(suppress=True)\n",
        "    \n",
        "    Y = TSNE(n_components=2, random_state=0, perplexity=15).fit_transform(reduc)\n",
        "    \n",
        "    # Sets everything up to plot\n",
        "    df = pd.DataFrame({'x': [x for x in Y[:, 0]],\n",
        "                       'y': [y for y in Y[:, 1]],\n",
        "                       'words': word_labels,\n",
        "                       'color': color_list})\n",
        "    \n",
        "    fig, _ = plt.subplots()\n",
        "    fig.set_size_inches(9, 9)\n",
        "    \n",
        "    # Basic plot\n",
        "    p1 = sns.regplot(data=df,\n",
        "                     x=\"x\",\n",
        "                     y=\"y\",\n",
        "                     fit_reg=False,\n",
        "                     marker=\"o\",\n",
        "                     scatter_kws={'s': 40,\n",
        "                                  'facecolors': df['color']\n",
        "                                 }\n",
        "                    )\n",
        "    \n",
        "    # Adds annotations one by one with a loop\n",
        "    for line in range(0, df.shape[0]):\n",
        "         p1.text(df[\"x\"][line],\n",
        "                 df['y'][line],\n",
        "                 '  ' + df[\"words\"][line].title(),\n",
        "                 horizontalalignment='left',\n",
        "                 verticalalignment='bottom', size='medium',\n",
        "                 color=df['color'][line],\n",
        "                 weight='normal'\n",
        "                ).set_size(15)\n",
        "\n",
        "    \n",
        "    plt.xlim(Y[:, 0].min()-50, Y[:, 0].max()+50)\n",
        "    plt.ylim(Y[:, 1].min()-50, Y[:, 1].max()+50)\n",
        "            \n",
        "    plt.title('t-SNE visualization for {}'.format(word.title()))"
      ],
      "metadata": {
        "id": "qbYFgSd67QTl"
      },
      "execution_count": null,
      "outputs": []
    },
    {
      "cell_type": "code",
      "source": [
        "# visualize the 10 most similar words to doctor and 8 random words\n",
        "tsnescatterplot(w2v_model, 'lol', ['dog', 'bird', 'table', 'watch', 'pen', 'plant', 'bottle', 'backpack'])"
      ],
      "metadata": {
        "colab": {
          "base_uri": "https://localhost:8080/",
          "height": 122
        },
        "id": "rCZDq1Jc7Tdq",
        "outputId": "590cdfef-7685-4934-c8a8-c30468879a9f"
      },
      "execution_count": null,
      "outputs": [
        {
          "output_type": "stream",
          "name": "stderr",
          "text": [
            "/usr/local/lib/python3.7/dist-packages/sklearn/manifold/_t_sne.py:783: FutureWarning: The default initialization in TSNE will change from 'random' to 'pca' in 1.2.\n",
            "  FutureWarning,\n",
            "/usr/local/lib/python3.7/dist-packages/sklearn/manifold/_t_sne.py:793: FutureWarning: The default learning rate in TSNE will change from 200.0 to 'auto' in 1.2.\n",
            "  FutureWarning,\n"
          ]
        },
        {
          "output_type": "display_data",
          "data": {
            "text/plain": [
              "<Figure size 648x648 with 1 Axes>"
            ],
            "image/png": "[encoded data removed]"
          },
          "metadata": {}
        }
      ]
    },
    {
      "cell_type": "markdown",
      "source": [
        "## Sentence Embeddings"
      ],
      "metadata": {
        "id": "GaZCD3WCIQdz"
      }
    },
    {
      "cell_type": "code",
      "source": [
        "# given a list of sentences, for each sentence compute its emebedding by\n",
        "# computing the embedding of each word in the sentence and then divide by the\n",
        "# length of the phrase\n",
        "def generate_senteces_embeddings(X):\n",
        "  \n",
        "  sentences_embedding = []\n",
        "  # for each sentence in the set\n",
        "  for sentence in X:\n",
        "    sentence_length = len(sentence)\n",
        "    # this variable will hold the sum of each word embedding in the current phrase\n",
        "    sentence_embedding = np.zeros(w2v_model.vector_size)\n",
        "    # for each word in the sentence\n",
        "    for word in sentence:\n",
        "      # embedding of the current word\n",
        "      word_embedding = np.zeros(w2v_model.vector_size)\n",
        "\n",
        "      # compute the embedding of the current word. This is not always possible as\n",
        "      # not every word is in our dictionary. If this is not possible I simply discard\n",
        "      # the word and decrese the sentence length by 1. \n",
        "      try:\n",
        "        word_embedding = w2v_model.wv[word]\n",
        "      except KeyError:\n",
        "        sentence_length = sentence_length - 1\n",
        "      \n",
        "      sentence_embedding = sentence_embedding + word_embedding \n",
        "    \n",
        "    # in our dataset there are some (very few) length 1 sentences\n",
        "    # with one single word that is not part of the model vocabulary.\n",
        "    # In order to prevent a divison by 0, this if stattement is necessary.\n",
        "    if sentence_length == 0:\n",
        "      sentence_embedding = np.zeros(w2v_model.vector_size)\n",
        "    else:\n",
        "      sentence_embedding = sentence_embedding / sentence_length\n",
        "\n",
        "    # add the sentence embedding to the list that will be returned\n",
        "    sentences_embedding.append(np.array(sentence_embedding))\n",
        "  \n",
        "\n",
        "  return sentences_embedding\n",
        "\n",
        "X_train = np.array(generate_senteces_embeddings(X_train))\n",
        "X_test = np.array(generate_senteces_embeddings(X_test))"
      ],
      "metadata": {
        "id": "xovuEu1tIQpu"
      },
      "execution_count": null,
      "outputs": []
    },
    {
      "cell_type": "markdown",
      "metadata": {
        "id": "_viGci2MLCRo"
      },
      "source": [
        "# General Models\n",
        "Apply standard machine learning models to the words embeddings that come out of TF-IDF and W2V."
      ]
    },
    {
      "cell_type": "markdown",
      "source": [
        "## Multi Layer Perceptron\n",
        "(pytorch)"
      ],
      "metadata": {
        "id": "RTtULnfLImuj"
      }
    },
    {
      "cell_type": "code",
      "source": [
        "# use GPU if available\n",
        "device = torch.device('cuda' if torch.cuda.is_available() else 'cpu')\n",
        "print(f\"Device is {device}.\")"
      ],
      "metadata": {
        "colab": {
          "base_uri": "https://localhost:8080/"
        },
        "id": "01KPoNuFyzy0",
        "outputId": "eee992dc-6caf-4e67-fa4d-6d155059e8b5"
      },
      "execution_count": null,
      "outputs": [
        {
          "output_type": "stream",
          "name": "stdout",
          "text": [
            "Device is cuda.\n"
          ]
        }
      ]
    },
    {
      "cell_type": "code",
      "source": [
        "from sklearn.model_selection import train_test_split\n",
        "\n",
        "# split the model into training test and validation\n",
        "X_train, X_test_tmp, y_train, y_test_tmp = train_test_split(X_train, y_train, test_size=0.20, random_state=33)\n",
        "X_train, X_val, y_train, y_val = train_test_split(X_train, y_train, test_size=0.12, random_state=33)\n",
        "\n",
        "# Boiler plate code for Pytorch...:\n",
        "\n",
        "# create tensor for the training data\n",
        "X_train = torch.tensor(X_train, device=device).float()\n",
        "y_train = torch.tensor(y_train, device=device).float()\n",
        "# create tensor for the test data\n",
        "X_test_tmp = torch.tensor(X_test_tmp, device=device).float()\n",
        "y_test_tmp = torch.tensor(y_test_tmp, device=device).float()\n",
        "# create tensor for the validation data\n",
        "X_val = torch.tensor(X_val, device=device).float()\n",
        "len_validation_set = len(X_val)\n",
        "y_val = torch.tensor(y_val, device=device).float()\n",
        "\n",
        "# create datasets \n",
        "training_set = torch.utils.data.TensorDataset(X_train, y_train)\n",
        "test_set = torch.utils.data.TensorDataset(X_test_tmp, y_test_tmp)\n",
        "val_set = torch.utils.data.TensorDataset(X_val, y_val)\n",
        "\n",
        "batch_size = 128\n",
        "# create dataloader for training test and validation datasets \n",
        "train_loader = torch.utils.data.DataLoader(training_set, batch_size=batch_size, shuffle=True)\n",
        "test_loader = torch.utils.data.DataLoader(test_set, batch_size=batch_size, shuffle=True)\n",
        "val_loader = torch.utils.data.DataLoader(val_set, batch_size=batch_size, shuffle=True)"
      ],
      "metadata": {
        "id": "hO3aVMAJJwMb"
      },
      "execution_count": null,
      "outputs": []
    },
    {
      "cell_type": "code",
      "source": [
        "import torch.nn as nn\n",
        "import torch.nn.functional as F\n",
        "\n",
        "# define NN architecture\n",
        "class Net(nn.Module):\n",
        "    def __init__(self):\n",
        "        super(Net,self).__init__()\n",
        "        \n",
        "        # input layer\n",
        "        self.fc1 = nn.Linear(w2v_model.vector_size, 512)\n",
        "        self.fc2 = nn.Linear(512, 512)\n",
        "        # hidden layers\n",
        "        self.fc3 = nn.Linear(512,256)\n",
        "        self.fc4 = nn.Linear(256, 256)\n",
        "        self.fc5 = nn.Linear(256, 128)\n",
        "        self.fc6 = nn.Linear(128, 128)\n",
        "        self.fc7 = nn.Linear(128, 64)\n",
        "        self.fc8 = nn.Linear(64, 64)\n",
        "        self.fc9 = nn.Linear(64, 32)\n",
        "        self.fc10 = nn.Linear(32, 32)\n",
        "\n",
        "        # output layer\n",
        "        self.fc11 = nn.Linear(32,2)\n",
        "\n",
        "        # droput layer\n",
        "        self.droput = nn.Dropout(0.2)\n",
        "   \n",
        "        \n",
        "    def forward(self,x):\n",
        "        # add hidden layer, with relu activation function\n",
        "        x = F.relu(self.fc1(x))\n",
        "        # add hidden layer, with relu activation function\n",
        "        x = F.relu(self.fc2(x))\n",
        "        # add dropout layer\n",
        "        x = self.droput(x)\n",
        "\n",
        "        x = F.relu(self.fc3(x))\n",
        "        x = F.relu(self.fc4(x))\n",
        "        x = self.droput(x)\n",
        "\n",
        "        x = F.relu(self.fc5(x))\n",
        "        x = F.relu(self.fc6(x))\n",
        "        x = self.droput(x)\n",
        "\n",
        "        x = F.relu(self.fc7(x))\n",
        "        x = F.relu(self.fc8(x))\n",
        "        x = self.droput(x)\n",
        "\n",
        "        x = F.relu(self.fc9(x))\n",
        "        x = F.relu(self.fc10(x))\n",
        "\n",
        "        # add output layer\n",
        "        x = self.fc11(x)\n",
        "        x = torch.log_softmax(x, dim=1)\n",
        "        \n",
        "        return x\n",
        "\n",
        "# initialize the NN\n",
        "model = Net()\n",
        "# add the device to the chosen device (GPU)\n",
        "model = model.to(device)\n",
        "print(model)"
      ],
      "metadata": {
        "colab": {
          "base_uri": "https://localhost:8080/"
        },
        "id": "Ct5tFsJ42LaG",
        "outputId": "7a284f97-7b59-4032-e7a1-d56051bf9e6b"
      },
      "execution_count": null,
      "outputs": [
        {
          "output_type": "stream",
          "name": "stdout",
          "text": [
            "Net(\n",
            "  (fc1): Linear(in_features=200, out_features=512, bias=True)\n",
            "  (fc2): Linear(in_features=512, out_features=512, bias=True)\n",
            "  (fc3): Linear(in_features=512, out_features=256, bias=True)\n",
            "  (fc4): Linear(in_features=256, out_features=256, bias=True)\n",
            "  (fc5): Linear(in_features=256, out_features=128, bias=True)\n",
            "  (fc6): Linear(in_features=128, out_features=128, bias=True)\n",
            "  (fc7): Linear(in_features=128, out_features=64, bias=True)\n",
            "  (fc8): Linear(in_features=64, out_features=64, bias=True)\n",
            "  (fc9): Linear(in_features=64, out_features=32, bias=True)\n",
            "  (fc10): Linear(in_features=32, out_features=32, bias=True)\n",
            "  (fc11): Linear(in_features=32, out_features=2, bias=True)\n",
            "  (droput): Dropout(p=0.2, inplace=False)\n",
            ")\n"
          ]
        }
      ]
    },
    {
      "cell_type": "code",
      "source": [
        "# Keep track of the numbers of epochs executed so far\n",
        "NUM_EPOCH = 0\n",
        "NUM_STEPS = 0\n",
        "\n",
        "# Loss: Cross-Entropy\n",
        "cross_entropy_loss = torch.nn.CrossEntropyLoss()\n",
        "\n",
        "# count total number of parameters including non trainable\n",
        "total_params_count = sum(p.numel() for p in model.parameters())\n",
        "# count total trainable parameters\n",
        "trainable_params_count = sum(p.numel() for p in model.parameters() if p.requires_grad)\n",
        "\n",
        "print(f\"Total number of trainable parameters: {total_params_count}\")\n",
        "print(f\"Number of trainable parameters: {trainable_params_count}\")\n",
        "\n",
        "# Optimizer: Adam \n",
        "learning_rate = 0.001\n",
        "optimizer = torch.optim.Adam(model.parameters(), lr=learning_rate)"
      ],
      "metadata": {
        "colab": {
          "base_uri": "https://localhost:8080/"
        },
        "id": "n_vcVXFe9Vrj",
        "outputId": "cf05d919-2d38-4eca-85f3-151ee8f7ee6c"
      },
      "execution_count": null,
      "outputs": [
        {
          "output_type": "stream",
          "name": "stdout",
          "text": [
            "Total number of trainable parameters: 627714\n",
            "Number of trainable parameters: 627714\n"
          ]
        }
      ]
    },
    {
      "cell_type": "code",
      "source": [
        "# Train model for 1 epoch.\n",
        "def train_step():\n",
        "\n",
        "    global NUM_STEPS\n",
        "\n",
        "    # put the model in training mode\n",
        "    model.train()\n",
        "\n",
        "    for i, (tweet, label) in enumerate(train_loader):\n",
        "        label = label.type(torch.LongTensor)              # casting to long\n",
        "        tweet, label = tweet.to(device), label.to(device) # put the data on the selected execution device\n",
        "        optimizer.zero_grad()                             # zero the parameter gradients\n",
        "        output = model(tweet)                             # forward pass\n",
        "        loss = cross_entropy_loss(output, label)          # compute loss\n",
        "        loss.backward()                                   # backward pass\n",
        "        optimizer.step()                                  # perform update\n",
        "        \n",
        "        NUM_STEPS += 1\n",
        "        # log summaries to training_writer\n",
        "        training_writer.add_scalar('loss', loss.item(), NUM_STEPS)\n",
        "\n",
        "        train_accuracy = (torch.argmax(output, dim=1) == label).float().sum() / len(label) # get the accuracy for the batch\n",
        "        training_writer.add_scalar('accuracy', train_accuracy, NUM_STEPS)\n",
        "    \n",
        "    return loss, train_accuracy\n",
        "\n",
        "# Evaluate model on validation data.\n",
        "def evaluate():\n",
        "\n",
        "    model.eval()\n",
        "    total_loss, total_accuracy = 0., 0.\n",
        "    \n",
        "    with torch.no_grad():\n",
        "        for i, (tweet, label) in enumerate(val_loader):\n",
        "            label = label.type(torch.LongTensor)\n",
        "            tweet, label = tweet.to(device), label.to(device) # put the data on the selected execution device\n",
        "            output = model(tweet)                             # forward pass\n",
        "            loss = cross_entropy_loss(output, label)          # compute loss\n",
        "\n",
        "            total_loss += loss.item()\n",
        "            total_accuracy += (torch.argmax(output, dim=1) == label).float().sum()\n",
        "        \n",
        "    total_loss /= len(val_loader)\n",
        "    total_accuracy /= len_validation_set\n",
        "\n",
        "    return total_loss, total_accuracy\n",
        "\n",
        "# Train model on entire dataset\n",
        "def train(n_epochs):\n",
        "\n",
        "    # use the global NUM_STEPS, NUM_EPOCH variable\n",
        "    global NUM_STEPS, NUM_EPOCH\n",
        "    \n",
        "    # variables for early stopping\n",
        "    last_accuracy = 0\n",
        "    patience = 5\n",
        "    trigger_times = 0\n",
        "\n",
        "    for epoch in range(n_epochs):\n",
        "        \n",
        "        # train model for one epoch\n",
        "        train_loss, train_accuracy = train_step()\n",
        "        \n",
        "        # Tensorboard loop\n",
        "        for name, weight in model.named_parameters():\n",
        "            # Attach a lot of summaries to training_writer for TensorBoard visualizations.\n",
        "            training_writer.add_scalar(f'{name}.mean', torch.mean(weight), NUM_EPOCH)\n",
        "            training_writer.add_scalar(f'{name}.std_dev', torch.std(weight), NUM_EPOCH)\n",
        "            training_writer.add_scalar(f'{name}.max', torch.max(weight), NUM_EPOCH)\n",
        "            training_writer.add_scalar(f'{name}.min', torch.min(weight), NUM_EPOCH)\n",
        "            training_writer.add_histogram(f'{name}.weights', weight, NUM_EPOCH)\n",
        "            training_writer.add_histogram(f'{name}.grad', weight.grad, NUM_EPOCH)\n",
        "\n",
        "        # evaluate \n",
        "        val_loss, val_accuracy = evaluate()\n",
        "\n",
        "        # early stopping condition\n",
        "        if val_accuracy <= last_accuracy:\n",
        "            trigger_times += 1\n",
        "            if trigger_times >= patience:\n",
        "                break\n",
        "        else:\n",
        "            trigger_times = 0\n",
        "\n",
        "        last_accuracy = val_accuracy\n",
        "\n",
        "        # log summaries to validation_writer\n",
        "        validation_writer.add_scalar('loss', val_loss, NUM_STEPS)\n",
        "        validation_writer.add_scalar('accuracy', val_accuracy, NUM_STEPS)\n",
        "\n",
        "        print(f\"[Epoch {NUM_EPOCH}] - Training : accuracy = {train_accuracy}, loss = {train_loss}\", end=\" \")\n",
        "        print(f\"Validation : accuracy = {val_accuracy}, loss = {val_loss}\")\n",
        "\n",
        "        NUM_EPOCH += 1"
      ],
      "metadata": {
        "id": "ph0lQUSq9ORW"
      },
      "execution_count": null,
      "outputs": []
    },
    {
      "cell_type": "code",
      "source": [
        "if is_train_enabled:\n",
        "  train(2)\n",
        "  training_writer.flush()\n",
        "  validation_writer.flush()\n",
        "\n",
        "  # save the model to file\n",
        "  torch.save(model.state_dict(), MODEL_PATH.format(\"MLP_512_200_pytorch\"))\n",
        "\n",
        "  # Tensorboard\n",
        "  %load_ext tensorboard\n",
        "  %tensorboard --logdir /content/drive/MyDrive/Colab\\ Notebooks/CIL/Tensorboard/\n",
        "\n",
        "  training_writer.close()\n",
        "  validation_writer.close()"
      ],
      "metadata": {
        "colab": {
          "base_uri": "https://localhost:8080/"
        },
        "id": "qWPfr9Ka-A5n",
        "outputId": "c49da9b7-057b-4230-c046-762e6854831a"
      },
      "execution_count": null,
      "outputs": [
        {
          "output_type": "stream",
          "name": "stdout",
          "text": [
            "[Epoch 0] - Training : accuracy = 0.796875, loss = 0.35319390892982483 Validation : accuracy = 0.810783326625824, loss = 0.4005408804575602\n",
            "[Epoch 1] - Training : accuracy = 0.78125, loss = 0.3910152018070221 Validation : accuracy = 0.8143083453178406, loss = 0.3929742209434509\n",
            "[Epoch 2] - Training : accuracy = 0.8359375, loss = 0.3295382559299469 Validation : accuracy = 0.8165749907493591, loss = 0.38795336909294126\n"
          ]
        }
      ]
    },
    {
      "cell_type": "code",
      "source": [
        "# load the model fromt the corresponding path\n",
        "model.load_state_dict(torch.load(MODEL_PATH.format('MLP_512_200_pytorch')))"
      ],
      "metadata": {
        "id": "YE4lOLIE6R3y"
      },
      "execution_count": null,
      "outputs": []
    },
    {
      "cell_type": "markdown",
      "source": [
        "### KERAS ❤️\n",
        "Same model implemented above but with Keras, in 1/3 od the lines... 🥲"
      ],
      "metadata": {
        "id": "XOYFrBrYTGYF"
      }
    },
    {
      "cell_type": "code",
      "source": [
        "from sklearn.model_selection import train_test_split\n",
        "\n",
        "# split the model into training test and validation\n",
        "X_train, X_test_tmp, y_train, y_test_tmp = train_test_split(X_train, y_train, test_size=0.20, random_state=33)\n",
        "X_train, X_val, y_train, y_val = train_test_split(X_train, y_train, test_size=0.12, random_state=33)\n"
      ],
      "metadata": {
        "id": "ZTUswQqbI-T_"
      },
      "execution_count": null,
      "outputs": []
    },
    {
      "cell_type": "code",
      "execution_count": null,
      "metadata": {
        "id": "gsz3VjNBLJlG",
        "colab": {
          "base_uri": "https://localhost:8080/"
        },
        "outputId": "c506b818-ce07-47ce-c03a-aaf3ee779be7"
      },
      "outputs": [
        {
          "output_type": "stream",
          "name": "stdout",
          "text": [
            "Model: \"sequential_1\"\n",
            "_________________________________________________________________\n",
            " Layer (type)                Output Shape              Param #   \n",
            "=================================================================\n",
            " dense_11 (Dense)            (None, 512)               113152    \n",
            "                                                                 \n",
            " dense_12 (Dense)            (None, 512)               262656    \n",
            "                                                                 \n",
            " dropout_4 (Dropout)         (None, 512)               0         \n",
            "                                                                 \n",
            " dense_13 (Dense)            (None, 256)               131328    \n",
            "                                                                 \n",
            " dense_14 (Dense)            (None, 256)               65792     \n",
            "                                                                 \n",
            " dropout_5 (Dropout)         (None, 256)               0         \n",
            "                                                                 \n",
            " dense_15 (Dense)            (None, 128)               32896     \n",
            "                                                                 \n",
            " dense_16 (Dense)            (None, 128)               16512     \n",
            "                                                                 \n",
            " dropout_6 (Dropout)         (None, 128)               0         \n",
            "                                                                 \n",
            " dense_17 (Dense)            (None, 64)                8256      \n",
            "                                                                 \n",
            " dense_18 (Dense)            (None, 64)                4160      \n",
            "                                                                 \n",
            " dropout_7 (Dropout)         (None, 64)                0         \n",
            "                                                                 \n",
            " dense_19 (Dense)            (None, 32)                2080      \n",
            "                                                                 \n",
            " dense_20 (Dense)            (None, 32)                1056      \n",
            "                                                                 \n",
            " dense_21 (Dense)            (None, 2)                 66        \n",
            "                                                                 \n",
            "=================================================================\n",
            "Total params: 637,954\n",
            "Trainable params: 637,954\n",
            "Non-trainable params: 0\n",
            "_________________________________________________________________\n"
          ]
        }
      ],
      "source": [
        "import tensorflow\n",
        "from tensorflow.keras.models import Sequential\n",
        "from tensorflow.keras.layers import Dense, Dropout\n",
        "\n",
        "model = Sequential()\n",
        "model.add(Dense(512, input_dim=w2v_model.vector_size, activation='relu'))\n",
        "model.add(Dense(512, activation='relu'))\n",
        "model.add(Dropout(0.2))\n",
        "model.add(Dense(256, activation='relu'))\n",
        "model.add(Dense(256, activation='relu'))\n",
        "model.add(Dropout(0.2))\n",
        "model.add(Dense(128, activation='relu'))\n",
        "model.add(Dense(128, activation='relu'))\n",
        "model.add(Dropout(0.2))\n",
        "model.add(Dense(64,  activation='relu'))\n",
        "model.add(Dense(64,  activation='relu'))\n",
        "model.add(Dropout(0.2))\n",
        "model.add(Dense(32, activation='relu'))\n",
        "model.add(Dense(32, activation='relu'))\n",
        "model.add(Dense(2, activation='softmax'))\n",
        "\n",
        "model.compile(\n",
        "  optimizer='adam',\n",
        "  loss='sparse_categorical_crossentropy',\n",
        "  metrics=['accuracy'],\n",
        ")\n",
        "\n",
        "tensorflow.keras.utils.plot_model(model, show_shapes=True, dpi=64)\n",
        "model.count_params()\n",
        "model.summary()"
      ]
    },
    {
      "cell_type": "code",
      "source": [
        "from keras.callbacks import ModelCheckpoint, EarlyStopping, ReduceLROnPlateau\n",
        "\n",
        "file_path = MODEL_PATH.format(\"MLP_w2v_220_512.h5\")\n",
        "callbacks = [\n",
        "             ModelCheckpoint(file_path, monitor='val_accuracy', verbose=1, save_best_only=True, mode='max'),\n",
        "             ReduceLROnPlateau(monitor=\"val_accuracy\", mode=\"max\", patience=3, verbose=2),\n",
        "             EarlyStopping(monitor=\"val_accuracy\", mode=\"max\", patience=5, verbose=1)\n",
        "             ]\n",
        "if is_train_enabled:\n",
        "  history = model.fit(X_train, y_train, epochs=5, verbose=1, validation_split=0.10, callbacks=callbacks, batch_size=128)"
      ],
      "metadata": {
        "colab": {
          "base_uri": "https://localhost:8080/"
        },
        "id": "oSLTvf-oIsqL",
        "outputId": "0c2bea04-f492-482d-ff62-41cc00f9456f"
      },
      "execution_count": null,
      "outputs": [
        {
          "output_type": "stream",
          "name": "stdout",
          "text": [
            "Epoch 1/5\n",
            "12368/12375 [============================>.] - ETA: 0s - loss: 0.4156 - accuracy: 0.8019\n",
            "Epoch 1: val_accuracy improved from -inf to 0.81065, saving model to /content/drive/MyDrive/Colab Notebooks/CIL/Models/MLP_w2v_220_512.h5\n",
            "12375/12375 [==============================] - 38s 3ms/step - loss: 0.4156 - accuracy: 0.8019 - val_loss: 0.4021 - val_accuracy: 0.8107 - lr: 0.0010\n",
            "Epoch 2/5\n",
            "12367/12375 [============================>.] - ETA: 0s - loss: 0.3951 - accuracy: 0.8128\n",
            "Epoch 2: val_accuracy improved from 0.81065 to 0.81553, saving model to /content/drive/MyDrive/Colab Notebooks/CIL/Models/MLP_w2v_220_512.h5\n",
            "12375/12375 [==============================] - 36s 3ms/step - loss: 0.3951 - accuracy: 0.8128 - val_loss: 0.3909 - val_accuracy: 0.8155 - lr: 0.0010\n",
            "Epoch 3/5\n",
            "12358/12375 [============================>.] - ETA: 0s - loss: 0.3857 - accuracy: 0.8179\n",
            "Epoch 3: val_accuracy did not improve from 0.81553\n",
            "12375/12375 [==============================] - 36s 3ms/step - loss: 0.3857 - accuracy: 0.8179 - val_loss: 0.3948 - val_accuracy: 0.8115 - lr: 0.0010\n",
            "Epoch 4/5\n",
            "12364/12375 [============================>.] - ETA: 0s - loss: 0.3796 - accuracy: 0.8210\n",
            "Epoch 4: val_accuracy improved from 0.81553 to 0.81632, saving model to /content/drive/MyDrive/Colab Notebooks/CIL/Models/MLP_w2v_220_512.h5\n",
            "12375/12375 [==============================] - 37s 3ms/step - loss: 0.3796 - accuracy: 0.8210 - val_loss: 0.3869 - val_accuracy: 0.8163 - lr: 0.0010\n",
            "Epoch 5/5\n",
            "12367/12375 [============================>.] - ETA: 0s - loss: 0.3746 - accuracy: 0.8242\n",
            "Epoch 5: val_accuracy improved from 0.81632 to 0.81979, saving model to /content/drive/MyDrive/Colab Notebooks/CIL/Models/MLP_w2v_220_512.h5\n",
            "12375/12375 [==============================] - 36s 3ms/step - loss: 0.3746 - accuracy: 0.8242 - val_loss: 0.3822 - val_accuracy: 0.8198 - lr: 0.0010\n"
          ]
        }
      ]
    },
    {
      "cell_type": "code",
      "source": [
        "# load the model from the corresposning h5 file\n",
        "model.load_weights(MODEL_PATH.format(\"MLP_w2v_220_512.h5\"))"
      ],
      "metadata": {
        "id": "YsOBe9qPIxBn",
        "colab": {
          "base_uri": "https://localhost:8080/",
          "height": 181
        },
        "outputId": "c8a4acd4-7afa-4406-884a-16e1a706483d"
      },
      "execution_count": null,
      "outputs": [
        {
          "output_type": "error",
          "ename": "NameError",
          "evalue": "ignored",
          "traceback": [
            "\u001b[0;31m---------------------------------------------------------------------------\u001b[0m",
            "\u001b[0;31mNameError\u001b[0m                                 Traceback (most recent call last)",
            "\u001b[0;32m<ipython-input-28-0de8ad03ac33>\u001b[0m in \u001b[0;36m<module>\u001b[0;34m()\u001b[0m\n\u001b[1;32m      1\u001b[0m \u001b[0;31m# load the model from the corresposning h5 file\u001b[0m\u001b[0;34m\u001b[0m\u001b[0;34m\u001b[0m\u001b[0;34m\u001b[0m\u001b[0m\n\u001b[0;32m----> 2\u001b[0;31m \u001b[0mmodel\u001b[0m\u001b[0;34m.\u001b[0m\u001b[0mload_weights\u001b[0m\u001b[0;34m(\u001b[0m\u001b[0mMODEL_PATH\u001b[0m\u001b[0;34m.\u001b[0m\u001b[0mformat\u001b[0m\u001b[0;34m(\u001b[0m\u001b[0;34m\"MLP_w2v_220_512.h5\"\u001b[0m\u001b[0;34m)\u001b[0m\u001b[0;34m)\u001b[0m\u001b[0;34m\u001b[0m\u001b[0;34m\u001b[0m\u001b[0m\n\u001b[0m",
            "\u001b[0;31mNameError\u001b[0m: name 'model' is not defined"
          ]
        }
      ]
    },
    {
      "cell_type": "code",
      "source": [
        "from sklearn.metrics import f1_score, accuracy_score\n",
        "\n",
        "y_pred = np.argmax(model.predict(X_test_tmp), axis=-1)\n",
        "\n",
        "f1 = f1_score(y_test_tmp, y_pred, average=\"macro\")\n",
        "print(\"Test f1 score : %s \"% f1)\n",
        "\n",
        "acc = accuracy_score(y_test_tmp, y_pred)\n",
        "print(\"Test accuracy score : %s \"% acc)"
      ],
      "metadata": {
        "id": "YAyXByY2Izoz"
      },
      "execution_count": null,
      "outputs": []
    },
    {
      "cell_type": "code",
      "source": [
        "if is_train_enabled:\n",
        "  # Plot training & validation loss values\n",
        "  plt.plot(history.history['loss'])\n",
        "  plt.plot(history.history['val_loss'])\n",
        "  plt.title('Model loss')\n",
        "  plt.ylabel('loss')\n",
        "  plt.xlabel('Epoch')\n",
        "  plt.legend(['Train', 'Validation'], loc='upper left')\n",
        "  plt.show()"
      ],
      "metadata": {
        "colab": {
          "base_uri": "https://localhost:8080/",
          "height": 295
        },
        "id": "AMsPgE9xI1QL",
        "outputId": "6ec7edfa-c42e-473d-9935-bd3f896f7cdc"
      },
      "execution_count": null,
      "outputs": [
        {
          "output_type": "display_data",
          "data": {
            "text/plain": [
              "<Figure size 432x288 with 1 Axes>"
            ],
            "image/png": "[encoded data removed]"
          },
          "metadata": {}
        }
      ]
    },
    {
      "cell_type": "code",
      "source": [
        "if is_train_enabled:\n",
        "  # Plot training & validation accuracy values\n",
        "  plt.plot(history.history['accuracy'])\n",
        "  plt.plot(history.history['val_accuracy'])\n",
        "  plt.title('Model accuracy')\n",
        "  plt.ylabel('Accuracy')\n",
        "  plt.xlabel('Epoch')\n",
        "  plt.legend(['Train', 'Validation'], loc='upper left')\n",
        "  plt.show()"
      ],
      "metadata": {
        "colab": {
          "base_uri": "https://localhost:8080/",
          "height": 295
        },
        "id": "JIC-7vrFI21P",
        "outputId": "4a18550d-ca60-4d8f-9652-5882487a56d8"
      },
      "execution_count": null,
      "outputs": [
        {
          "output_type": "display_data",
          "data": {
            "text/plain": [
              "<Figure size 432x288 with 1 Axes>"
            ],
            "image/png": "[encoded data removed]"
          },
          "metadata": {}
        }
      ]
    },
    {
      "cell_type": "code",
      "source": [
        "from sklearn.metrics import ConfusionMatrixDisplay, confusion_matrix\n",
        "import matplotlib.pyplot as plt\n",
        "\n",
        "# Plotting confusion matrix\n",
        "cm = confusion_matrix(y_test_tmp, y_pred)\n",
        "\n",
        "disp = ConfusionMatrixDisplay(confusion_matrix=cm, display_labels=[0,1,2,3])\n",
        "\n",
        "disp.plot(cmap=plt.cm.Blues)\n",
        "plt.show()"
      ],
      "metadata": {
        "colab": {
          "base_uri": "https://localhost:8080/",
          "height": 279
        },
        "id": "ZoVeJUFXI4Sb",
        "outputId": "485cab3b-8d7e-4875-de4e-6a43d4159952"
      },
      "execution_count": null,
      "outputs": [
        {
          "output_type": "display_data",
          "data": {
            "text/plain": [
              "<Figure size 432x288 with 2 Axes>"
            ],
            "image/png": "[encoded data removed]"
          },
          "metadata": {}
        }
      ]
    },
    {
      "cell_type": "markdown",
      "source": [
        "# Pre-trained BERT models"
      ],
      "metadata": {
        "id": "3Rem_6ZhDckn"
      }
    },
    {
      "cell_type": "code",
      "source": [
        "# TODO\n",
        "if is_train_enabled:\n",
        "  pass"
      ],
      "metadata": {
        "id": "GeMr5PmyDztT"
      },
      "execution_count": null,
      "outputs": []
    }
  ],
  "metadata": {
    "colab": {
      "collapsed_sections": [
        "UarTFFNLHdbG",
        "wLGfqcvEHhRj",
        "r5NUPzxM11A3",
        "qn4wCyoSK0lB",
        "Wtbgm8TgK0hp",
        "MnvcOCrq7DU9",
        "GaZCD3WCIQdz"
      ],
      "name": "CIL_sentiment_analysis_matteo.ipynb",
      "provenance": [],
      "machine_shape": "hm"
    },
    "kernelspec": {
      "display_name": "Python 3",
      "name": "python3"
    },
    "language_info": {
      "name": "python"
    }
  },
  "nbformat": 4,
  "nbformat_minor": 0
}