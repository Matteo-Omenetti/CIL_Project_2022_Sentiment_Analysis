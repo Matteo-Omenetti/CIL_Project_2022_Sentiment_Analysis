{
  "nbformat": 4,
  "nbformat_minor": 0,
  "metadata": {
    "colab": {
      "name": "w2v_Matteo.ipynb",
      "provenance": [],
      "collapsed_sections": [],
      "toc_visible": true
    },
    "kernelspec": {
      "name": "python3",
      "display_name": "Python 3"
    },
    "language_info": {
      "name": "python"
    },
    "accelerator": "GPU"
  },
  "cells": [
    {
      "cell_type": "markdown",
      "source": [
        "# Setup"
      ],
      "metadata": {
        "id": "yPoa6wsNdrL1"
      }
    },
    {
      "cell_type": "code",
      "execution_count": 1,
      "metadata": {
        "colab": {
          "base_uri": "https://localhost:8080/"
        },
        "id": "uHaC75SyZan4",
        "outputId": "d78ca3e9-0e8e-4563-a07e-f930d9291df4"
      },
      "outputs": [
        {
          "output_type": "stream",
          "name": "stdout",
          "text": [
            "Requirement already satisfied: gensim in /usr/local/lib/python3.7/dist-packages (3.6.0)\n",
            "Requirement already satisfied: numpy>=1.11.3 in /usr/local/lib/python3.7/dist-packages (from gensim) (1.21.6)\n",
            "Requirement already satisfied: six>=1.5.0 in /usr/local/lib/python3.7/dist-packages (from gensim) (1.15.0)\n",
            "Requirement already satisfied: scipy>=0.18.1 in /usr/local/lib/python3.7/dist-packages (from gensim) (1.4.1)\n",
            "Requirement already satisfied: smart-open>=1.2.1 in /usr/local/lib/python3.7/dist-packages (from gensim) (5.2.1)\n",
            "Requirement already satisfied: seaborn in /usr/local/lib/python3.7/dist-packages (0.11.2)\n",
            "Requirement already satisfied: scipy>=1.0 in /usr/local/lib/python3.7/dist-packages (from seaborn) (1.4.1)\n",
            "Requirement already satisfied: numpy>=1.15 in /usr/local/lib/python3.7/dist-packages (from seaborn) (1.21.6)\n",
            "Requirement already satisfied: matplotlib>=2.2 in /usr/local/lib/python3.7/dist-packages (from seaborn) (3.2.2)\n",
            "Requirement already satisfied: pandas>=0.23 in /usr/local/lib/python3.7/dist-packages (from seaborn) (1.3.5)\n",
            "Requirement already satisfied: cycler>=0.10 in /usr/local/lib/python3.7/dist-packages (from matplotlib>=2.2->seaborn) (0.11.0)\n",
            "Requirement already satisfied: kiwisolver>=1.0.1 in /usr/local/lib/python3.7/dist-packages (from matplotlib>=2.2->seaborn) (1.4.2)\n",
            "Requirement already satisfied: python-dateutil>=2.1 in /usr/local/lib/python3.7/dist-packages (from matplotlib>=2.2->seaborn) (2.8.2)\n",
            "Requirement already satisfied: pyparsing!=2.0.4,!=2.1.2,!=2.1.6,>=2.0.1 in /usr/local/lib/python3.7/dist-packages (from matplotlib>=2.2->seaborn) (3.0.8)\n",
            "Requirement already satisfied: typing-extensions in /usr/local/lib/python3.7/dist-packages (from kiwisolver>=1.0.1->matplotlib>=2.2->seaborn) (4.2.0)\n",
            "Requirement already satisfied: pytz>=2017.3 in /usr/local/lib/python3.7/dist-packages (from pandas>=0.23->seaborn) (2022.1)\n",
            "Requirement already satisfied: six>=1.5 in /usr/local/lib/python3.7/dist-packages (from python-dateutil>=2.1->matplotlib>=2.2->seaborn) (1.15.0)\n"
          ]
        }
      ],
      "source": [
        "!pip install gensim\n",
        "!pip install seaborn"
      ]
    },
    {
      "cell_type": "code",
      "source": [
        "import numpy as np\n",
        "import sklearn\n",
        "import gensim\n",
        "import pandas as pd"
      ],
      "metadata": {
        "id": "0Pf2ezJ0ZoWf"
      },
      "execution_count": 2,
      "outputs": []
    },
    {
      "cell_type": "code",
      "source": [
        "from google.colab import drive\n",
        "drive.mount('/content/drive')"
      ],
      "metadata": {
        "colab": {
          "base_uri": "https://localhost:8080/"
        },
        "id": "yr0C3Q-9Zkdk",
        "outputId": "1a83d13a-bb70-4a8d-cb38-df191fc3fb41"
      },
      "execution_count": 3,
      "outputs": [
        {
          "output_type": "stream",
          "name": "stdout",
          "text": [
            "Mounted at /content/drive\n"
          ]
        }
      ]
    },
    {
      "cell_type": "code",
      "source": [
        "# constants and global variables\n",
        "DATA_PATH = '/content/drive/MyDrive/Colab Notebooks/CIL/Dataset/{}'\n",
        "MODEL_PATH = '/content/drive/MyDrive/Colab Notebooks/CIL/Models/{}'\n",
        "\n",
        "# if set to true the trainig of the classifier models will be performed, otherwise the \n",
        "# models will be loaded from a file (if present)\n",
        "is_train_enabled = True\n",
        "\n",
        "# if set to true the trainig of the W2V model will be performed, otherwise the \n",
        "# model will be loaded from a file (if present)\n",
        "is_w2v_train_enabled = True"
      ],
      "metadata": {
        "id": "yp3uZOIHZrog"
      },
      "execution_count": 4,
      "outputs": []
    },
    {
      "cell_type": "markdown",
      "source": [
        "# Read Preprocessed Data"
      ],
      "metadata": {
        "id": "UFGe452DZ13u"
      }
    },
    {
      "cell_type": "code",
      "source": [
        "def load_X_data(file_name):\n",
        "  tweets = []\n",
        "  with open(DATA_PATH.format(file_name), 'r', encoding='utf-8') as f:\n",
        "      for line in f:\n",
        "        tweets.append(line.rstrip().split())\n",
        "  \n",
        "  return np.array(tweets)\n",
        "\n",
        "X_train = load_X_data(\"X_train_processed.txt\")\n",
        "X_test = load_X_data(\"X_test_processed.txt\")"
      ],
      "metadata": {
        "colab": {
          "base_uri": "https://localhost:8080/"
        },
        "id": "PCv_q-NNZ5o1",
        "outputId": "8d8c0ced-1f01-4831-e388-207118486b42"
      },
      "execution_count": 6,
      "outputs": [
        {
          "output_type": "stream",
          "name": "stderr",
          "text": [
            "/usr/local/lib/python3.7/dist-packages/ipykernel_launcher.py:7: VisibleDeprecationWarning: Creating an ndarray from ragged nested sequences (which is a list-or-tuple of lists-or-tuples-or ndarrays with different lengths or shapes) is deprecated. If you meant to do this, you must specify 'dtype=object' when creating the ndarray.\n",
            "  import sys\n"
          ]
        }
      ]
    },
    {
      "cell_type": "code",
      "source": [
        "def load_y_data(file_name):\n",
        "  labels = []\n",
        "  with open(DATA_PATH.format(file_name), 'r', encoding='utf-8') as f:\n",
        "      for line in f:\n",
        "        labels.append(int(line.rstrip()))\n",
        "  \n",
        "  return np.array(labels)\n",
        "\n",
        "y_train = load_y_data(\"y_train.txt\")"
      ],
      "metadata": {
        "id": "1KBvk8kYZ-yj"
      },
      "execution_count": 7,
      "outputs": []
    },
    {
      "cell_type": "code",
      "source": [
        "for i in range(10):\n",
        "  print(X_train[i])\n",
        "  print(X_test[i])\n",
        "  print(y_train[i])"
      ],
      "metadata": {
        "colab": {
          "base_uri": "https://localhost:8080/"
        },
        "id": "iYkorfbNbvtt",
        "outputId": "00870fb3-d71d-4764-d9c3-829bc6833b9d"
      },
      "execution_count": 8,
      "outputs": [
        {
          "output_type": "stream",
          "name": "stdout",
          "text": [
            "['yes', 'even', 'realize', 'really', 'wanted', 'respond', 'want', 'buy', 'candy', 'something']\n",
            "['sea', 'doo', 'pro', 'sea', 'scooter', 'sport', 'portable', 'sea', 'doo', 'seascootersave', 'air']\n",
            "1\n",
            "['bradly', 'james', 'lowrey', 'bestfriend', 'mean', 'alot', 'justthoughtidleteveryoneknow']\n",
            "['shuck', 'well', 'work', 'week', 'come', 'cheer', 'oh', 'put', 'battery', 'calculator']\n",
            "1\n",
            "['mckleinusa', 'ashburn', 'series', 'leather', 'laptop', 'case', 'brown', 'clean', 'front', 'flap', 'design', 'secure', 'key', 'l']\n",
            "['cant', 'stay', 'away', 'bug', 'thats', 'baby']\n",
            "0\n",
            "['next', 'time', 'ima', 'come', 'yo', 'class', 'nd', 'wake', 'wanted', 'come', 'get', 'hug', 'sleep']\n",
            "['lol', 'im', 'perfectly', 'fine', 'contagious', 'anymore', 'lmao']\n",
            "0\n",
            "['trivial', 'pursuit', 'junior', 'second', 'edition', 'second', 'edition', 'junior', 'legendary', 'trivial', 'pursuit', 'game']\n",
            "['whenever', 'fall', 'asleep', 'watching', 'tv']\n",
            "0\n",
            "['new', 'bbm', 'add', 'please', 'pin']\n",
            "['need', 'get', 'rid', 'thing', 'scare', 'lol', 'need', 'car', 'either', 'need', 'driver', 'ed']\n",
            "1\n",
            "['morning', 'still', 'baby', 'everything', 'calmed', 'last', 'night', 'thanks', 'message', 'though']\n",
            "['whatever', 'terrible', 'mood']\n",
            "1\n",
            "['custom', 'picture', 'frame', 'poster', 'frame', 'wide', 'complete', 'smooth', 'cherry', 'frame', 'frame', 'man']\n",
            "['yes', 'rt', 'thanks', 'jordan']\n",
            "0\n",
            "['yeah', 'made', 'cry', 'like', 'little', 'bitch', 'love', 'luke']\n",
            "['friend', 'text', 'check', 'last', 'night']\n",
            "0\n",
            "['london', 'fgs', 'please', 'come', 'north']\n",
            "['followback', 'please', 'ur', 'unitytour', 'come', 'europe', 'sweden']\n",
            "0\n"
          ]
        }
      ]
    },
    {
      "cell_type": "markdown",
      "metadata": {
        "id": "Wtbgm8TgK0hp"
      },
      "source": [
        "# W2V"
      ]
    },
    {
      "cell_type": "code",
      "source": [
        "from gensim.models import Word2Vec\n",
        "import multiprocessing\n",
        "\n",
        "# Count the number of cores in the computer\n",
        "cores = multiprocessing.cpu_count()\n",
        "print(cores)\n",
        "\n",
        "# define the  W2V model\n",
        "# TODO: experiment with different hyperparameters\n",
        "w2v_model = Word2Vec(min_count=10,\n",
        "                     window=3,\n",
        "                     size=220,\n",
        "                     sample=6e-5, \n",
        "                     alpha=0.03, \n",
        "                     min_alpha=0.0007, \n",
        "                     negative=5,\n",
        "                     workers=cores-1)"
      ],
      "metadata": {
        "colab": {
          "base_uri": "https://localhost:8080/"
        },
        "id": "mPrJilY86pKl",
        "outputId": "9103e0a1-fd0a-4a2b-bdc0-9775d429c7b7"
      },
      "execution_count": 9,
      "outputs": [
        {
          "output_type": "stream",
          "name": "stdout",
          "text": [
            "2\n"
          ]
        }
      ]
    },
    {
      "cell_type": "code",
      "source": [
        "#  build the vocabulary table\n",
        "if is_w2v_train_enabled:\n",
        "  w2v_model.build_vocab(X_train)"
      ],
      "metadata": {
        "id": "I_VYgZJG62hx"
      },
      "execution_count": 10,
      "outputs": []
    },
    {
      "cell_type": "code",
      "source": [
        "if is_w2v_train_enabled:\n",
        "  # train the model\n",
        "  w2v_model.train(X_train, total_examples=w2v_model.corpus_count, epochs=30, report_delay=1)\n",
        "  \n",
        "  # since we don't plan to train the model any further, we use this function to make the model more memory efficient\n",
        "  w2v_model.init_sims(replace=True)\n",
        "\n",
        "  # save the model to a file so that it can be reused without being trained from scratch\n",
        "  w2v_model.save(MODEL_PATH.format(\"word2vec.model\"))"
      ],
      "metadata": {
        "id": "spxiyo3f64O0"
      },
      "execution_count": 11,
      "outputs": []
    },
    {
      "cell_type": "code",
      "source": [
        "# load the trained model\n",
        "w2v_model = Word2Vec.load(MODEL_PATH.format(\"word2vec.model\"))"
      ],
      "metadata": {
        "id": "VZT9yPDj66JX"
      },
      "execution_count": 12,
      "outputs": []
    },
    {
      "cell_type": "markdown",
      "source": [
        "## Data Visualization"
      ],
      "metadata": {
        "id": "MnvcOCrq7DU9"
      }
    },
    {
      "cell_type": "code",
      "source": [
        "# check which words are most similar to\n",
        "w2v_model.wv.most_similar(positive=[\"lol\"])"
      ],
      "metadata": {
        "colab": {
          "base_uri": "https://localhost:8080/"
        },
        "id": "Ct10f4407Fu_",
        "outputId": "acacbc86-5e11-4bc4-ff71-3de416225340"
      },
      "execution_count": 13,
      "outputs": [
        {
          "output_type": "execute_result",
          "data": {
            "text/plain": [
              "[('lmao', 0.8858083486557007),\n",
              " ('tho', 0.8319640755653381),\n",
              " ('haha', 0.7488400936126709),\n",
              " ('thats', 0.7339435815811157),\n",
              " ('lmfao', 0.7287291288375854),\n",
              " ('yea', 0.7278667688369751),\n",
              " ('cuz', 0.7235555052757263),\n",
              " ('smh', 0.7168823480606079),\n",
              " ('lmaoo', 0.6900014877319336),\n",
              " ('hahaha', 0.6848949790000916)]"
            ]
          },
          "metadata": {},
          "execution_count": 13
        }
      ]
    },
    {
      "cell_type": "code",
      "source": [
        "# check which words are most similar to\n",
        "w2v_model.wv.most_similar(positive=[\"war\"])"
      ],
      "metadata": {
        "colab": {
          "base_uri": "https://localhost:8080/"
        },
        "id": "OVVHwsxT7HcF",
        "outputId": "26ad48a6-6276-4b05-b652-1621c50e47f3"
      },
      "execution_count": 14,
      "outputs": [
        {
          "output_type": "execute_result",
          "data": {
            "text/plain": [
              "[('wwii', 0.5815165042877197),\n",
              " ('napoleonic', 0.5620793104171753),\n",
              " ('battle', 0.5617918372154236),\n",
              " ('soviet', 0.5503869652748108),\n",
              " ('terror', 0.5432561635971069),\n",
              " ('civil', 0.5360432863235474),\n",
              " ('boer', 0.5331665873527527),\n",
              " ('battlefront', 0.5264682173728943),\n",
              " ('infantry', 0.5240184664726257),\n",
              " ('cavalry', 0.5189618468284607)]"
            ]
          },
          "metadata": {},
          "execution_count": 14
        }
      ]
    },
    {
      "cell_type": "code",
      "source": [
        "# check which words are most similar to\n",
        "w2v_model.wv.most_similar(positive=[\"email\"])"
      ],
      "metadata": {
        "colab": {
          "base_uri": "https://localhost:8080/"
        },
        "id": "j5q81UslB8QK",
        "outputId": "9c07a3e5-bedb-4dec-d8d0-5a069622e2a4"
      },
      "execution_count": 15,
      "outputs": [
        {
          "output_type": "execute_result",
          "data": {
            "text/plain": [
              "[('dm', 0.5850812196731567),\n",
              " ('message', 0.584324836730957),\n",
              " ('fanmail', 0.579894483089447),\n",
              " ('mail', 0.5686205625534058),\n",
              " ('inbox', 0.5448920726776123),\n",
              " ('hotmail', 0.5319802761077881),\n",
              " ('send', 0.5253311991691589),\n",
              " ('emailed', 0.5195173621177673),\n",
              " ('address', 0.509374737739563),\n",
              " ('website', 0.5080115795135498)]"
            ]
          },
          "metadata": {},
          "execution_count": 15
        }
      ]
    },
    {
      "cell_type": "code",
      "source": [
        "# return a number representing how much these two words are similar\n",
        "w2v_model.wv.similarity(\"lol\", 'haha')"
      ],
      "metadata": {
        "colab": {
          "base_uri": "https://localhost:8080/"
        },
        "id": "TflAG96N7JsC",
        "outputId": "d7fdc94f-cbb5-4c3e-8508-7f279fab582a"
      },
      "execution_count": 16,
      "outputs": [
        {
          "output_type": "execute_result",
          "data": {
            "text/plain": [
              "0.7488399"
            ]
          },
          "metadata": {},
          "execution_count": 16
        }
      ]
    },
    {
      "cell_type": "code",
      "source": [
        "# return the word that is least similar to the others in the list\n",
        "w2v_model.wv.doesnt_match(['lol', 'haha', 'sad'])"
      ],
      "metadata": {
        "colab": {
          "base_uri": "https://localhost:8080/",
          "height": 91
        },
        "id": "aI0XIT0G7Lem",
        "outputId": "decd14d4-f8f4-4a12-91d2-34fb3affd5dc"
      },
      "execution_count": 17,
      "outputs": [
        {
          "output_type": "stream",
          "name": "stderr",
          "text": [
            "/usr/local/lib/python3.7/dist-packages/gensim/models/keyedvectors.py:895: FutureWarning: arrays to stack must be passed as a \"sequence\" type such as list or tuple. Support for non-sequence iterables such as generators is deprecated as of NumPy 1.16 and will raise an error in the future.\n",
            "  vectors = vstack(self.word_vec(word, use_norm=True) for word in used_words).astype(REAL)\n"
          ]
        },
        {
          "output_type": "execute_result",
          "data": {
            "text/plain": [
              "'sad'"
            ],
            "application/vnd.google.colaboratory.intrinsic+json": {
              "type": "string"
            }
          },
          "metadata": {},
          "execution_count": 17
        }
      ]
    },
    {
      "cell_type": "code",
      "source": [
        "import matplotlib.pyplot as plt\n",
        "%matplotlib inline\n",
        " \n",
        "import seaborn as sns\n",
        "sns.set_style(\"darkgrid\")\n",
        "\n",
        "from sklearn.decomposition import PCA\n",
        "from sklearn.manifold import TSNE\n",
        "\n",
        "# draw words on a graph. Similar words  are close together in the graph.\n",
        "def tsnescatterplot(model, word, list_names):\n",
        "    \"\"\" Plot in seaborn the results from the t-SNE dimensionality reduction algorithm of the vectors of a query word,\n",
        "    its list of most similar words, and a list of words.\n",
        "    \"\"\"\n",
        "    arrays = np.empty((0, w2v_model.vector_size), dtype='f')\n",
        "    word_labels = [word]\n",
        "    color_list  = ['red']\n",
        "\n",
        "    # adds the vector of the query word\n",
        "    arrays = np.append(arrays, model.wv.__getitem__([word]), axis=0)\n",
        "    \n",
        "    # gets list of most similar words\n",
        "    close_words = model.wv.most_similar([word])\n",
        "    \n",
        "    # adds the vector for each of the closest words to the array\n",
        "    for wrd_score in close_words:\n",
        "        wrd_vector = model.wv.__getitem__([wrd_score[0]])\n",
        "        word_labels.append(wrd_score[0])\n",
        "        color_list.append('blue')\n",
        "        arrays = np.append(arrays, wrd_vector, axis=0)\n",
        "    \n",
        "    # adds the vector for each of the words from list_names to the array\n",
        "    for wrd in list_names:\n",
        "        wrd_vector = model.wv.__getitem__([wrd])\n",
        "        word_labels.append(wrd)\n",
        "        color_list.append('green')\n",
        "        arrays = np.append(arrays, wrd_vector, axis=0)\n",
        "        \n",
        "    # Reduces the dimensionality from 300 to 50 dimensions with PCA\n",
        "    reduc = PCA(n_components=19).fit_transform(arrays)\n",
        "    \n",
        "    # Finds t-SNE coordinates for 2 dimensions\n",
        "    np.set_printoptions(suppress=True)\n",
        "    \n",
        "    Y = TSNE(n_components=2, random_state=0, perplexity=15).fit_transform(reduc)\n",
        "    \n",
        "    # Sets everything up to plot\n",
        "    df = pd.DataFrame({'x': [x for x in Y[:, 0]],\n",
        "                       'y': [y for y in Y[:, 1]],\n",
        "                       'words': word_labels,\n",
        "                       'color': color_list})\n",
        "    \n",
        "    fig, _ = plt.subplots()\n",
        "    fig.set_size_inches(9, 9)\n",
        "    \n",
        "    # Basic plot\n",
        "    p1 = sns.regplot(data=df,\n",
        "                     x=\"x\",\n",
        "                     y=\"y\",\n",
        "                     fit_reg=False,\n",
        "                     marker=\"o\",\n",
        "                     scatter_kws={'s': 40,\n",
        "                                  'facecolors': df['color']\n",
        "                                 }\n",
        "                    )\n",
        "    \n",
        "    # Adds annotations one by one with a loop\n",
        "    for line in range(0, df.shape[0]):\n",
        "         p1.text(df[\"x\"][line],\n",
        "                 df['y'][line],\n",
        "                 '  ' + df[\"words\"][line].title(),\n",
        "                 horizontalalignment='left',\n",
        "                 verticalalignment='bottom', size='medium',\n",
        "                 color=df['color'][line],\n",
        "                 weight='normal'\n",
        "                ).set_size(15)\n",
        "\n",
        "    \n",
        "    plt.xlim(Y[:, 0].min()-50, Y[:, 0].max()+50)\n",
        "    plt.ylim(Y[:, 1].min()-50, Y[:, 1].max()+50)\n",
        "            \n",
        "    plt.title('t-SNE visualization for {}'.format(word.title()))"
      ],
      "metadata": {
        "id": "qbYFgSd67QTl"
      },
      "execution_count": 18,
      "outputs": []
    },
    {
      "cell_type": "code",
      "source": [
        "# visualize the 10 most similar words to doctor and 8 random words\n",
        "tsnescatterplot(w2v_model, 'lol', ['dog', 'bird', 'table', 'watch', 'pen', 'plant', 'bottle', 'backpack'])"
      ],
      "metadata": {
        "colab": {
          "base_uri": "https://localhost:8080/",
          "height": 655
        },
        "id": "rCZDq1Jc7Tdq",
        "outputId": "72d500bc-9f75-48ca-9167-fdf9d2c06fc6"
      },
      "execution_count": 19,
      "outputs": [
        {
          "output_type": "stream",
          "name": "stderr",
          "text": [
            "/usr/local/lib/python3.7/dist-packages/sklearn/manifold/_t_sne.py:783: FutureWarning: The default initialization in TSNE will change from 'random' to 'pca' in 1.2.\n",
            "  FutureWarning,\n",
            "/usr/local/lib/python3.7/dist-packages/sklearn/manifold/_t_sne.py:793: FutureWarning: The default learning rate in TSNE will change from 200.0 to 'auto' in 1.2.\n",
            "  FutureWarning,\n"
          ]
        },
        {
          "output_type": "display_data",
          "data": {
            "text/plain": [
              "<Figure size 648x648 with 1 Axes>"
            ],
            "image/png": "[encoded data removed]"
          },
          "metadata": {}
        }
      ]
    },
    {
      "cell_type": "code",
      "source": [
        "# given a list of sentences, for each sentence compute its emebedding by\n",
        "# computing the embedding of each word in the sentence and then divide by the\n",
        "# length of the phrase\n",
        "def generate_senteces_embeddings(X):\n",
        "  \n",
        "  sentences_embedding = []\n",
        "  # for each sentence in the set\n",
        "  for sentence in X:\n",
        "    sentence_length = len(sentence)\n",
        "    # this variable will hold the sum of each word embedding in the current phrase\n",
        "    sentence_embedding = np.zeros(w2v_model.vector_size)\n",
        "    # for each word in the sentence\n",
        "    for word in sentence:\n",
        "      # embedding of the current word\n",
        "      word_embedding = np.zeros(w2v_model.vector_size)\n",
        "\n",
        "      # compute the embedding of the current word. This is not always possible as\n",
        "      # not every word is in our dictionary. If this is not possible I simply discard\n",
        "      # the word and decrese the sentence length by 1. \n",
        "      try:\n",
        "        word_embedding = w2v_model.wv[word]\n",
        "      except KeyError:\n",
        "        sentence_length = sentence_length - 1\n",
        "      \n",
        "      sentence_embedding = sentence_embedding + word_embedding \n",
        "    \n",
        "    # in our dataset there are some (very few) length 1 sentences\n",
        "    # with one single word that is not part of the model vocabulary.\n",
        "    # In order to prevent a divison by 0, this if stattement is necessary.\n",
        "    if sentence_length == 0:\n",
        "      sentence_embedding = np.zeros(w2v_model.vector_size)\n",
        "    else:\n",
        "      sentence_embedding = sentence_embedding / sentence_length\n",
        "\n",
        "    # add the sentence embedding to the list that will be returned\n",
        "    sentences_embedding.append(np.array(sentence_embedding))\n",
        "  \n",
        "\n",
        "  return sentences_embedding\n",
        "\n",
        "X_train = np.array(generate_senteces_embeddings(X_train))\n",
        "X_test = np.array(generate_senteces_embeddings(X_test))"
      ],
      "metadata": {
        "id": "xovuEu1tIQpu"
      },
      "execution_count": 20,
      "outputs": []
    },
    {
      "cell_type": "markdown",
      "metadata": {
        "id": "_viGci2MLCRo"
      },
      "source": [
        "## Models\n",
        "Apply standard machine learning models to the words embeddings that come out of W2V."
      ]
    },
    {
      "cell_type": "markdown",
      "source": [
        "### Multi Layer Perceptron"
      ],
      "metadata": {
        "id": "RTtULnfLImuj"
      }
    },
    {
      "cell_type": "code",
      "source": [
        "from sklearn.model_selection import train_test_split\n",
        "\n",
        "# split the model into training test and validation\n",
        "X_train, X_test_tmp, y_train, y_test_tmp = train_test_split(X_train, y_train, test_size=0.20, random_state=33)\n",
        "X_train, X_val, y_train, y_val = train_test_split(X_train, y_train, test_size=0.12, random_state=33)\n"
      ],
      "metadata": {
        "id": "ZTUswQqbI-T_"
      },
      "execution_count": 21,
      "outputs": []
    },
    {
      "cell_type": "code",
      "execution_count": 29,
      "metadata": {
        "id": "gsz3VjNBLJlG",
        "colab": {
          "base_uri": "https://localhost:8080/"
        },
        "outputId": "2d1f44f1-c101-490c-d776-d1d2e7694416"
      },
      "outputs": [
        {
          "output_type": "stream",
          "name": "stdout",
          "text": [
            "Model: \"sequential_1\"\n",
            "_________________________________________________________________\n",
            " Layer (type)                Output Shape              Param #   \n",
            "=================================================================\n",
            " dense_11 (Dense)            (None, 512)               113152    \n",
            "                                                                 \n",
            " dense_12 (Dense)            (None, 512)               262656    \n",
            "                                                                 \n",
            " dropout_4 (Dropout)         (None, 512)               0         \n",
            "                                                                 \n",
            " dense_13 (Dense)            (None, 256)               131328    \n",
            "                                                                 \n",
            " dense_14 (Dense)            (None, 256)               65792     \n",
            "                                                                 \n",
            " dropout_5 (Dropout)         (None, 256)               0         \n",
            "                                                                 \n",
            " dense_15 (Dense)            (None, 128)               32896     \n",
            "                                                                 \n",
            " dense_16 (Dense)            (None, 128)               16512     \n",
            "                                                                 \n",
            " dropout_6 (Dropout)         (None, 128)               0         \n",
            "                                                                 \n",
            " dense_17 (Dense)            (None, 64)                8256      \n",
            "                                                                 \n",
            " dense_18 (Dense)            (None, 64)                4160      \n",
            "                                                                 \n",
            " dropout_7 (Dropout)         (None, 64)                0         \n",
            "                                                                 \n",
            " dense_19 (Dense)            (None, 32)                2080      \n",
            "                                                                 \n",
            " dense_20 (Dense)            (None, 32)                1056      \n",
            "                                                                 \n",
            " dense_21 (Dense)            (None, 2)                 66        \n",
            "                                                                 \n",
            "=================================================================\n",
            "Total params: 637,954\n",
            "Trainable params: 637,954\n",
            "Non-trainable params: 0\n",
            "_________________________________________________________________\n"
          ]
        }
      ],
      "source": [
        "import tensorflow\n",
        "from tensorflow.keras.models import Sequential\n",
        "from tensorflow.keras.layers import Dense, Dropout\n",
        "\n",
        "model = Sequential()\n",
        "model.add(Dense(512, input_dim=w2v_model.vector_size, activation='relu'))\n",
        "model.add(Dense(512, activation='relu'))\n",
        "model.add(Dropout(0.2))\n",
        "model.add(Dense(256, activation='relu'))\n",
        "model.add(Dense(256, activation='relu'))\n",
        "model.add(Dropout(0.2))\n",
        "model.add(Dense(128, activation='relu'))\n",
        "model.add(Dense(128, activation='relu'))\n",
        "model.add(Dropout(0.2))\n",
        "model.add(Dense(64,  activation='relu'))\n",
        "model.add(Dense(64,  activation='relu'))\n",
        "model.add(Dropout(0.2))\n",
        "model.add(Dense(32, activation='relu'))\n",
        "model.add(Dense(32, activation='relu'))\n",
        "model.add(Dense(2, activation='softmax'))\n",
        "\n",
        "model.compile(\n",
        "  optimizer='adam',\n",
        "  loss='sparse_categorical_crossentropy',\n",
        "  metrics=['accuracy'],\n",
        ")\n",
        "\n",
        "tensorflow.keras.utils.plot_model(model, show_shapes=True, dpi=64)\n",
        "model.count_params()\n",
        "model.summary()"
      ]
    },
    {
      "cell_type": "code",
      "source": [
        "from keras.callbacks import ModelCheckpoint, EarlyStopping, ReduceLROnPlateau\n",
        "\n",
        "file_path = MODEL_PATH.format(\"MLP_w2v.h5\")\n",
        "callbacks = [\n",
        "             ModelCheckpoint(file_path, monitor='val_accuracy', verbose=1, save_best_only=True, mode='max'),\n",
        "             ReduceLROnPlateau(monitor=\"val_accuracy\", mode=\"max\", patience=3, verbose=2),\n",
        "             EarlyStopping(monitor=\"val_accuracy\", mode=\"max\", patience=5, verbose=1)\n",
        "             ]\n",
        "if is_train_enabled:\n",
        "  history = model.fit(X_train, y_train, epochs=50, verbose=1, validation_split=0.10, callbacks=callbacks, batch_size=128)"
      ],
      "metadata": {
        "colab": {
          "base_uri": "https://localhost:8080/"
        },
        "id": "oSLTvf-oIsqL",
        "outputId": "8958a464-608e-4708-a355-5cf8b6b8335b"
      },
      "execution_count": 30,
      "outputs": [
        {
          "output_type": "stream",
          "name": "stdout",
          "text": [
            "Epoch 1/50\n",
            "12371/12375 [============================>.] - ETA: 0s - loss: 0.4229 - accuracy: 0.7981\n",
            "Epoch 1: val_accuracy improved from -inf to 0.80326, saving model to /content/drive/MyDrive/Colab Notebooks/CIL/Models/MLP_w2v.h5\n",
            "12375/12375 [==============================] - 45s 4ms/step - loss: 0.4229 - accuracy: 0.7981 - val_loss: 0.4099 - val_accuracy: 0.8033 - lr: 0.0010\n",
            "Epoch 2/50\n",
            "12368/12375 [============================>.] - ETA: 0s - loss: 0.4018 - accuracy: 0.8099\n",
            "Epoch 2: val_accuracy improved from 0.80326 to 0.80893, saving model to /content/drive/MyDrive/Colab Notebooks/CIL/Models/MLP_w2v.h5\n",
            "12375/12375 [==============================] - 43s 3ms/step - loss: 0.4018 - accuracy: 0.8099 - val_loss: 0.4021 - val_accuracy: 0.8089 - lr: 0.0010\n",
            "Epoch 3/50\n",
            "12374/12375 [============================>.] - ETA: 0s - loss: 0.3926 - accuracy: 0.8143\n",
            "Epoch 3: val_accuracy improved from 0.80893 to 0.81143, saving model to /content/drive/MyDrive/Colab Notebooks/CIL/Models/MLP_w2v.h5\n",
            "12375/12375 [==============================] - 43s 4ms/step - loss: 0.3926 - accuracy: 0.8143 - val_loss: 0.3988 - val_accuracy: 0.8114 - lr: 0.0010\n",
            "Epoch 4/50\n",
            "12374/12375 [============================>.] - ETA: 0s - loss: 0.3862 - accuracy: 0.8179\n",
            "Epoch 4: val_accuracy improved from 0.81143 to 0.81353, saving model to /content/drive/MyDrive/Colab Notebooks/CIL/Models/MLP_w2v.h5\n",
            "12375/12375 [==============================] - 43s 3ms/step - loss: 0.3862 - accuracy: 0.8179 - val_loss: 0.3955 - val_accuracy: 0.8135 - lr: 0.0010\n",
            "Epoch 5/50\n",
            "12365/12375 [============================>.] - ETA: 0s - loss: 0.3813 - accuracy: 0.8202\n",
            "Epoch 5: val_accuracy improved from 0.81353 to 0.81522, saving model to /content/drive/MyDrive/Colab Notebooks/CIL/Models/MLP_w2v.h5\n",
            "12375/12375 [==============================] - 43s 3ms/step - loss: 0.3813 - accuracy: 0.8202 - val_loss: 0.3934 - val_accuracy: 0.8152 - lr: 0.0010\n",
            "Epoch 6/50\n",
            "12367/12375 [============================>.] - ETA: 0s - loss: 0.3776 - accuracy: 0.8222\n",
            "Epoch 6: val_accuracy did not improve from 0.81522\n",
            "12375/12375 [==============================] - 43s 3ms/step - loss: 0.3776 - accuracy: 0.8222 - val_loss: 0.3982 - val_accuracy: 0.8125 - lr: 0.0010\n",
            "Epoch 7/50\n",
            "12374/12375 [============================>.] - ETA: 0s - loss: 0.3731 - accuracy: 0.8246\n",
            "Epoch 7: val_accuracy improved from 0.81522 to 0.81532, saving model to /content/drive/MyDrive/Colab Notebooks/CIL/Models/MLP_w2v.h5\n",
            "12375/12375 [==============================] - 43s 3ms/step - loss: 0.3731 - accuracy: 0.8246 - val_loss: 0.3957 - val_accuracy: 0.8153 - lr: 0.0010\n",
            "Epoch 8/50\n",
            "12367/12375 [============================>.] - ETA: 0s - loss: 0.3697 - accuracy: 0.8259\n",
            "Epoch 8: val_accuracy improved from 0.81532 to 0.81635, saving model to /content/drive/MyDrive/Colab Notebooks/CIL/Models/MLP_w2v.h5\n",
            "12375/12375 [==============================] - 43s 3ms/step - loss: 0.3697 - accuracy: 0.8259 - val_loss: 0.3907 - val_accuracy: 0.8163 - lr: 0.0010\n",
            "Epoch 9/50\n",
            "12364/12375 [============================>.] - ETA: 0s - loss: 0.3661 - accuracy: 0.8282\n",
            "Epoch 9: val_accuracy did not improve from 0.81635\n",
            "12375/12375 [==============================] - 42s 3ms/step - loss: 0.3661 - accuracy: 0.8282 - val_loss: 0.3906 - val_accuracy: 0.8154 - lr: 0.0010\n",
            "Epoch 10/50\n",
            "12374/12375 [============================>.] - ETA: 0s - loss: 0.3630 - accuracy: 0.8297\n",
            "Epoch 10: val_accuracy did not improve from 0.81635\n",
            "12375/12375 [==============================] - 45s 4ms/step - loss: 0.3630 - accuracy: 0.8297 - val_loss: 0.3918 - val_accuracy: 0.8161 - lr: 0.0010\n",
            "Epoch 11/50\n",
            "12375/12375 [==============================] - ETA: 0s - loss: 0.3609 - accuracy: 0.8305\n",
            "Epoch 11: val_accuracy did not improve from 0.81635\n",
            "\n",
            "Epoch 11: ReduceLROnPlateau reducing learning rate to 0.00010000000474974513.\n",
            "12375/12375 [==============================] - 43s 3ms/step - loss: 0.3609 - accuracy: 0.8305 - val_loss: 0.3911 - val_accuracy: 0.8160 - lr: 0.0010\n",
            "Epoch 12/50\n",
            "12364/12375 [============================>.] - ETA: 0s - loss: 0.3443 - accuracy: 0.8389\n",
            "Epoch 12: val_accuracy improved from 0.81635 to 0.81853, saving model to /content/drive/MyDrive/Colab Notebooks/CIL/Models/MLP_w2v.h5\n",
            "12375/12375 [==============================] - 44s 4ms/step - loss: 0.3443 - accuracy: 0.8389 - val_loss: 0.3903 - val_accuracy: 0.8185 - lr: 1.0000e-04\n",
            "Epoch 13/50\n",
            "12367/12375 [============================>.] - ETA: 0s - loss: 0.3390 - accuracy: 0.8414\n",
            "Epoch 13: val_accuracy did not improve from 0.81853\n",
            "12375/12375 [==============================] - 43s 3ms/step - loss: 0.3391 - accuracy: 0.8414 - val_loss: 0.3911 - val_accuracy: 0.8181 - lr: 1.0000e-04\n",
            "Epoch 14/50\n",
            "12374/12375 [============================>.] - ETA: 0s - loss: 0.3361 - accuracy: 0.8430\n",
            "Epoch 14: val_accuracy did not improve from 0.81853\n",
            "12375/12375 [==============================] - 43s 3ms/step - loss: 0.3361 - accuracy: 0.8430 - val_loss: 0.3922 - val_accuracy: 0.8177 - lr: 1.0000e-04\n",
            "Epoch 15/50\n",
            "12371/12375 [============================>.] - ETA: 0s - loss: 0.3336 - accuracy: 0.8442\n",
            "Epoch 15: val_accuracy did not improve from 0.81853\n",
            "\n",
            "Epoch 15: ReduceLROnPlateau reducing learning rate to 1.0000000474974514e-05.\n",
            "12375/12375 [==============================] - 43s 3ms/step - loss: 0.3336 - accuracy: 0.8442 - val_loss: 0.3938 - val_accuracy: 0.8178 - lr: 1.0000e-04\n",
            "Epoch 16/50\n",
            "12366/12375 [============================>.] - ETA: 0s - loss: 0.3304 - accuracy: 0.8459\n",
            "Epoch 16: val_accuracy did not improve from 0.81853\n",
            "12375/12375 [==============================] - 43s 3ms/step - loss: 0.3304 - accuracy: 0.8459 - val_loss: 0.3950 - val_accuracy: 0.8179 - lr: 1.0000e-05\n",
            "Epoch 17/50\n",
            "12373/12375 [============================>.] - ETA: 0s - loss: 0.3298 - accuracy: 0.8461\n",
            "Epoch 17: val_accuracy did not improve from 0.81853\n",
            "12375/12375 [==============================] - 43s 3ms/step - loss: 0.3298 - accuracy: 0.8461 - val_loss: 0.3953 - val_accuracy: 0.8179 - lr: 1.0000e-05\n",
            "Epoch 17: early stopping\n"
          ]
        }
      ]
    },
    {
      "cell_type": "code",
      "source": [
        "# load the model from the corresposning h5 file\n",
        "model.load_weights(MODEL_PATH.format(\"MLP_w2v.h5\"))"
      ],
      "metadata": {
        "id": "YsOBe9qPIxBn"
      },
      "execution_count": 31,
      "outputs": []
    },
    {
      "cell_type": "code",
      "source": [
        "from sklearn.metrics import f1_score, accuracy_score\n",
        "\n",
        "y_pred = np.argmax(model.predict(X_test_tmp), axis=-1)\n",
        "\n",
        "f1 = f1_score(y_test_tmp, y_pred, average=\"macro\")\n",
        "print(\"Test f1 score : %s \"% f1)\n",
        "\n",
        "acc = accuracy_score(y_test_tmp, y_pred)\n",
        "print(\"Test accuracy score : %s \"% acc)"
      ],
      "metadata": {
        "id": "YAyXByY2Izoz",
        "colab": {
          "base_uri": "https://localhost:8080/"
        },
        "outputId": "e9e223bd-18b0-4398-b0f2-8bd98d35009b"
      },
      "execution_count": 32,
      "outputs": [
        {
          "output_type": "stream",
          "name": "stdout",
          "text": [
            "Test f1 score : 0.8183823149648906 \n",
            "Test accuracy score : 0.818558 \n"
          ]
        }
      ]
    },
    {
      "cell_type": "code",
      "source": [
        "if is_train_enabled:\n",
        "  # Plot training & validation loss values\n",
        "  plt.plot(history.history['loss'])\n",
        "  plt.plot(history.history['val_loss'])\n",
        "  plt.title('Model loss')\n",
        "  plt.ylabel('loss')\n",
        "  plt.xlabel('Epoch')\n",
        "  plt.legend(['Train', 'Validation'], loc='upper left')\n",
        "  plt.show()"
      ],
      "metadata": {
        "colab": {
          "base_uri": "https://localhost:8080/",
          "height": 295
        },
        "id": "AMsPgE9xI1QL",
        "outputId": "88e9feed-fc35-441a-e356-d0b8d84579b0"
      },
      "execution_count": 33,
      "outputs": [
        {
          "output_type": "display_data",
          "data": {
            "text/plain": [
              "<Figure size 432x288 with 1 Axes>"
            ],
            "image/png": "[encoded data removed]"
          },
          "metadata": {}
        }
      ]
    },
    {
      "cell_type": "code",
      "source": [
        "if is_train_enabled:\n",
        "  # Plot training & validation accuracy values\n",
        "  plt.plot(history.history['accuracy'])\n",
        "  plt.plot(history.history['val_accuracy'])\n",
        "  plt.title('Model accuracy')\n",
        "  plt.ylabel('Accuracy')\n",
        "  plt.xlabel('Epoch')\n",
        "  plt.legend(['Train', 'Validation'], loc='upper left')\n",
        "  plt.show()"
      ],
      "metadata": {
        "colab": {
          "base_uri": "https://localhost:8080/",
          "height": 295
        },
        "id": "JIC-7vrFI21P",
        "outputId": "a83beba1-99b9-4923-8713-1184a2595036"
      },
      "execution_count": 34,
      "outputs": [
        {
          "output_type": "display_data",
          "data": {
            "text/plain": [
              "<Figure size 432x288 with 1 Axes>"
            ],
            "image/png": "[encoded data removed]"
          },
          "metadata": {}
        }
      ]
    },
    {
      "cell_type": "code",
      "source": [
        "from sklearn.metrics import ConfusionMatrixDisplay, confusion_matrix\n",
        "import matplotlib.pyplot as plt\n",
        "\n",
        "# Plotting confusion matrix\n",
        "cm = confusion_matrix(y_test_tmp, y_pred)\n",
        "\n",
        "disp = ConfusionMatrixDisplay(confusion_matrix=cm, display_labels=[0,1,2,3])\n",
        "\n",
        "disp.plot(cmap=plt.cm.Blues)\n",
        "plt.show()"
      ],
      "metadata": {
        "colab": {
          "base_uri": "https://localhost:8080/",
          "height": 279
        },
        "id": "ZoVeJUFXI4Sb",
        "outputId": "3d99013e-46f0-4f3d-e524-5d86e83d6d38"
      },
      "execution_count": 35,
      "outputs": [
        {
          "output_type": "display_data",
          "data": {
            "text/plain": [
              "<Figure size 432x288 with 2 Axes>"
            ],
            "image/png": "[encoded data removed]"
          },
          "metadata": {}
        }
      ]
    }
  ]
}