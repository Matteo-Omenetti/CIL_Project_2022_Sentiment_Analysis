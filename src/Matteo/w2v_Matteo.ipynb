{
  "nbformat": 4,
  "nbformat_minor": 0,
  "metadata": {
    "colab": {
      "name": "w2v_Matteo.ipynb",
      "provenance": [],
      "collapsed_sections": [],
      "machine_shape": "hm"
    },
    "kernelspec": {
      "name": "python3",
      "display_name": "Python 3"
    },
    "language_info": {
      "name": "python"
    },
    "accelerator": "GPU"
  },
  "cells": [
    {
      "cell_type": "markdown",
      "source": [
        "# Setup"
      ],
      "metadata": {
        "id": "yPoa6wsNdrL1"
      }
    },
    {
      "cell_type": "code",
      "execution_count": 40,
      "metadata": {
        "colab": {
          "base_uri": "https://localhost:8080/"
        },
        "id": "uHaC75SyZan4",
        "outputId": "623022f9-a915-4ee8-a049-2e5aa3be5ea8"
      },
      "outputs": [
        {
          "output_type": "stream",
          "name": "stdout",
          "text": [
            "Requirement already satisfied: gensim in /usr/local/lib/python3.7/dist-packages (3.6.0)\n",
            "Requirement already satisfied: six>=1.5.0 in /usr/local/lib/python3.7/dist-packages (from gensim) (1.15.0)\n",
            "Requirement already satisfied: scipy>=0.18.1 in /usr/local/lib/python3.7/dist-packages (from gensim) (1.4.1)\n",
            "Requirement already satisfied: smart-open>=1.2.1 in /usr/local/lib/python3.7/dist-packages (from gensim) (6.0.0)\n",
            "Requirement already satisfied: numpy>=1.11.3 in /usr/local/lib/python3.7/dist-packages (from gensim) (1.21.6)\n",
            "Requirement already satisfied: seaborn in /usr/local/lib/python3.7/dist-packages (0.11.2)\n",
            "Requirement already satisfied: pandas>=0.23 in /usr/local/lib/python3.7/dist-packages (from seaborn) (1.3.5)\n",
            "Requirement already satisfied: scipy>=1.0 in /usr/local/lib/python3.7/dist-packages (from seaborn) (1.4.1)\n",
            "Requirement already satisfied: numpy>=1.15 in /usr/local/lib/python3.7/dist-packages (from seaborn) (1.21.6)\n",
            "Requirement already satisfied: matplotlib>=2.2 in /usr/local/lib/python3.7/dist-packages (from seaborn) (3.2.2)\n",
            "Requirement already satisfied: python-dateutil>=2.1 in /usr/local/lib/python3.7/dist-packages (from matplotlib>=2.2->seaborn) (2.8.2)\n",
            "Requirement already satisfied: kiwisolver>=1.0.1 in /usr/local/lib/python3.7/dist-packages (from matplotlib>=2.2->seaborn) (1.4.2)\n",
            "Requirement already satisfied: pyparsing!=2.0.4,!=2.1.2,!=2.1.6,>=2.0.1 in /usr/local/lib/python3.7/dist-packages (from matplotlib>=2.2->seaborn) (3.0.8)\n",
            "Requirement already satisfied: cycler>=0.10 in /usr/local/lib/python3.7/dist-packages (from matplotlib>=2.2->seaborn) (0.11.0)\n",
            "Requirement already satisfied: typing-extensions in /usr/local/lib/python3.7/dist-packages (from kiwisolver>=1.0.1->matplotlib>=2.2->seaborn) (4.2.0)\n",
            "Requirement already satisfied: pytz>=2017.3 in /usr/local/lib/python3.7/dist-packages (from pandas>=0.23->seaborn) (2022.1)\n",
            "Requirement already satisfied: six>=1.5 in /usr/local/lib/python3.7/dist-packages (from python-dateutil>=2.1->matplotlib>=2.2->seaborn) (1.15.0)\n"
          ]
        }
      ],
      "source": [
        "!pip install gensim\n",
        "!pip install seaborn"
      ]
    },
    {
      "cell_type": "code",
      "source": [
        "import numpy as np\n",
        "import sklearn\n",
        "import gensim\n",
        "import pandas as pd"
      ],
      "metadata": {
        "id": "0Pf2ezJ0ZoWf"
      },
      "execution_count": 41,
      "outputs": []
    },
    {
      "cell_type": "code",
      "source": [
        "from google.colab import drive\n",
        "drive.mount('/content/drive')"
      ],
      "metadata": {
        "colab": {
          "base_uri": "https://localhost:8080/"
        },
        "id": "yr0C3Q-9Zkdk",
        "outputId": "4323d6d9-61aa-48e4-d314-8292572bf55c"
      },
      "execution_count": 42,
      "outputs": [
        {
          "output_type": "stream",
          "name": "stdout",
          "text": [
            "Drive already mounted at /content/drive; to attempt to forcibly remount, call drive.mount(\"/content/drive\", force_remount=True).\n"
          ]
        }
      ]
    },
    {
      "cell_type": "code",
      "source": [
        "# constants and global variables\n",
        "DATA_PATH = '/content/drive/MyDrive/Colab Notebooks/CIL/Dataset/{}'\n",
        "MODEL_PATH = '/content/drive/MyDrive/Colab Notebooks/CIL/Models/{}'\n",
        "PROBABILITIES_PATH = '/content/drive/MyDrive/Colab Notebooks/CIL/Probabilities/{}'\n",
        "\n",
        "# if set to true the trainig of the classifier models will be performed, otherwise the \n",
        "# models will be loaded from a file (if present)\n",
        "is_train_enabled = True\n",
        "\n",
        "# if set to true the trainig of the W2V model will be performed, otherwise the \n",
        "# model will be loaded from a file (if present)\n",
        "is_w2v_train_enabled = True"
      ],
      "metadata": {
        "id": "yp3uZOIHZrog"
      },
      "execution_count": 43,
      "outputs": []
    },
    {
      "cell_type": "markdown",
      "source": [
        "# Read Preprocessed Data"
      ],
      "metadata": {
        "id": "UFGe452DZ13u"
      }
    },
    {
      "cell_type": "code",
      "source": [
        "def load_X_data(file_name):\n",
        "  tweets = []\n",
        "  with open(DATA_PATH.format(file_name), 'r', encoding='utf-8') as f:\n",
        "      for line in f:\n",
        "        tweets.append(line.rstrip().split())\n",
        "  \n",
        "  return np.array(tweets)\n",
        "\n",
        "X_train = load_X_data(\"X_train_processed.txt\")\n",
        "X_test = load_X_data(\"X_test_processed.txt\")"
      ],
      "metadata": {
        "colab": {
          "base_uri": "https://localhost:8080/"
        },
        "id": "PCv_q-NNZ5o1",
        "outputId": "014aef49-8193-4c06-def9-c64f7d30cafb"
      },
      "execution_count": 47,
      "outputs": [
        {
          "output_type": "stream",
          "name": "stderr",
          "text": [
            "/usr/local/lib/python3.7/dist-packages/ipykernel_launcher.py:7: VisibleDeprecationWarning: Creating an ndarray from ragged nested sequences (which is a list-or-tuple of lists-or-tuples-or ndarrays with different lengths or shapes) is deprecated. If you meant to do this, you must specify 'dtype=object' when creating the ndarray.\n",
            "  import sys\n"
          ]
        }
      ]
    },
    {
      "cell_type": "code",
      "source": [
        "def load_y_data(file_name):\n",
        "  labels = []\n",
        "  with open(DATA_PATH.format(file_name), 'r', encoding='utf-8') as f:\n",
        "      for line in f:\n",
        "        labels.append(int(line.rstrip()))\n",
        "  \n",
        "  return np.array(labels)\n",
        "\n",
        "y_train = load_y_data(\"y_train.txt\")"
      ],
      "metadata": {
        "id": "1KBvk8kYZ-yj"
      },
      "execution_count": 48,
      "outputs": []
    },
    {
      "cell_type": "code",
      "source": [
        "for i in range(10):\n",
        "  print(X_train[i])\n",
        "  print(X_test[i])\n",
        "  print(y_train[i])"
      ],
      "metadata": {
        "colab": {
          "base_uri": "https://localhost:8080/"
        },
        "id": "iYkorfbNbvtt",
        "outputId": "72ab0c32-dfe1-45da-fb00-cf065395aabc"
      },
      "execution_count": 49,
      "outputs": [
        {
          "output_type": "stream",
          "name": "stdout",
          "text": [
            "['yes', 'even', 'realize', 'really', 'wanted', 'respond', 'want', 'buy', 'candy', 'something']\n",
            "['sea', 'doo', 'pro', 'sea', 'scooter', 'sport', 'portable', 'sea', 'doo', 'seascootersave', 'air']\n",
            "1\n",
            "['bradly', 'james', 'lowrey', 'bestfriend', 'mean', 'alot', 'justthoughtidleteveryoneknow']\n",
            "['shuck', 'well', 'work', 'week', 'come', 'cheer', 'oh', 'put', 'battery', 'calculator']\n",
            "1\n",
            "['mckleinusa', 'ashburn', 'series', 'leather', 'laptop', 'case', 'brown', 'clean', 'front', 'flap', 'design', 'secure', 'key', 'l']\n",
            "['cant', 'stay', 'away', 'bug', 'thats', 'baby']\n",
            "0\n",
            "['next', 'time', 'ima', 'come', 'yo', 'class', 'nd', 'wake', 'wanted', 'come', 'get', 'hug', 'sleep']\n",
            "['lol', 'im', 'perfectly', 'fine', 'contagious', 'anymore', 'lmao']\n",
            "0\n",
            "['trivial', 'pursuit', 'junior', 'second', 'edition', 'second', 'edition', 'junior', 'legendary', 'trivial', 'pursuit', 'game']\n",
            "['whenever', 'fall', 'asleep', 'watching', 'tv']\n",
            "0\n",
            "['new', 'bbm', 'add', 'please', 'pin']\n",
            "['need', 'get', 'rid', 'thing', 'scare', 'lol', 'need', 'car', 'either', 'need', 'driver', 'ed']\n",
            "1\n",
            "['morning', 'still', 'baby', 'everything', 'calmed', 'last', 'night', 'thanks', 'message', 'though']\n",
            "['whatever', 'terrible', 'mood']\n",
            "1\n",
            "['custom', 'picture', 'frame', 'poster', 'frame', 'wide', 'complete', 'smooth', 'cherry', 'frame', 'frame', 'man']\n",
            "['yes', 'rt', 'thanks', 'jordan']\n",
            "0\n",
            "['yeah', 'made', 'cry', 'like', 'little', 'bitch', 'love', 'luke']\n",
            "['friend', 'text', 'check', 'last', 'night']\n",
            "0\n",
            "['london', 'fgs', 'please', 'come', 'north']\n",
            "['followback', 'please', 'ur', 'unitytour', 'come', 'europe', 'sweden']\n",
            "0\n"
          ]
        }
      ]
    },
    {
      "cell_type": "markdown",
      "metadata": {
        "id": "Wtbgm8TgK0hp"
      },
      "source": [
        "# W2V"
      ]
    },
    {
      "cell_type": "code",
      "source": [
        "from gensim.models import Word2Vec\n",
        "import multiprocessing\n",
        "\n",
        "# Count the number of cores in the computer\n",
        "cores = multiprocessing.cpu_count()\n",
        "print(cores)\n",
        "\n",
        "# define the  W2V model\n",
        "# TODO: experiment with different hyperparameters\n",
        "w2v_model = Word2Vec(min_count=10,\n",
        "                     window=3,\n",
        "                     size=220,\n",
        "                     sample=6e-5, \n",
        "                     alpha=0.03, \n",
        "                     min_alpha=0.0007, \n",
        "                     negative=5,\n",
        "                     workers=cores-1)"
      ],
      "metadata": {
        "colab": {
          "base_uri": "https://localhost:8080/"
        },
        "id": "mPrJilY86pKl",
        "outputId": "2a6dc452-c19b-4ea9-c290-923985041ffd"
      },
      "execution_count": 50,
      "outputs": [
        {
          "output_type": "stream",
          "name": "stdout",
          "text": [
            "4\n"
          ]
        }
      ]
    },
    {
      "cell_type": "code",
      "source": [
        "#  build the vocabulary table\n",
        "if is_w2v_train_enabled:\n",
        "  w2v_model.build_vocab(X_train)"
      ],
      "metadata": {
        "id": "I_VYgZJG62hx"
      },
      "execution_count": 51,
      "outputs": []
    },
    {
      "cell_type": "code",
      "source": [
        "if is_w2v_train_enabled:\n",
        "  # train the model\n",
        "  w2v_model.train(X_train, total_examples=w2v_model.corpus_count, epochs=30, report_delay=1)\n",
        "  \n",
        "  # since we don't plan to train the model any further, we use this function to make the model more memory efficient\n",
        "  w2v_model.init_sims(replace=True)\n",
        "\n",
        "  # save the model to a file so that it can be reused without being trained from scratch\n",
        "  w2v_model.save(MODEL_PATH.format(\"word2vec.model\"))"
      ],
      "metadata": {
        "id": "spxiyo3f64O0"
      },
      "execution_count": 52,
      "outputs": []
    },
    {
      "cell_type": "code",
      "source": [
        "# load the trained model\n",
        "w2v_model = Word2Vec.load(MODEL_PATH.format(\"word2vec.model\"))"
      ],
      "metadata": {
        "id": "VZT9yPDj66JX"
      },
      "execution_count": 53,
      "outputs": []
    },
    {
      "cell_type": "markdown",
      "source": [
        "## Data Visualization"
      ],
      "metadata": {
        "id": "MnvcOCrq7DU9"
      }
    },
    {
      "cell_type": "code",
      "source": [
        "# check which words are most similar to\n",
        "w2v_model.wv.most_similar(positive=[\"lol\"])"
      ],
      "metadata": {
        "colab": {
          "base_uri": "https://localhost:8080/"
        },
        "id": "Ct10f4407Fu_",
        "outputId": "3bebb8d6-b5aa-4eb4-ad16-73daf8f02273"
      },
      "execution_count": 54,
      "outputs": [
        {
          "output_type": "execute_result",
          "data": {
            "text/plain": [
              "[('lmao', 0.8945410251617432),\n",
              " ('tho', 0.8337392210960388),\n",
              " ('haha', 0.7463964223861694),\n",
              " ('lmfao', 0.7463028430938721),\n",
              " ('cuz', 0.7277502417564392),\n",
              " ('thats', 0.726454496383667),\n",
              " ('smh', 0.7036717534065247),\n",
              " ('yea', 0.701973021030426),\n",
              " ('hahaha', 0.7008428573608398),\n",
              " ('lmaoo', 0.6887624859809875)]"
            ]
          },
          "metadata": {},
          "execution_count": 54
        }
      ]
    },
    {
      "cell_type": "code",
      "source": [
        "# check which words are most similar to\n",
        "w2v_model.wv.most_similar(positive=[\"war\"])"
      ],
      "metadata": {
        "colab": {
          "base_uri": "https://localhost:8080/"
        },
        "id": "OVVHwsxT7HcF",
        "outputId": "59840ea8-5414-49f8-d772-0203934d394f"
      },
      "execution_count": 55,
      "outputs": [
        {
          "output_type": "execute_result",
          "data": {
            "text/plain": [
              "[('civil', 0.5958130955696106),\n",
              " ('boer', 0.5742727518081665),\n",
              " ('battle', 0.5579674243927002),\n",
              " ('napoleonic', 0.5507412552833557),\n",
              " ('wwii', 0.5501512289047241),\n",
              " ('iraq', 0.531488299369812),\n",
              " ('soviet', 0.5281188488006592),\n",
              " ('foyle', 0.5257067680358887),\n",
              " ('liberation', 0.5251907706260681),\n",
              " ('terror', 0.5241838693618774)]"
            ]
          },
          "metadata": {},
          "execution_count": 55
        }
      ]
    },
    {
      "cell_type": "code",
      "source": [
        "# check which words are most similar to\n",
        "w2v_model.wv.most_similar(positive=[\"email\"])"
      ],
      "metadata": {
        "colab": {
          "base_uri": "https://localhost:8080/"
        },
        "id": "j5q81UslB8QK",
        "outputId": "5ba3cf9b-1482-43f0-c7e4-2256a3ed78f9"
      },
      "execution_count": 56,
      "outputs": [
        {
          "output_type": "execute_result",
          "data": {
            "text/plain": [
              "[('mail', 0.60262131690979),\n",
              " ('message', 0.5876030325889587),\n",
              " ('dm', 0.5690068602561951),\n",
              " ('fanmail', 0.5362128019332886),\n",
              " ('send', 0.5336012840270996),\n",
              " ('hotmail', 0.525222659111023),\n",
              " ('gmail', 0.5165649652481079),\n",
              " ('inbox', 0.5092840790748596),\n",
              " ('address', 0.5064045190811157),\n",
              " ('submit', 0.5044562816619873)]"
            ]
          },
          "metadata": {},
          "execution_count": 56
        }
      ]
    },
    {
      "cell_type": "code",
      "source": [
        "# return a number representing how much these two words are similar\n",
        "w2v_model.wv.similarity(\"lol\", 'haha')"
      ],
      "metadata": {
        "colab": {
          "base_uri": "https://localhost:8080/"
        },
        "id": "TflAG96N7JsC",
        "outputId": "f35bee51-03de-40a4-a6ee-ba03bd8938ba"
      },
      "execution_count": 57,
      "outputs": [
        {
          "output_type": "execute_result",
          "data": {
            "text/plain": [
              "0.7463964"
            ]
          },
          "metadata": {},
          "execution_count": 57
        }
      ]
    },
    {
      "cell_type": "code",
      "source": [
        "# return the word that is least similar to the others in the list\n",
        "w2v_model.wv.doesnt_match(['lol', 'haha', 'sad'])"
      ],
      "metadata": {
        "colab": {
          "base_uri": "https://localhost:8080/",
          "height": 91
        },
        "id": "aI0XIT0G7Lem",
        "outputId": "ae5e881e-a812-4352-9d36-423a13419b39"
      },
      "execution_count": 58,
      "outputs": [
        {
          "output_type": "stream",
          "name": "stderr",
          "text": [
            "/usr/local/lib/python3.7/dist-packages/gensim/models/keyedvectors.py:895: FutureWarning: arrays to stack must be passed as a \"sequence\" type such as list or tuple. Support for non-sequence iterables such as generators is deprecated as of NumPy 1.16 and will raise an error in the future.\n",
            "  vectors = vstack(self.word_vec(word, use_norm=True) for word in used_words).astype(REAL)\n"
          ]
        },
        {
          "output_type": "execute_result",
          "data": {
            "text/plain": [
              "'sad'"
            ],
            "application/vnd.google.colaboratory.intrinsic+json": {
              "type": "string"
            }
          },
          "metadata": {},
          "execution_count": 58
        }
      ]
    },
    {
      "cell_type": "code",
      "source": [
        "import matplotlib.pyplot as plt\n",
        "%matplotlib inline\n",
        " \n",
        "import seaborn as sns\n",
        "sns.set_style(\"darkgrid\")\n",
        "\n",
        "from sklearn.decomposition import PCA\n",
        "from sklearn.manifold import TSNE\n",
        "\n",
        "# draw words on a graph. Similar words  are close together in the graph.\n",
        "def tsnescatterplot(model, word, list_names):\n",
        "    \"\"\" Plot in seaborn the results from the t-SNE dimensionality reduction algorithm of the vectors of a query word,\n",
        "    its list of most similar words, and a list of words.\n",
        "    \"\"\"\n",
        "    arrays = np.empty((0, w2v_model.vector_size), dtype='f')\n",
        "    word_labels = [word]\n",
        "    color_list  = ['red']\n",
        "\n",
        "    # adds the vector of the query word\n",
        "    arrays = np.append(arrays, model.wv.__getitem__([word]), axis=0)\n",
        "    \n",
        "    # gets list of most similar words\n",
        "    close_words = model.wv.most_similar([word])\n",
        "    \n",
        "    # adds the vector for each of the closest words to the array\n",
        "    for wrd_score in close_words:\n",
        "        wrd_vector = model.wv.__getitem__([wrd_score[0]])\n",
        "        word_labels.append(wrd_score[0])\n",
        "        color_list.append('blue')\n",
        "        arrays = np.append(arrays, wrd_vector, axis=0)\n",
        "    \n",
        "    # adds the vector for each of the words from list_names to the array\n",
        "    for wrd in list_names:\n",
        "        wrd_vector = model.wv.__getitem__([wrd])\n",
        "        word_labels.append(wrd)\n",
        "        color_list.append('green')\n",
        "        arrays = np.append(arrays, wrd_vector, axis=0)\n",
        "        \n",
        "    # Reduces the dimensionality from 300 to 50 dimensions with PCA\n",
        "    reduc = PCA(n_components=19).fit_transform(arrays)\n",
        "    \n",
        "    # Finds t-SNE coordinates for 2 dimensions\n",
        "    np.set_printoptions(suppress=True)\n",
        "    \n",
        "    Y = TSNE(n_components=2, random_state=0, perplexity=15).fit_transform(reduc)\n",
        "    \n",
        "    # Sets everything up to plot\n",
        "    df = pd.DataFrame({'x': [x for x in Y[:, 0]],\n",
        "                       'y': [y for y in Y[:, 1]],\n",
        "                       'words': word_labels,\n",
        "                       'color': color_list})\n",
        "    \n",
        "    fig, _ = plt.subplots()\n",
        "    fig.set_size_inches(9, 9)\n",
        "    \n",
        "    # Basic plot\n",
        "    p1 = sns.regplot(data=df,\n",
        "                     x=\"x\",\n",
        "                     y=\"y\",\n",
        "                     fit_reg=False,\n",
        "                     marker=\"o\",\n",
        "                     scatter_kws={'s': 40,\n",
        "                                  'facecolors': df['color']\n",
        "                                 }\n",
        "                    )\n",
        "    \n",
        "    # Adds annotations one by one with a loop\n",
        "    for line in range(0, df.shape[0]):\n",
        "         p1.text(df[\"x\"][line],\n",
        "                 df['y'][line],\n",
        "                 '  ' + df[\"words\"][line].title(),\n",
        "                 horizontalalignment='left',\n",
        "                 verticalalignment='bottom', size='medium',\n",
        "                 color=df['color'][line],\n",
        "                 weight='normal'\n",
        "                ).set_size(15)\n",
        "\n",
        "    \n",
        "    plt.xlim(Y[:, 0].min()-50, Y[:, 0].max()+50)\n",
        "    plt.ylim(Y[:, 1].min()-50, Y[:, 1].max()+50)\n",
        "            \n",
        "    plt.title('t-SNE visualization for {}'.format(word.title()))"
      ],
      "metadata": {
        "id": "qbYFgSd67QTl"
      },
      "execution_count": 59,
      "outputs": []
    },
    {
      "cell_type": "code",
      "source": [
        "# visualize the 10 most similar words to doctor and 8 random words\n",
        "tsnescatterplot(w2v_model, 'lol', ['dog', 'bird', 'table', 'watch', 'pen', 'plant', 'bottle', 'backpack'])"
      ],
      "metadata": {
        "colab": {
          "base_uri": "https://localhost:8080/",
          "height": 655
        },
        "id": "rCZDq1Jc7Tdq",
        "outputId": "66bddbb6-329b-4a13-e32f-42d1a4a76717"
      },
      "execution_count": 60,
      "outputs": [
        {
          "output_type": "stream",
          "name": "stderr",
          "text": [
            "/usr/local/lib/python3.7/dist-packages/sklearn/manifold/_t_sne.py:783: FutureWarning: The default initialization in TSNE will change from 'random' to 'pca' in 1.2.\n",
            "  FutureWarning,\n",
            "/usr/local/lib/python3.7/dist-packages/sklearn/manifold/_t_sne.py:793: FutureWarning: The default learning rate in TSNE will change from 200.0 to 'auto' in 1.2.\n",
            "  FutureWarning,\n"
          ]
        },
        {
          "output_type": "display_data",
          "data": {
            "text/plain": [
              "<Figure size 648x648 with 1 Axes>"
            ],
            "image/png": "[encoded data removed]"
          },
          "metadata": {}
        }
      ]
    },
    {
      "cell_type": "code",
      "source": [
        "# given a list of sentences, for each sentence compute its emebedding by\n",
        "# computing the embedding of each word in the sentence and then divide by the\n",
        "# length of the phrase\n",
        "def generate_senteces_embeddings(X):\n",
        "  \n",
        "  sentences_embedding = []\n",
        "  # for each sentence in the set\n",
        "  for sentence in X:\n",
        "    sentence_length = len(sentence)\n",
        "    # this variable will hold the sum of each word embedding in the current phrase\n",
        "    sentence_embedding = np.zeros(w2v_model.vector_size)\n",
        "    # for each word in the sentence\n",
        "    for word in sentence:\n",
        "      # embedding of the current word\n",
        "      word_embedding = np.zeros(w2v_model.vector_size)\n",
        "\n",
        "      # compute the embedding of the current word. This is not always possible as\n",
        "      # not every word is in our dictionary. If this is not possible I simply discard\n",
        "      # the word and decrese the sentence length by 1. \n",
        "      try:\n",
        "        word_embedding = w2v_model.wv[word]\n",
        "      except KeyError:\n",
        "        sentence_length = sentence_length - 1\n",
        "      \n",
        "      sentence_embedding = sentence_embedding + word_embedding \n",
        "    \n",
        "    # in our dataset there are some (very few) length 1 sentences\n",
        "    # with one single word that is not part of the model vocabulary.\n",
        "    # In order to prevent a divison by 0, this if stattement is necessary.\n",
        "    if sentence_length == 0:\n",
        "      sentence_embedding = np.zeros(w2v_model.vector_size)\n",
        "    else:\n",
        "      sentence_embedding = sentence_embedding / sentence_length\n",
        "\n",
        "    # add the sentence embedding to the list that will be returned\n",
        "    sentences_embedding.append(np.array(sentence_embedding))\n",
        "  \n",
        "\n",
        "  return sentences_embedding\n",
        "\n",
        "X_train = np.array(generate_senteces_embeddings(X_train))\n",
        "X_test = np.array(generate_senteces_embeddings(X_test))"
      ],
      "metadata": {
        "id": "xovuEu1tIQpu"
      },
      "execution_count": 61,
      "outputs": []
    },
    {
      "cell_type": "markdown",
      "metadata": {
        "id": "_viGci2MLCRo"
      },
      "source": [
        "## Models\n",
        "Apply standard machine learning models to the words embeddings that come out of W2V."
      ]
    },
    {
      "cell_type": "markdown",
      "source": [
        "### Multi Layer Perceptron"
      ],
      "metadata": {
        "id": "RTtULnfLImuj"
      }
    },
    {
      "cell_type": "code",
      "source": [
        "from sklearn.model_selection import train_test_split\n",
        "\n",
        "# split the model into training test and validation\n",
        "# X_train, X_test_tmp, y_train, y_test_tmp = train_test_split(X_train, y_train, test_size=0.20, random_state=33)"
      ],
      "metadata": {
        "id": "ZTUswQqbI-T_"
      },
      "execution_count": 62,
      "outputs": []
    },
    {
      "cell_type": "code",
      "execution_count": 63,
      "metadata": {
        "id": "gsz3VjNBLJlG",
        "colab": {
          "base_uri": "https://localhost:8080/"
        },
        "outputId": "e9d47cfb-b39c-4e86-cb12-0e09ab81682b"
      },
      "outputs": [
        {
          "output_type": "stream",
          "name": "stdout",
          "text": [
            "Model: \"sequential_1\"\n",
            "_________________________________________________________________\n",
            " Layer (type)                Output Shape              Param #   \n",
            "=================================================================\n",
            " dense_11 (Dense)            (None, 512)               113152    \n",
            "                                                                 \n",
            " dense_12 (Dense)            (None, 512)               262656    \n",
            "                                                                 \n",
            " dropout_4 (Dropout)         (None, 512)               0         \n",
            "                                                                 \n",
            " dense_13 (Dense)            (None, 256)               131328    \n",
            "                                                                 \n",
            " dense_14 (Dense)            (None, 256)               65792     \n",
            "                                                                 \n",
            " dropout_5 (Dropout)         (None, 256)               0         \n",
            "                                                                 \n",
            " dense_15 (Dense)            (None, 128)               32896     \n",
            "                                                                 \n",
            " dense_16 (Dense)            (None, 128)               16512     \n",
            "                                                                 \n",
            " dropout_6 (Dropout)         (None, 128)               0         \n",
            "                                                                 \n",
            " dense_17 (Dense)            (None, 64)                8256      \n",
            "                                                                 \n",
            " dense_18 (Dense)            (None, 64)                4160      \n",
            "                                                                 \n",
            " dropout_7 (Dropout)         (None, 64)                0         \n",
            "                                                                 \n",
            " dense_19 (Dense)            (None, 32)                2080      \n",
            "                                                                 \n",
            " dense_20 (Dense)            (None, 32)                1056      \n",
            "                                                                 \n",
            " dense_21 (Dense)            (None, 2)                 66        \n",
            "                                                                 \n",
            "=================================================================\n",
            "Total params: 637,954\n",
            "Trainable params: 637,954\n",
            "Non-trainable params: 0\n",
            "_________________________________________________________________\n"
          ]
        }
      ],
      "source": [
        "import tensorflow\n",
        "from tensorflow.keras.models import Sequential\n",
        "from tensorflow.keras.layers import Dense, Dropout\n",
        "\n",
        "model = Sequential()\n",
        "model.add(Dense(512, input_dim=w2v_model.vector_size, activation='relu'))\n",
        "model.add(Dense(512, activation='relu'))\n",
        "model.add(Dropout(0.2))\n",
        "model.add(Dense(256, activation='relu'))\n",
        "model.add(Dense(256, activation='relu'))\n",
        "model.add(Dropout(0.2))\n",
        "model.add(Dense(128, activation='relu'))\n",
        "model.add(Dense(128, activation='relu'))\n",
        "model.add(Dropout(0.2))\n",
        "model.add(Dense(64,  activation='relu'))\n",
        "model.add(Dense(64,  activation='relu'))\n",
        "model.add(Dropout(0.2))\n",
        "model.add(Dense(32, activation='relu'))\n",
        "model.add(Dense(32, activation='relu'))\n",
        "model.add(Dense(2, activation='softmax'))\n",
        "\n",
        "model.compile(\n",
        "  optimizer='adam',\n",
        "  loss='sparse_categorical_crossentropy',\n",
        "  metrics=['accuracy'],\n",
        ")\n",
        "\n",
        "tensorflow.keras.utils.plot_model(model, show_shapes=True, dpi=64)\n",
        "model.count_params()\n",
        "model.summary()"
      ]
    },
    {
      "cell_type": "code",
      "source": [
        "from keras.callbacks import ModelCheckpoint, EarlyStopping, ReduceLROnPlateau\n",
        "\n",
        "file_path = MODEL_PATH.format(\"MLP_w2v.h5\")\n",
        "callbacks = [\n",
        "             ModelCheckpoint(file_path, monitor='val_accuracy', verbose=1, save_best_only=True, mode='max'),\n",
        "             ReduceLROnPlateau(monitor=\"val_accuracy\", mode=\"max\", patience=3, verbose=2),\n",
        "             EarlyStopping(monitor=\"val_accuracy\", mode=\"max\", patience=5, verbose=1)\n",
        "             ]\n",
        "if is_train_enabled:\n",
        "  history = model.fit(X_train, y_train, epochs=50, verbose=1, validation_split=0.10, callbacks=callbacks, batch_size=128)"
      ],
      "metadata": {
        "colab": {
          "base_uri": "https://localhost:8080/"
        },
        "id": "oSLTvf-oIsqL",
        "outputId": "6998e199-bd95-4f82-ede5-51743d35b291"
      },
      "execution_count": 64,
      "outputs": [
        {
          "output_type": "stream",
          "name": "stdout",
          "text": [
            "Epoch 1/50\n",
            "17577/17579 [============================>.] - ETA: 0s - loss: 0.4190 - accuracy: 0.8006\n",
            "Epoch 1: val_accuracy improved from -inf to 0.80880, saving model to /content/drive/MyDrive/Colab Notebooks/CIL/Models/MLP_w2v.h5\n",
            "17579/17579 [==============================] - 65s 4ms/step - loss: 0.4190 - accuracy: 0.8006 - val_loss: 0.4025 - val_accuracy: 0.8088 - lr: 0.0010\n",
            "Epoch 2/50\n",
            "17577/17579 [============================>.] - ETA: 0s - loss: 0.3984 - accuracy: 0.8117\n",
            "Epoch 2: val_accuracy improved from 0.80880 to 0.81250, saving model to /content/drive/MyDrive/Colab Notebooks/CIL/Models/MLP_w2v.h5\n",
            "17579/17579 [==============================] - 62s 4ms/step - loss: 0.3984 - accuracy: 0.8117 - val_loss: 0.3960 - val_accuracy: 0.8125 - lr: 0.0010\n",
            "Epoch 3/50\n",
            "17565/17579 [============================>.] - ETA: 0s - loss: 0.3899 - accuracy: 0.8159\n",
            "Epoch 3: val_accuracy improved from 0.81250 to 0.81549, saving model to /content/drive/MyDrive/Colab Notebooks/CIL/Models/MLP_w2v.h5\n",
            "17579/17579 [==============================] - 63s 4ms/step - loss: 0.3900 - accuracy: 0.8159 - val_loss: 0.3910 - val_accuracy: 0.8155 - lr: 0.0010\n",
            "Epoch 4/50\n",
            "17573/17579 [============================>.] - ETA: 0s - loss: 0.3839 - accuracy: 0.8194\n",
            "Epoch 4: val_accuracy improved from 0.81549 to 0.81615, saving model to /content/drive/MyDrive/Colab Notebooks/CIL/Models/MLP_w2v.h5\n",
            "17579/17579 [==============================] - 62s 4ms/step - loss: 0.3839 - accuracy: 0.8194 - val_loss: 0.3910 - val_accuracy: 0.8161 - lr: 0.0010\n",
            "Epoch 5/50\n",
            "17575/17579 [============================>.] - ETA: 0s - loss: 0.3798 - accuracy: 0.8212\n",
            "Epoch 5: val_accuracy improved from 0.81615 to 0.81759, saving model to /content/drive/MyDrive/Colab Notebooks/CIL/Models/MLP_w2v.h5\n",
            "17579/17579 [==============================] - 62s 4ms/step - loss: 0.3798 - accuracy: 0.8212 - val_loss: 0.3878 - val_accuracy: 0.8176 - lr: 0.0010\n",
            "Epoch 6/50\n",
            "17576/17579 [============================>.] - ETA: 0s - loss: 0.3757 - accuracy: 0.8235\n",
            "Epoch 6: val_accuracy did not improve from 0.81759\n",
            "17579/17579 [==============================] - 61s 3ms/step - loss: 0.3757 - accuracy: 0.8235 - val_loss: 0.3917 - val_accuracy: 0.8151 - lr: 0.0010\n",
            "Epoch 7/50\n",
            "17577/17579 [============================>.] - ETA: 0s - loss: 0.3720 - accuracy: 0.8255\n",
            "Epoch 7: val_accuracy did not improve from 0.81759\n",
            "17579/17579 [==============================] - 61s 3ms/step - loss: 0.3720 - accuracy: 0.8255 - val_loss: 0.3865 - val_accuracy: 0.8174 - lr: 0.0010\n",
            "Epoch 8/50\n",
            "17578/17579 [============================>.] - ETA: 0s - loss: 0.3687 - accuracy: 0.8272\n",
            "Epoch 8: val_accuracy improved from 0.81759 to 0.81864, saving model to /content/drive/MyDrive/Colab Notebooks/CIL/Models/MLP_w2v.h5\n",
            "17579/17579 [==============================] - 63s 4ms/step - loss: 0.3687 - accuracy: 0.8272 - val_loss: 0.3862 - val_accuracy: 0.8186 - lr: 0.0010\n",
            "Epoch 9/50\n",
            "17572/17579 [============================>.] - ETA: 0s - loss: 0.3664 - accuracy: 0.8284\n",
            "Epoch 9: val_accuracy did not improve from 0.81864\n",
            "17579/17579 [==============================] - 61s 3ms/step - loss: 0.3664 - accuracy: 0.8284 - val_loss: 0.3854 - val_accuracy: 0.8185 - lr: 0.0010\n",
            "Epoch 10/50\n",
            "17575/17579 [============================>.] - ETA: 0s - loss: 0.3636 - accuracy: 0.8296\n",
            "Epoch 10: val_accuracy did not improve from 0.81864\n",
            "17579/17579 [==============================] - 61s 3ms/step - loss: 0.3636 - accuracy: 0.8296 - val_loss: 0.3905 - val_accuracy: 0.8168 - lr: 0.0010\n",
            "Epoch 11/50\n",
            "17565/17579 [============================>.] - ETA: 0s - loss: 0.3613 - accuracy: 0.8309\n",
            "Epoch 11: val_accuracy did not improve from 0.81864\n",
            "\n",
            "Epoch 11: ReduceLROnPlateau reducing learning rate to 0.00010000000474974513.\n",
            "17579/17579 [==============================] - 61s 3ms/step - loss: 0.3613 - accuracy: 0.8309 - val_loss: 0.3884 - val_accuracy: 0.8170 - lr: 0.0010\n",
            "Epoch 12/50\n",
            "17569/17579 [============================>.] - ETA: 0s - loss: 0.3467 - accuracy: 0.8382\n",
            "Epoch 12: val_accuracy improved from 0.81864 to 0.82035, saving model to /content/drive/MyDrive/Colab Notebooks/CIL/Models/MLP_w2v.h5\n",
            "17579/17579 [==============================] - 63s 4ms/step - loss: 0.3467 - accuracy: 0.8382 - val_loss: 0.3845 - val_accuracy: 0.8204 - lr: 1.0000e-04\n",
            "Epoch 13/50\n",
            "17574/17579 [============================>.] - ETA: 0s - loss: 0.3422 - accuracy: 0.8402\n",
            "Epoch 13: val_accuracy did not improve from 0.82035\n",
            "17579/17579 [==============================] - 63s 4ms/step - loss: 0.3422 - accuracy: 0.8402 - val_loss: 0.3853 - val_accuracy: 0.8195 - lr: 1.0000e-04\n",
            "Epoch 14/50\n",
            "17578/17579 [============================>.] - ETA: 0s - loss: 0.3400 - accuracy: 0.8416\n",
            "Epoch 14: val_accuracy did not improve from 0.82035\n",
            "17579/17579 [==============================] - 62s 4ms/step - loss: 0.3400 - accuracy: 0.8416 - val_loss: 0.3856 - val_accuracy: 0.8199 - lr: 1.0000e-04\n",
            "Epoch 15/50\n",
            "17574/17579 [============================>.] - ETA: 0s - loss: 0.3381 - accuracy: 0.8426\n",
            "Epoch 15: val_accuracy did not improve from 0.82035\n",
            "\n",
            "Epoch 15: ReduceLROnPlateau reducing learning rate to 1.0000000474974514e-05.\n",
            "17579/17579 [==============================] - 61s 3ms/step - loss: 0.3381 - accuracy: 0.8426 - val_loss: 0.3861 - val_accuracy: 0.8202 - lr: 1.0000e-04\n",
            "Epoch 16/50\n",
            "17576/17579 [============================>.] - ETA: 0s - loss: 0.3353 - accuracy: 0.8442\n",
            "Epoch 16: val_accuracy did not improve from 0.82035\n",
            "17579/17579 [==============================] - 61s 3ms/step - loss: 0.3353 - accuracy: 0.8442 - val_loss: 0.3876 - val_accuracy: 0.8200 - lr: 1.0000e-05\n",
            "Epoch 17/50\n",
            "17578/17579 [============================>.] - ETA: 0s - loss: 0.3347 - accuracy: 0.8443\n",
            "Epoch 17: val_accuracy did not improve from 0.82035\n",
            "17579/17579 [==============================] - 61s 3ms/step - loss: 0.3347 - accuracy: 0.8443 - val_loss: 0.3880 - val_accuracy: 0.8202 - lr: 1.0000e-05\n",
            "Epoch 17: early stopping\n"
          ]
        }
      ]
    },
    {
      "cell_type": "code",
      "source": [
        "# load the model from the corresposning h5 file\n",
        "model.load_weights(MODEL_PATH.format(\"MLP_w2v.h5\"))"
      ],
      "metadata": {
        "id": "YsOBe9qPIxBn"
      },
      "execution_count": 65,
      "outputs": []
    },
    {
      "cell_type": "code",
      "source": [
        "y_pred = model.predict(X_test)\n",
        "\n",
        "# write prediction probabilites to a file. These probabilites will be used to create\n",
        "# an ensemble of models\n",
        "def write_output_probas(file_name, Y):\n",
        "  f  = open(file_name, \"w\")\n",
        "  f.write(\"Id,Prediction\\n\")\n",
        "  id = 1\n",
        "  for y in Y:\n",
        "    f.write(str(id) + \",\" + str(list(y)) + \"\\n\")\n",
        "    id = id + 1\n",
        "  f.close()\n",
        "\n",
        "write_output_probas(PROBABILITIES_PATH.format(\"mlp_w2v_probabilities.csv\"), y_pred)\n",
        "\n",
        "\n",
        "# write predictions to file\n",
        "y_pred = np.argmax(np.array(y_pred), axis=-1)\n",
        "def write_output(file_name, Y):\n",
        "  f  = open(file_name, \"w\")\n",
        "  f.write(\"Id,Prediction\\n\")\n",
        "  id = 1\n",
        "  for y in Y:\n",
        "    if y == 0:\n",
        "      y = -1\n",
        "    f.write(str(id) + \",\" + str(y) + \"\\n\")\n",
        "    id = id + 1\n",
        "  f.close()\n",
        "\n",
        "write_output(DATA_PATH.format(\"mlp_w2v_predictions.csv\"), y_pred)"
      ],
      "metadata": {
        "id": "SR7HDXc7sQgT"
      },
      "execution_count": 66,
      "outputs": []
    },
    {
      "cell_type": "code",
      "source": [
        "# from sklearn.metrics import f1_score, accuracy_score\n",
        "\n",
        "# y_pred = np.argmax(model.predict(X_test_tmp), axis=-1)\n",
        "\n",
        "# f1 = f1_score(y_test_tmp, y_pred, average=\"macro\")\n",
        "# print(\"Test f1 score : %s \"% f1)\n",
        "\n",
        "# acc = accuracy_score(y_test_tmp, y_pred)\n",
        "# print(\"Test accuracy score : %s \"% acc)"
      ],
      "metadata": {
        "id": "YAyXByY2Izoz"
      },
      "execution_count": 67,
      "outputs": []
    },
    {
      "cell_type": "code",
      "source": [
        "if is_train_enabled:\n",
        "  # Plot training & validation loss values\n",
        "  plt.plot(history.history['loss'])\n",
        "  plt.plot(history.history['val_loss'])\n",
        "  plt.title('Model loss')\n",
        "  plt.ylabel('loss')\n",
        "  plt.xlabel('Epoch')\n",
        "  plt.legend(['Train', 'Validation'], loc='upper left')\n",
        "  plt.show()"
      ],
      "metadata": {
        "colab": {
          "base_uri": "https://localhost:8080/",
          "height": 295
        },
        "id": "AMsPgE9xI1QL",
        "outputId": "0114d5dc-39ee-409c-feda-8bb32851f021"
      },
      "execution_count": 68,
      "outputs": [
        {
          "output_type": "display_data",
          "data": {
            "text/plain": [
              "<Figure size 432x288 with 1 Axes>"
            ],
            "image/png": "[encoded data removed]"
          },
          "metadata": {}
        }
      ]
    },
    {
      "cell_type": "code",
      "source": [
        "if is_train_enabled:\n",
        "  # Plot training & validation accuracy values\n",
        "  plt.plot(history.history['accuracy'])\n",
        "  plt.plot(history.history['val_accuracy'])\n",
        "  plt.title('Model accuracy')\n",
        "  plt.ylabel('Accuracy')\n",
        "  plt.xlabel('Epoch')\n",
        "  plt.legend(['Train', 'Validation'], loc='upper left')\n",
        "  plt.show()"
      ],
      "metadata": {
        "colab": {
          "base_uri": "https://localhost:8080/",
          "height": 295
        },
        "id": "JIC-7vrFI21P",
        "outputId": "8ba69506-fd30-445b-ea25-01eb989dd7e3"
      },
      "execution_count": 69,
      "outputs": [
        {
          "output_type": "display_data",
          "data": {
            "text/plain": [
              "<Figure size 432x288 with 1 Axes>"
            ],
            "image/png": "[encoded data removed]"
          },
          "metadata": {}
        }
      ]
    },
    {
      "cell_type": "code",
      "source": [
        "# from sklearn.metrics import ConfusionMatrixDisplay, confusion_matrix\n",
        "# import matplotlib.pyplot as plt\n",
        "\n",
        "# # Plotting confusion matrix\n",
        "# cm = confusion_matrix(y_test_tmp, y_pred)\n",
        "\n",
        "# disp = ConfusionMatrixDisplay(confusion_matrix=cm, display_labels=[0,1,2,3])\n",
        "\n",
        "# disp.plot(cmap=plt.cm.Blues)\n",
        "# plt.show()"
      ],
      "metadata": {
        "id": "ZoVeJUFXI4Sb"
      },
      "execution_count": 70,
      "outputs": []
    }
  ]
}