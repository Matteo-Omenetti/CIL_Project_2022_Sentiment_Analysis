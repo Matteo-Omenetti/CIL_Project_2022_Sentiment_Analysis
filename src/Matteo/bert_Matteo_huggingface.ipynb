{
  "cells": [
    {
      "cell_type": "markdown",
      "metadata": {
        "id": "UfprFglXdnNk"
      },
      "source": [
        "# Setup"
      ]
    },
    {
      "cell_type": "code",
      "execution_count": 35,
      "metadata": {
        "id": "rHCbxCcMedU6"
      },
      "outputs": [],
      "source": [
        "%%capture\n",
        "!pip install transformers\n",
        "!pip install datasets"
      ]
    },
    {
      "cell_type": "code",
      "execution_count": 36,
      "metadata": {
        "id": "0Pf2ezJ0ZoWf"
      },
      "outputs": [],
      "source": [
        "import numpy as np\n",
        "import sklearn\n",
        "import pandas as pd\n",
        "import tensorflow as tf"
      ]
    },
    {
      "cell_type": "code",
      "execution_count": 37,
      "metadata": {
        "colab": {
          "base_uri": "https://localhost:8080/"
        },
        "id": "yr0C3Q-9Zkdk",
        "outputId": "947ef957-dacc-4abb-a979-aaa3d1510d02"
      },
      "outputs": [
        {
          "output_type": "stream",
          "name": "stdout",
          "text": [
            "Drive already mounted at /content/drive; to attempt to forcibly remount, call drive.mount(\"/content/drive\", force_remount=True).\n"
          ]
        }
      ],
      "source": [
        "from google.colab import drive\n",
        "drive.mount('/content/drive')"
      ]
    },
    {
      "cell_type": "code",
      "execution_count": 38,
      "metadata": {
        "id": "yp3uZOIHZrog"
      },
      "outputs": [],
      "source": [
        "# constants and global variables\n",
        "DATA_PATH = '/content/drive/MyDrive/Colab Notebooks/CIL/Dataset/{}'\n",
        "MODEL_PATH = '/content/drive/MyDrive/Colab Notebooks/CIL/Models/{}'\n",
        "PROBABILITIES = '/content/drive/MyDrive/Colab Notebooks/CIL/Probabilities/{}'\n",
        "PREDICTIONS = '/content/drive/MyDrive/Colab Notebooks/CIL/Predictions/{}'\n",
        "\n",
        "# MODEL_NAME = \"bert-base-cased\"\n",
        "# MODEL_NAME =  \"roberta-base\"\n",
        "MODEL_NAME = \"cardiffnlp/twitter-roberta-base-sentiment-latest\"\n",
        "\n",
        "# if set to true the trainig of the classifier models will be performed, otherwise the \n",
        "# models will be loaded from a file (if present)\n",
        "is_train_enabled = True"
      ]
    },
    {
      "cell_type": "markdown",
      "metadata": {
        "id": "UFGe452DZ13u"
      },
      "source": [
        "# Read Preprocessed Data"
      ]
    },
    {
      "cell_type": "code",
      "execution_count": 39,
      "metadata": {
        "id": "PCv_q-NNZ5o1"
      },
      "outputs": [],
      "source": [
        "def load_X_data(file_name):\n",
        "  tweets = []\n",
        "  with open(DATA_PATH.format(file_name), 'r', encoding='utf-8') as f:\n",
        "      for line in f:\n",
        "        tweets.append(line.rstrip())\n",
        "  \n",
        "  return np.array(tweets)\n",
        "\n",
        "X_train = load_X_data(\"X_train_processed_bert_full.txt\")\n",
        "X_test = load_X_data(\"X_test_processed_bert_full.txt\")\n",
        "\n",
        "# swap url and user with @user and http\n",
        "if MODEL_NAME == \"cardiffnlp/twitter-roberta-base-sentiment-latest\":\n",
        "  X_train = list(map(lambda tweet : tweet.replace(\"<user>\", \"@user\").replace(\"<url>\", \"http\"), X_train))\n",
        "  X_test = list(map(lambda tweet : tweet.replace(\"<user>\", \"@user\").replace(\"<url>\", \"http\"), X_test))"
      ]
    },
    {
      "cell_type": "code",
      "execution_count": 40,
      "metadata": {
        "id": "1KBvk8kYZ-yj"
      },
      "outputs": [],
      "source": [
        "def load_y_data(file_name):\n",
        "  labels = []\n",
        "  with open(DATA_PATH.format(file_name), 'r', encoding='utf-8') as f:\n",
        "      for line in f:\n",
        "        labels.append(int(line.rstrip()))\n",
        "  \n",
        "  return np.array(labels)\n",
        "\n",
        "y_train = load_y_data(\"y_train_full.txt\")"
      ]
    },
    {
      "cell_type": "code",
      "execution_count": 41,
      "metadata": {
        "colab": {
          "base_uri": "https://localhost:8080/"
        },
        "id": "iYkorfbNbvtt",
        "outputId": "a1e1933a-3a1a-4c10-d76d-3de38825571a"
      },
      "outputs": [
        {
          "output_type": "stream",
          "name": "stdout",
          "text": [
            "@user yes i didn't even realize he did ! i really wanted him to respond because i want to buy him candy or something\n",
            "sea doo pro sea scooter ( sports with the portable sea-doo seascootersave air , stay longer in the water and ... http\n",
            "1\n",
            "bradly james lowrey is my bestfriend & & & he mean alot to me #justthoughtidleteveryoneknow\n",
            "@user shucks well i work all week so now i can't come cheer you on ! oh and put those batteries in your calculator ! ! !\n",
            "1\n",
            "mckleinusa ashburn 15144 s series leather laptop case ( brown clean , front flap-over design with a secure key l ... http\n",
            "i cant stay away from bug thats my baby\n",
            "0\n",
            "@user next time ima come in yo class nd wake you up myself ! i wanted you to come out , so i can get my hug but you was sleep\n",
            "@user no ma'am ! ! ! lol im perfectly fine and not contagious anymore lmao\n",
            "0\n",
            "trivial pursuit for juniors ( second edition the second edition for juniors of the legendary trivial pursuit games http\n",
            "whenever i fall asleep watching the tv , i always wake up with a headache\n",
            "0\n",
            "new #bbm adds please pin : 28b9ead0\n",
            "@user he needs to get rid of that thing ! it scares me lol but he don't need a car either . he needs drivers ed again .\n",
            "1\n",
            "morning ! still no baby as everything calmed down again last night ... thanks for all the messages though\n",
            "its whatever . in a terrible mood ( (\n",
            "1\n",
            "19x26 custom picture frame / poster frame 1.01 \" wide complete smooth cherry frame ( 1smoothch this frame is man ... http\n",
            "yesss ! rt @user @user thanks jordan , i love you and i'm gonna call you later !\n",
            "0\n",
            "@user yeah , it made me cry like a little bitch love you luke .\n",
            "my friend @user text me to check up on me last night .\n",
            "0\n",
            "@user is in london why can't i be there fgs . please come up north ! ! !\n",
            "@user #followback please . when will ur #unitytour come to europe and sweden ? ?\n",
            "0\n"
          ]
        }
      ],
      "source": [
        "# X_train = X_train[0:500000]\n",
        "# y_train = y_train[0:500000]\n",
        "for i in range(10):\n",
        "  print(X_train[i])\n",
        "  print(X_test[i])\n",
        "  print(y_train[i])"
      ]
    },
    {
      "cell_type": "code",
      "source": [
        "from sklearn.model_selection import train_test_split\n",
        "\n",
        "# split the model into training test and validation\n",
        "# X_train, X_val, y_train, y_val = train_test_split(X_train, y_train, test_size=0.05, random_state=55)"
      ],
      "metadata": {
        "id": "A2GoiiY9c_Vu"
      },
      "execution_count": 42,
      "outputs": []
    },
    {
      "cell_type": "markdown",
      "metadata": {
        "id": "ag8SOn__eTSi"
      },
      "source": [
        "# BERT HUGGINFACE "
      ]
    },
    {
      "cell_type": "code",
      "execution_count": 43,
      "metadata": {
        "id": "7Jtc_yDEeTC5"
      },
      "outputs": [],
      "source": [
        "from datasets import Dataset\n",
        "\n",
        "# go from list type to 'Dataset' type. This object is requiered to train the model\n",
        "df = pd.DataFrame(X_train, columns =['Phrase'])\n",
        "train = Dataset.from_pandas(df).add_column(name=\"Label\", column=y_train)\n",
        "\n",
        "# df = pd.DataFrame(X_val, columns =['Phrase'])\n",
        "# val = Dataset.from_pandas(df).add_column(name=\"Label\", column=y_val)\n",
        "\n",
        "df = pd.DataFrame(X_test, columns =['Phrase'])\n",
        "test = Dataset.from_pandas(df)"
      ]
    },
    {
      "cell_type": "code",
      "execution_count": 44,
      "metadata": {
        "colab": {
          "base_uri": "https://localhost:8080/",
          "height": 401,
          "referenced_widgets": [
            "867b704c3d354a96acda93b07e880467",
            "4c88cff27c2045379b34cf6699b45609",
            "97b6d2e065e94553abdb4d2acb749367",
            "645d220613f0442da9c2b5dee39437b3",
            "93b7b832869042efa66a2112cd5d4a4a",
            "f7a77eda35424316839a894d1c5b8f66",
            "48b8338143fe41c1813b707e2143ff09",
            "43ea490d5e0440958028f8b94eda1d09",
            "0e1136f3fe004b24af9721ae9ae68db3",
            "67c3dd5d6ec0404c975ad79e018e14f0",
            "15710ca389754f28ad31123d14284a3b",
            "4a4bb3576ef9484cabc48a0d2ee6d82c",
            "3e37a86a78854d59a10934a18ac33e5e",
            "51f2c2aab12c4585a475bcb9b9cbcde1",
            "345c30d6e0a8430188203ed3af9b9ff3",
            "d3149fbe78244cfebd09384003a9600c",
            "d93c889d1a5d48d496a7dfd4795cb8cc",
            "66f3216d9034465a9a6a217bcd1aeb36",
            "a8c52e7ebdda4f0ba69bbf98ef0da359",
            "4adf9a8220ef489e93092fef8748505d",
            "9e93f1cebc694c29871ee1791b71a681",
            "ab84b88fe2bd4f8db4a8f45eaac9bcf2",
            "2cc8c9c652f74c1ca214e8d4375ee0df",
            "324fd92e33ad46d1a82bdf9c567044c5",
            "74e47e6bf2634020a33025d49e3a0069",
            "9caeb9feaf3e46c0b9a73c52815382a1",
            "d797bda509d84a858595a20414408596",
            "7e871e7f93044cde8572b0ece05c7413",
            "9251e29828da40b1a3da65d34a1ffaac",
            "4daba687af2f40efa06f3ccf7b5e9abd",
            "af906a39e84440d19fd6301bf1ee301b",
            "0206f85d662647b79a55472ea0e67f58",
            "a50d5187d4994b8fb99c79ac1b490b76"
          ]
        },
        "id": "w10o8NjKghpt",
        "outputId": "c3d0804e-b1b5-496f-f8ed-4c64f785373b"
      },
      "outputs": [
        {
          "output_type": "display_data",
          "data": {
            "text/plain": [
              "  0%|          | 0/2375 [00:00<?, ?ba/s]"
            ],
            "application/vnd.jupyter.widget-view+json": {
              "version_major": 2,
              "version_minor": 0,
              "model_id": "867b704c3d354a96acda93b07e880467"
            }
          },
          "metadata": {}
        },
        {
          "output_type": "display_data",
          "data": {
            "text/plain": [
              "  0%|          | 0/10 [00:00<?, ?ba/s]"
            ],
            "application/vnd.jupyter.widget-view+json": {
              "version_major": 2,
              "version_minor": 0,
              "model_id": "4a4bb3576ef9484cabc48a0d2ee6d82c"
            }
          },
          "metadata": {}
        },
        {
          "output_type": "display_data",
          "data": {
            "text/plain": [
              "  0%|          | 0/125 [00:00<?, ?ba/s]"
            ],
            "application/vnd.jupyter.widget-view+json": {
              "version_major": 2,
              "version_minor": 0,
              "model_id": "2cc8c9c652f74c1ca214e8d4375ee0df"
            }
          },
          "metadata": {}
        },
        {
          "output_type": "stream",
          "name": "stdout",
          "text": [
            "{'Phrase': '@user damn well a pic like that proves why your mother should have swallowed you instead', 'Label': 1, 'input_ids': [0, 1039, 12105, 16490, 157, 10, 1893, 101, 14, 14476, 596, 110, 985, 197, 33, 32305, 47, 1386, 2, 1, 1, 1, 1, 1, 1, 1, 1, 1, 1, 1, 1, 1, 1, 1, 1, 1, 1, 1, 1, 1], 'attention_mask': [1, 1, 1, 1, 1, 1, 1, 1, 1, 1, 1, 1, 1, 1, 1, 1, 1, 1, 1, 0, 0, 0, 0, 0, 0, 0, 0, 0, 0, 0, 0, 0, 0, 0, 0, 0, 0, 0, 0, 0]}\n",
            "{'Phrase': 'sea doo pro sea scooter ( sports with the portable sea-doo seascootersave air , stay longer in the water and ... http', 'input_ids': [0, 16466, 109, 139, 1759, 3342, 2850, 15917, 36, 1612, 19, 5, 15295, 3342, 12, 417, 3036, 842, 8631, 22923, 4097, 935, 2156, 1095, 1181, 11, 5, 514, 8, 1666, 2054, 2, 1, 1, 1, 1, 1, 1, 1, 1], 'attention_mask': [1, 1, 1, 1, 1, 1, 1, 1, 1, 1, 1, 1, 1, 1, 1, 1, 1, 1, 1, 1, 1, 1, 1, 1, 1, 1, 1, 1, 1, 1, 1, 1, 0, 0, 0, 0, 0, 0, 0, 0]}\n",
            "{'Phrase': \"@user believe you have some homework reading your going to teach me mr . smarty .. i'm so proud of you\", 'Label': 1, 'input_ids': [0, 1039, 12105, 679, 47, 33, 103, 19122, 2600, 110, 164, 7, 6396, 162, 475, 338, 479, 2793, 219, 29942, 939, 437, 98, 2602, 9, 47, 2, 1, 1, 1, 1, 1, 1, 1, 1, 1, 1, 1, 1, 1], 'attention_mask': [1, 1, 1, 1, 1, 1, 1, 1, 1, 1, 1, 1, 1, 1, 1, 1, 1, 1, 1, 1, 1, 1, 1, 1, 1, 1, 1, 0, 0, 0, 0, 0, 0, 0, 0, 0, 0, 0, 0, 0]}\n",
            "{'Phrase': '@user bit late but only just come on here night gok and good morning have a great day', 'Label': 1, 'input_ids': [0, 1039, 12105, 828, 628, 53, 129, 95, 283, 15, 259, 363, 213, 330, 8, 205, 662, 33, 10, 372, 183, 2, 1, 1, 1, 1, 1, 1, 1, 1, 1, 1, 1, 1, 1, 1, 1, 1, 1, 1], 'attention_mask': [1, 1, 1, 1, 1, 1, 1, 1, 1, 1, 1, 1, 1, 1, 1, 1, 1, 1, 1, 1, 1, 1, 0, 0, 0, 0, 0, 0, 0, 0, 0, 0, 0, 0, 0, 0, 0, 0, 0, 0]}\n",
            "{'Phrase': \"@user shucks well i work all week so now i can't come cheer you on ! oh and put those batteries in your calculator ! ! !\", 'input_ids': [0, 1039, 12105, 1481, 19667, 157, 939, 173, 70, 186, 98, 122, 939, 64, 75, 283, 9450, 47, 15, 27785, 14223, 8, 342, 167, 10535, 11, 110, 37024, 27785, 27785, 27785, 2, 1, 1, 1, 1, 1, 1, 1, 1], 'attention_mask': [1, 1, 1, 1, 1, 1, 1, 1, 1, 1, 1, 1, 1, 1, 1, 1, 1, 1, 1, 1, 1, 1, 1, 1, 1, 1, 1, 1, 1, 1, 1, 1, 0, 0, 0, 0, 0, 0, 0, 0]}\n",
            "{'Phrase': 'yea not my best way i wanted to end my day . guess im down that road again . ( nity nite everyone .', 'Label': 0, 'input_ids': [0, 4717, 102, 45, 127, 275, 169, 939, 770, 7, 253, 127, 183, 479, 4443, 4356, 159, 14, 921, 456, 479, 36, 295, 1571, 295, 1459, 961, 479, 2, 1, 1, 1, 1, 1, 1, 1, 1, 1, 1, 1], 'attention_mask': [1, 1, 1, 1, 1, 1, 1, 1, 1, 1, 1, 1, 1, 1, 1, 1, 1, 1, 1, 1, 1, 1, 1, 1, 1, 1, 1, 1, 1, 0, 0, 0, 0, 0, 0, 0, 0, 0, 0, 0]}\n",
            "{'Phrase': 'round 1 of kettlercise tonight ) )', 'Label': 1, 'input_ids': [0, 3431, 112, 9, 449, 2645, 1371, 44568, 3422, 4839, 4839, 2, 1, 1, 1, 1, 1, 1, 1, 1, 1, 1, 1, 1, 1, 1, 1, 1, 1, 1, 1, 1, 1, 1, 1, 1, 1, 1, 1, 1], 'attention_mask': [1, 1, 1, 1, 1, 1, 1, 1, 1, 1, 1, 1, 0, 0, 0, 0, 0, 0, 0, 0, 0, 0, 0, 0, 0, 0, 0, 0, 0, 0, 0, 0, 0, 0, 0, 0, 0, 0, 0, 0]}\n",
            "{'Phrase': 'i cant stay away from bug thats my baby', 'input_ids': [0, 118, 17672, 1095, 409, 31, 13673, 45365, 127, 1928, 2, 1, 1, 1, 1, 1, 1, 1, 1, 1, 1, 1, 1, 1, 1, 1, 1, 1, 1, 1, 1, 1, 1, 1, 1, 1, 1, 1, 1, 1], 'attention_mask': [1, 1, 1, 1, 1, 1, 1, 1, 1, 1, 1, 0, 0, 0, 0, 0, 0, 0, 0, 0, 0, 0, 0, 0, 0, 0, 0, 0, 0, 0, 0, 0, 0, 0, 0, 0, 0, 0, 0, 0]}\n",
            "{'Phrase': 'enterprise ajax : strategies for building high performance web applications ( paperback \" the core technologies o ... http', 'Label': 0, 'input_ids': [0, 11798, 22627, 10, 267, 3631, 4832, 4964, 13, 745, 239, 819, 3748, 2975, 36, 42979, 22, 5, 2731, 4233, 1021, 1666, 2054, 2, 1, 1, 1, 1, 1, 1, 1, 1, 1, 1, 1, 1, 1, 1, 1, 1], 'attention_mask': [1, 1, 1, 1, 1, 1, 1, 1, 1, 1, 1, 1, 1, 1, 1, 1, 1, 1, 1, 1, 1, 1, 1, 1, 0, 0, 0, 0, 0, 0, 0, 0, 0, 0, 0, 0, 0, 0, 0, 0]}\n",
            "{'Phrase': '@user it would mean the absolute world to me if you followed me ! ? <3 <3 xx omg i always miss when youre online', 'Label': 0, 'input_ids': [0, 1039, 12105, 24, 74, 1266, 5, 7833, 232, 7, 162, 114, 47, 1432, 162, 27785, 17487, 28696, 246, 28696, 246, 37863, 1021, 22984, 939, 460, 2649, 77, 47, 241, 804, 2, 1, 1, 1, 1, 1, 1, 1, 1], 'attention_mask': [1, 1, 1, 1, 1, 1, 1, 1, 1, 1, 1, 1, 1, 1, 1, 1, 1, 1, 1, 1, 1, 1, 1, 1, 1, 1, 1, 1, 1, 1, 1, 1, 0, 0, 0, 0, 0, 0, 0, 0]}\n",
            "{'Phrase': \"@user no ma'am ! ! ! lol im perfectly fine and not contagious anymore lmao\", 'input_ids': [0, 1039, 12105, 117, 9131, 108, 424, 27785, 27785, 27785, 29784, 4356, 6683, 2051, 8, 45, 27432, 5988, 784, 1916, 139, 2, 1, 1, 1, 1, 1, 1, 1, 1, 1, 1, 1, 1, 1, 1, 1, 1, 1, 1], 'attention_mask': [1, 1, 1, 1, 1, 1, 1, 1, 1, 1, 1, 1, 1, 1, 1, 1, 1, 1, 1, 1, 1, 1, 0, 0, 0, 0, 0, 0, 0, 0, 0, 0, 0, 0, 0, 0, 0, 0, 0, 0]}\n",
            "{'Phrase': '#gigmemories drinking cider out of wine glasses @user x', 'Label': 1, 'input_ids': [0, 10431, 571, 1023, 25683, 9023, 4835, 27415, 66, 9, 3984, 11121, 787, 12105, 3023, 2, 1, 1, 1, 1, 1, 1, 1, 1, 1, 1, 1, 1, 1, 1, 1, 1, 1, 1, 1, 1, 1, 1, 1, 1], 'attention_mask': [1, 1, 1, 1, 1, 1, 1, 1, 1, 1, 1, 1, 1, 1, 1, 1, 0, 0, 0, 0, 0, 0, 0, 0, 0, 0, 0, 0, 0, 0, 0, 0, 0, 0, 0, 0, 0, 0, 0, 0]}\n",
            "{'Phrase': '@user tacos , fried chicken and chicken alfredo', 'Label': 1, 'input_ids': [0, 1039, 12105, 29965, 2156, 16708, 5884, 8, 5884, 1076, 20994, 139, 2, 1, 1, 1, 1, 1, 1, 1, 1, 1, 1, 1, 1, 1, 1, 1, 1, 1, 1, 1, 1, 1, 1, 1, 1, 1, 1, 1], 'attention_mask': [1, 1, 1, 1, 1, 1, 1, 1, 1, 1, 1, 1, 1, 0, 0, 0, 0, 0, 0, 0, 0, 0, 0, 0, 0, 0, 0, 0, 0, 0, 0, 0, 0, 0, 0, 0, 0, 0, 0, 0]}\n",
            "{'Phrase': 'whenever i fall asleep watching the tv , i always wake up with a headache', 'input_ids': [0, 28884, 20042, 939, 1136, 15028, 2494, 5, 30016, 2156, 939, 460, 3874, 62, 19, 10, 19344, 2, 1, 1, 1, 1, 1, 1, 1, 1, 1, 1, 1, 1, 1, 1, 1, 1, 1, 1, 1, 1, 1, 1], 'attention_mask': [1, 1, 1, 1, 1, 1, 1, 1, 1, 1, 1, 1, 1, 1, 1, 1, 1, 1, 0, 0, 0, 0, 0, 0, 0, 0, 0, 0, 0, 0, 0, 0, 0, 0, 0, 0, 0, 0, 0, 0]}\n",
            "{'Phrase': '( dymo cardscan v9 executive contact management system for pc and mac ( 1760686 http', 'Label': 0, 'input_ids': [0, 1640, 385, 8307, 139, 3591, 7424, 748, 466, 1031, 1511, 1052, 467, 13, 46213, 8, 13418, 36, 601, 2466, 37289, 2054, 2, 1, 1, 1, 1, 1, 1, 1, 1, 1, 1, 1, 1, 1, 1, 1, 1, 1], 'attention_mask': [1, 1, 1, 1, 1, 1, 1, 1, 1, 1, 1, 1, 1, 1, 1, 1, 1, 1, 1, 1, 1, 1, 1, 0, 0, 0, 0, 0, 0, 0, 0, 0, 0, 0, 0, 0, 0, 0, 0, 0]}\n"
          ]
        }
      ],
      "source": [
        "# perform tokenization of the dataset\n",
        "from transformers import AutoTokenizer\n",
        "\n",
        "tokenizer = AutoTokenizer.from_pretrained(MODEL_NAME)\n",
        "\n",
        "def tokenize_function(sentence):\n",
        "    return tokenizer(sentence['Phrase'], padding=True, truncation=True, max_length=40)\n",
        "\n",
        "train = train.map(tokenize_function, batched=True)\n",
        "test = test.map(tokenize_function, batched=True)\n",
        "# val = val.map(tokenize_function, batched=True)\n",
        "\n",
        "for i in range(5):\n",
        "  print(train[i])\n",
        "  print(test[i])\n",
        "  # print(val[i])"
      ]
    },
    {
      "cell_type": "code",
      "execution_count": 45,
      "metadata": {
        "id": "nGJNp9hKgskD"
      },
      "outputs": [],
      "source": [
        "# go from 'Dataset' type to tensorflow so that our dataset can be used for training in keras\n",
        "from transformers import DefaultDataCollator\n",
        "\n",
        "data_collator = DefaultDataCollator(return_tensors=\"tf\")\n",
        "\n",
        "tf_train_dataset = train.to_tf_dataset(\n",
        "    columns=[\"attention_mask\", \"input_ids\", \"token_type_ids\"],\n",
        "    label_cols=[\"Label\"],\n",
        "    shuffle=False,\n",
        "    collate_fn=data_collator,\n",
        "    batch_size=256,\n",
        ")\n",
        "\n",
        "# tf_val_dataset = val.to_tf_dataset(\n",
        "#     columns=[\"attention_mask\", \"input_ids\", \"token_type_ids\"],\n",
        "#     label_cols=[\"Label\"],\n",
        "#     shuffle=False,\n",
        "#     collate_fn=data_collator,\n",
        "#     batch_size=256,\n",
        "# )\n",
        "\n",
        "tf_test_dataset = test.to_tf_dataset(\n",
        "    columns=[\"attention_mask\", \"input_ids\", \"token_type_ids\"],\n",
        "    shuffle=False,\n",
        "    collate_fn=data_collator,\n",
        "    batch_size=256,\n",
        ")"
      ]
    },
    {
      "cell_type": "code",
      "execution_count": 46,
      "metadata": {
        "colab": {
          "base_uri": "https://localhost:8080/"
        },
        "id": "7MIruQBCgzBh",
        "outputId": "aaec1f91-26b5-446a-f7c6-ec4179bbfbea"
      },
      "outputs": [
        {
          "output_type": "stream",
          "name": "stderr",
          "text": [
            "All model checkpoint layers were used when initializing TFRobertaForSequenceClassification.\n",
            "\n",
            "Some layers of TFRobertaForSequenceClassification were not initialized from the model checkpoint at cardiffnlp/twitter-roberta-base-sentiment-latest and are newly initialized: ['classifier']\n",
            "You should probably TRAIN this model on a down-stream task to be able to use it for predictions and inference.\n"
          ]
        }
      ],
      "source": [
        "from transformers import TFAutoModelForSequenceClassification\n",
        "\n",
        "# Compute some variables needed to speed up training\n",
        "batch_size = 64\n",
        "train_steps_per_epoch = int(len(tf_train_dataset) // batch_size)\n",
        "# dev_steps_per_epoch = int(len(tf_val_dataset) // batch_size)\n",
        "\n",
        "\n",
        "# download pre-trained model\n",
        "model = TFAutoModelForSequenceClassification.from_pretrained(MODEL_NAME, num_labels=2)\n",
        "\n",
        "model.compile(\n",
        "    optimizer=tf.keras.optimizers.Adam(learning_rate=5e-5),\n",
        "    loss=tf.keras.losses.SparseCategoricalCrossentropy(from_logits=True),\n",
        "    metrics=tf.metrics.SparseCategoricalAccuracy(),\n",
        ")"
      ]
    },
    {
      "cell_type": "code",
      "execution_count": 47,
      "metadata": {
        "colab": {
          "base_uri": "https://localhost:8080/"
        },
        "id": "8YCNaSE2j350",
        "outputId": "b2c7450d-5c10-406d-9a57-8131ff8877d9"
      },
      "outputs": [
        {
          "output_type": "stream",
          "name": "stdout",
          "text": [
            "9278/9278 - 17435s - loss: 0.2442 - sparse_categorical_accuracy: 0.8968 - val_loss: 0.2274 - val_sparse_categorical_accuracy: 0.9062 - 17435s/epoch - 2s/step\n"
          ]
        }
      ],
      "source": [
        "if is_train_enabled:\n",
        "  # train model\n",
        "  model.fit(tf_train_dataset,\n",
        "            # validation_data=tf_val_dataset,\n",
        "            epochs=1,\n",
        "            verbose=2,\n",
        "            # steps_per_epoch=train_steps_per_epoch,\n",
        "            # validation_steps=dev_steps_per_epoch,\n",
        "            )\n",
        "  \n",
        "  # save model to file\n",
        "  model.save_pretrained(MODEL_PATH.format(MODEL_NAME.replace(\"/\", \"_\")))"
      ]
    },
    {
      "cell_type": "code",
      "execution_count": 48,
      "metadata": {
        "id": "CW0u49Gtj_Or"
      },
      "outputs": [],
      "source": [
        "# load trained model from file\n",
        "model.load_weights(MODEL_PATH.format(MODEL_NAME.replace(\"/\", \"_\") + \"/tf_model.h5\"))"
      ]
    },
    {
      "cell_type": "code",
      "execution_count": 49,
      "metadata": {
        "id": "HANr8pnekavU"
      },
      "outputs": [],
      "source": [
        "from scipy.special import softmax\n",
        "\n",
        "y_pred = model.predict(tf_test_dataset)[0]\n",
        "y_pred = list(map(lambda x : softmax(x), y_pred))\n",
        "\n",
        "# write prediction probabilites to a file. These probabilites will be used to create\n",
        "# an ensemble of models\n",
        "def write_output_probas(file_name, Y):\n",
        "  f  = open(file_name, \"w\")\n",
        "  f.write(\"Id,Prediction\\n\")\n",
        "  id = 1\n",
        "  for y in Y:\n",
        "    f.write(str(id) + \",\" + str(list(y)) + \"\\n\")\n",
        "    id = id + 1\n",
        "  f.close()\n",
        "\n",
        "write_output_probas(PROBABILITIES.format(MODEL_NAME.replace(\"/\", \"_\") + \"_predictions_probas.csv\"), y_pred)\n",
        "\n",
        "\n",
        "# write predictions to file\n",
        "y_pred = np.argmax(np.array(y_pred), axis=-1)\n",
        "def write_output(file_name, Y):\n",
        "  f  = open(file_name, \"w\")\n",
        "  f.write(\"Id,Prediction\\n\")\n",
        "  id = 1\n",
        "  for y in Y:\n",
        "    if y == 0:\n",
        "      y = -1\n",
        "    f.write(str(id) + \",\" + str(y) + \"\\n\")\n",
        "    id = id + 1\n",
        "  f.close()\n",
        "\n",
        "write_output(PREDICTIONS.format(MODEL_NAME.replace(\"/\", \"_\") + \"_predictions.csv\"), y_pred)"
      ]
    }
  ],
  "metadata": {
    "accelerator": "GPU",
    "colab": {
      "collapsed_sections": [],
      "machine_shape": "hm",
      "name": "bert_Matteo_huggingface.ipynb",
      "provenance": []
    },
    "kernelspec": {
      "display_name": "Python 3",
      "name": "python3"
    },
    "language_info": {
      "name": "python"
    },
    "widgets": {
      "application/vnd.jupyter.widget-state+json": {
        "867b704c3d354a96acda93b07e880467": {
          "model_module": "@jupyter-widgets/controls",
          "model_name": "HBoxModel",
          "model_module_version": "1.5.0",
          "state": {
            "_dom_classes": [],
            "_model_module": "@jupyter-widgets/controls",
            "_model_module_version": "1.5.0",
            "_model_name": "HBoxModel",
            "_view_count": null,
            "_view_module": "@jupyter-widgets/controls",
            "_view_module_version": "1.5.0",
            "_view_name": "HBoxView",
            "box_style": "",
            "children": [
              "IPY_MODEL_4c88cff27c2045379b34cf6699b45609",
              "IPY_MODEL_97b6d2e065e94553abdb4d2acb749367",
              "IPY_MODEL_645d220613f0442da9c2b5dee39437b3"
            ],
            "layout": "IPY_MODEL_93b7b832869042efa66a2112cd5d4a4a"
          }
        },
        "4c88cff27c2045379b34cf6699b45609": {
          "model_module": "@jupyter-widgets/controls",
          "model_name": "HTMLModel",
          "model_module_version": "1.5.0",
          "state": {
            "_dom_classes": [],
            "_model_module": "@jupyter-widgets/controls",
            "_model_module_version": "1.5.0",
            "_model_name": "HTMLModel",
            "_view_count": null,
            "_view_module": "@jupyter-widgets/controls",
            "_view_module_version": "1.5.0",
            "_view_name": "HTMLView",
            "description": "",
            "description_tooltip": null,
            "layout": "IPY_MODEL_f7a77eda35424316839a894d1c5b8f66",
            "placeholder": "​",
            "style": "IPY_MODEL_48b8338143fe41c1813b707e2143ff09",
            "value": "100%"
          }
        },
        "97b6d2e065e94553abdb4d2acb749367": {
          "model_module": "@jupyter-widgets/controls",
          "model_name": "FloatProgressModel",
          "model_module_version": "1.5.0",
          "state": {
            "_dom_classes": [],
            "_model_module": "@jupyter-widgets/controls",
            "_model_module_version": "1.5.0",
            "_model_name": "FloatProgressModel",
            "_view_count": null,
            "_view_module": "@jupyter-widgets/controls",
            "_view_module_version": "1.5.0",
            "_view_name": "ProgressView",
            "bar_style": "success",
            "description": "",
            "description_tooltip": null,
            "layout": "IPY_MODEL_43ea490d5e0440958028f8b94eda1d09",
            "max": 2375,
            "min": 0,
            "orientation": "horizontal",
            "style": "IPY_MODEL_0e1136f3fe004b24af9721ae9ae68db3",
            "value": 2375
          }
        },
        "645d220613f0442da9c2b5dee39437b3": {
          "model_module": "@jupyter-widgets/controls",
          "model_name": "HTMLModel",
          "model_module_version": "1.5.0",
          "state": {
            "_dom_classes": [],
            "_model_module": "@jupyter-widgets/controls",
            "_model_module_version": "1.5.0",
            "_model_name": "HTMLModel",
            "_view_count": null,
            "_view_module": "@jupyter-widgets/controls",
            "_view_module_version": "1.5.0",
            "_view_name": "HTMLView",
            "description": "",
            "description_tooltip": null,
            "layout": "IPY_MODEL_67c3dd5d6ec0404c975ad79e018e14f0",
            "placeholder": "​",
            "style": "IPY_MODEL_15710ca389754f28ad31123d14284a3b",
            "value": " 2375/2375 [01:45&lt;00:00, 26.64ba/s]"
          }
        },
        "93b7b832869042efa66a2112cd5d4a4a": {
          "model_module": "@jupyter-widgets/base",
          "model_name": "LayoutModel",
          "model_module_version": "1.2.0",
          "state": {
            "_model_module": "@jupyter-widgets/base",
            "_model_module_version": "1.2.0",
            "_model_name": "LayoutModel",
            "_view_count": null,
            "_view_module": "@jupyter-widgets/base",
            "_view_module_version": "1.2.0",
            "_view_name": "LayoutView",
            "align_content": null,
            "align_items": null,
            "align_self": null,
            "border": null,
            "bottom": null,
            "display": null,
            "flex": null,
            "flex_flow": null,
            "grid_area": null,
            "grid_auto_columns": null,
            "grid_auto_flow": null,
            "grid_auto_rows": null,
            "grid_column": null,
            "grid_gap": null,
            "grid_row": null,
            "grid_template_areas": null,
            "grid_template_columns": null,
            "grid_template_rows": null,
            "height": null,
            "justify_content": null,
            "justify_items": null,
            "left": null,
            "margin": null,
            "max_height": null,
            "max_width": null,
            "min_height": null,
            "min_width": null,
            "object_fit": null,
            "object_position": null,
            "order": null,
            "overflow": null,
            "overflow_x": null,
            "overflow_y": null,
            "padding": null,
            "right": null,
            "top": null,
            "visibility": null,
            "width": null
          }
        },
        "f7a77eda35424316839a894d1c5b8f66": {
          "model_module": "@jupyter-widgets/base",
          "model_name": "LayoutModel",
          "model_module_version": "1.2.0",
          "state": {
            "_model_module": "@jupyter-widgets/base",
            "_model_module_version": "1.2.0",
            "_model_name": "LayoutModel",
            "_view_count": null,
            "_view_module": "@jupyter-widgets/base",
            "_view_module_version": "1.2.0",
            "_view_name": "LayoutView",
            "align_content": null,
            "align_items": null,
            "align_self": null,
            "border": null,
            "bottom": null,
            "display": null,
            "flex": null,
            "flex_flow": null,
            "grid_area": null,
            "grid_auto_columns": null,
            "grid_auto_flow": null,
            "grid_auto_rows": null,
            "grid_column": null,
            "grid_gap": null,
            "grid_row": null,
            "grid_template_areas": null,
            "grid_template_columns": null,
            "grid_template_rows": null,
            "height": null,
            "justify_content": null,
            "justify_items": null,
            "left": null,
            "margin": null,
            "max_height": null,
            "max_width": null,
            "min_height": null,
            "min_width": null,
            "object_fit": null,
            "object_position": null,
            "order": null,
            "overflow": null,
            "overflow_x": null,
            "overflow_y": null,
            "padding": null,
            "right": null,
            "top": null,
            "visibility": null,
            "width": null
          }
        },
        "48b8338143fe41c1813b707e2143ff09": {
          "model_module": "@jupyter-widgets/controls",
          "model_name": "DescriptionStyleModel",
          "model_module_version": "1.5.0",
          "state": {
            "_model_module": "@jupyter-widgets/controls",
            "_model_module_version": "1.5.0",
            "_model_name": "DescriptionStyleModel",
            "_view_count": null,
            "_view_module": "@jupyter-widgets/base",
            "_view_module_version": "1.2.0",
            "_view_name": "StyleView",
            "description_width": ""
          }
        },
        "43ea490d5e0440958028f8b94eda1d09": {
          "model_module": "@jupyter-widgets/base",
          "model_name": "LayoutModel",
          "model_module_version": "1.2.0",
          "state": {
            "_model_module": "@jupyter-widgets/base",
            "_model_module_version": "1.2.0",
            "_model_name": "LayoutModel",
            "_view_count": null,
            "_view_module": "@jupyter-widgets/base",
            "_view_module_version": "1.2.0",
            "_view_name": "LayoutView",
            "align_content": null,
            "align_items": null,
            "align_self": null,
            "border": null,
            "bottom": null,
            "display": null,
            "flex": null,
            "flex_flow": null,
            "grid_area": null,
            "grid_auto_columns": null,
            "grid_auto_flow": null,
            "grid_auto_rows": null,
            "grid_column": null,
            "grid_gap": null,
            "grid_row": null,
            "grid_template_areas": null,
            "grid_template_columns": null,
            "grid_template_rows": null,
            "height": null,
            "justify_content": null,
            "justify_items": null,
            "left": null,
            "margin": null,
            "max_height": null,
            "max_width": null,
            "min_height": null,
            "min_width": null,
            "object_fit": null,
            "object_position": null,
            "order": null,
            "overflow": null,
            "overflow_x": null,
            "overflow_y": null,
            "padding": null,
            "right": null,
            "top": null,
            "visibility": null,
            "width": null
          }
        },
        "0e1136f3fe004b24af9721ae9ae68db3": {
          "model_module": "@jupyter-widgets/controls",
          "model_name": "ProgressStyleModel",
          "model_module_version": "1.5.0",
          "state": {
            "_model_module": "@jupyter-widgets/controls",
            "_model_module_version": "1.5.0",
            "_model_name": "ProgressStyleModel",
            "_view_count": null,
            "_view_module": "@jupyter-widgets/base",
            "_view_module_version": "1.2.0",
            "_view_name": "StyleView",
            "bar_color": null,
            "description_width": ""
          }
        },
        "67c3dd5d6ec0404c975ad79e018e14f0": {
          "model_module": "@jupyter-widgets/base",
          "model_name": "LayoutModel",
          "model_module_version": "1.2.0",
          "state": {
            "_model_module": "@jupyter-widgets/base",
            "_model_module_version": "1.2.0",
            "_model_name": "LayoutModel",
            "_view_count": null,
            "_view_module": "@jupyter-widgets/base",
            "_view_module_version": "1.2.0",
            "_view_name": "LayoutView",
            "align_content": null,
            "align_items": null,
            "align_self": null,
            "border": null,
            "bottom": null,
            "display": null,
            "flex": null,
            "flex_flow": null,
            "grid_area": null,
            "grid_auto_columns": null,
            "grid_auto_flow": null,
            "grid_auto_rows": null,
            "grid_column": null,
            "grid_gap": null,
            "grid_row": null,
            "grid_template_areas": null,
            "grid_template_columns": null,
            "grid_template_rows": null,
            "height": null,
            "justify_content": null,
            "justify_items": null,
            "left": null,
            "margin": null,
            "max_height": null,
            "max_width": null,
            "min_height": null,
            "min_width": null,
            "object_fit": null,
            "object_position": null,
            "order": null,
            "overflow": null,
            "overflow_x": null,
            "overflow_y": null,
            "padding": null,
            "right": null,
            "top": null,
            "visibility": null,
            "width": null
          }
        },
        "15710ca389754f28ad31123d14284a3b": {
          "model_module": "@jupyter-widgets/controls",
          "model_name": "DescriptionStyleModel",
          "model_module_version": "1.5.0",
          "state": {
            "_model_module": "@jupyter-widgets/controls",
            "_model_module_version": "1.5.0",
            "_model_name": "DescriptionStyleModel",
            "_view_count": null,
            "_view_module": "@jupyter-widgets/base",
            "_view_module_version": "1.2.0",
            "_view_name": "StyleView",
            "description_width": ""
          }
        },
        "4a4bb3576ef9484cabc48a0d2ee6d82c": {
          "model_module": "@jupyter-widgets/controls",
          "model_name": "HBoxModel",
          "model_module_version": "1.5.0",
          "state": {
            "_dom_classes": [],
            "_model_module": "@jupyter-widgets/controls",
            "_model_module_version": "1.5.0",
            "_model_name": "HBoxModel",
            "_view_count": null,
            "_view_module": "@jupyter-widgets/controls",
            "_view_module_version": "1.5.0",
            "_view_name": "HBoxView",
            "box_style": "",
            "children": [
              "IPY_MODEL_3e37a86a78854d59a10934a18ac33e5e",
              "IPY_MODEL_51f2c2aab12c4585a475bcb9b9cbcde1",
              "IPY_MODEL_345c30d6e0a8430188203ed3af9b9ff3"
            ],
            "layout": "IPY_MODEL_d3149fbe78244cfebd09384003a9600c"
          }
        },
        "3e37a86a78854d59a10934a18ac33e5e": {
          "model_module": "@jupyter-widgets/controls",
          "model_name": "HTMLModel",
          "model_module_version": "1.5.0",
          "state": {
            "_dom_classes": [],
            "_model_module": "@jupyter-widgets/controls",
            "_model_module_version": "1.5.0",
            "_model_name": "HTMLModel",
            "_view_count": null,
            "_view_module": "@jupyter-widgets/controls",
            "_view_module_version": "1.5.0",
            "_view_name": "HTMLView",
            "description": "",
            "description_tooltip": null,
            "layout": "IPY_MODEL_d93c889d1a5d48d496a7dfd4795cb8cc",
            "placeholder": "​",
            "style": "IPY_MODEL_66f3216d9034465a9a6a217bcd1aeb36",
            "value": "100%"
          }
        },
        "51f2c2aab12c4585a475bcb9b9cbcde1": {
          "model_module": "@jupyter-widgets/controls",
          "model_name": "FloatProgressModel",
          "model_module_version": "1.5.0",
          "state": {
            "_dom_classes": [],
            "_model_module": "@jupyter-widgets/controls",
            "_model_module_version": "1.5.0",
            "_model_name": "FloatProgressModel",
            "_view_count": null,
            "_view_module": "@jupyter-widgets/controls",
            "_view_module_version": "1.5.0",
            "_view_name": "ProgressView",
            "bar_style": "success",
            "description": "",
            "description_tooltip": null,
            "layout": "IPY_MODEL_a8c52e7ebdda4f0ba69bbf98ef0da359",
            "max": 10,
            "min": 0,
            "orientation": "horizontal",
            "style": "IPY_MODEL_4adf9a8220ef489e93092fef8748505d",
            "value": 10
          }
        },
        "345c30d6e0a8430188203ed3af9b9ff3": {
          "model_module": "@jupyter-widgets/controls",
          "model_name": "HTMLModel",
          "model_module_version": "1.5.0",
          "state": {
            "_dom_classes": [],
            "_model_module": "@jupyter-widgets/controls",
            "_model_module_version": "1.5.0",
            "_model_name": "HTMLModel",
            "_view_count": null,
            "_view_module": "@jupyter-widgets/controls",
            "_view_module_version": "1.5.0",
            "_view_name": "HTMLView",
            "description": "",
            "description_tooltip": null,
            "layout": "IPY_MODEL_9e93f1cebc694c29871ee1791b71a681",
            "placeholder": "​",
            "style": "IPY_MODEL_ab84b88fe2bd4f8db4a8f45eaac9bcf2",
            "value": " 10/10 [00:00&lt;00:00, 24.63ba/s]"
          }
        },
        "d3149fbe78244cfebd09384003a9600c": {
          "model_module": "@jupyter-widgets/base",
          "model_name": "LayoutModel",
          "model_module_version": "1.2.0",
          "state": {
            "_model_module": "@jupyter-widgets/base",
            "_model_module_version": "1.2.0",
            "_model_name": "LayoutModel",
            "_view_count": null,
            "_view_module": "@jupyter-widgets/base",
            "_view_module_version": "1.2.0",
            "_view_name": "LayoutView",
            "align_content": null,
            "align_items": null,
            "align_self": null,
            "border": null,
            "bottom": null,
            "display": null,
            "flex": null,
            "flex_flow": null,
            "grid_area": null,
            "grid_auto_columns": null,
            "grid_auto_flow": null,
            "grid_auto_rows": null,
            "grid_column": null,
            "grid_gap": null,
            "grid_row": null,
            "grid_template_areas": null,
            "grid_template_columns": null,
            "grid_template_rows": null,
            "height": null,
            "justify_content": null,
            "justify_items": null,
            "left": null,
            "margin": null,
            "max_height": null,
            "max_width": null,
            "min_height": null,
            "min_width": null,
            "object_fit": null,
            "object_position": null,
            "order": null,
            "overflow": null,
            "overflow_x": null,
            "overflow_y": null,
            "padding": null,
            "right": null,
            "top": null,
            "visibility": null,
            "width": null
          }
        },
        "d93c889d1a5d48d496a7dfd4795cb8cc": {
          "model_module": "@jupyter-widgets/base",
          "model_name": "LayoutModel",
          "model_module_version": "1.2.0",
          "state": {
            "_model_module": "@jupyter-widgets/base",
            "_model_module_version": "1.2.0",
            "_model_name": "LayoutModel",
            "_view_count": null,
            "_view_module": "@jupyter-widgets/base",
            "_view_module_version": "1.2.0",
            "_view_name": "LayoutView",
            "align_content": null,
            "align_items": null,
            "align_self": null,
            "border": null,
            "bottom": null,
            "display": null,
            "flex": null,
            "flex_flow": null,
            "grid_area": null,
            "grid_auto_columns": null,
            "grid_auto_flow": null,
            "grid_auto_rows": null,
            "grid_column": null,
            "grid_gap": null,
            "grid_row": null,
            "grid_template_areas": null,
            "grid_template_columns": null,
            "grid_template_rows": null,
            "height": null,
            "justify_content": null,
            "justify_items": null,
            "left": null,
            "margin": null,
            "max_height": null,
            "max_width": null,
            "min_height": null,
            "min_width": null,
            "object_fit": null,
            "object_position": null,
            "order": null,
            "overflow": null,
            "overflow_x": null,
            "overflow_y": null,
            "padding": null,
            "right": null,
            "top": null,
            "visibility": null,
            "width": null
          }
        },
        "66f3216d9034465a9a6a217bcd1aeb36": {
          "model_module": "@jupyter-widgets/controls",
          "model_name": "DescriptionStyleModel",
          "model_module_version": "1.5.0",
          "state": {
            "_model_module": "@jupyter-widgets/controls",
            "_model_module_version": "1.5.0",
            "_model_name": "DescriptionStyleModel",
            "_view_count": null,
            "_view_module": "@jupyter-widgets/base",
            "_view_module_version": "1.2.0",
            "_view_name": "StyleView",
            "description_width": ""
          }
        },
        "a8c52e7ebdda4f0ba69bbf98ef0da359": {
          "model_module": "@jupyter-widgets/base",
          "model_name": "LayoutModel",
          "model_module_version": "1.2.0",
          "state": {
            "_model_module": "@jupyter-widgets/base",
            "_model_module_version": "1.2.0",
            "_model_name": "LayoutModel",
            "_view_count": null,
            "_view_module": "@jupyter-widgets/base",
            "_view_module_version": "1.2.0",
            "_view_name": "LayoutView",
            "align_content": null,
            "align_items": null,
            "align_self": null,
            "border": null,
            "bottom": null,
            "display": null,
            "flex": null,
            "flex_flow": null,
            "grid_area": null,
            "grid_auto_columns": null,
            "grid_auto_flow": null,
            "grid_auto_rows": null,
            "grid_column": null,
            "grid_gap": null,
            "grid_row": null,
            "grid_template_areas": null,
            "grid_template_columns": null,
            "grid_template_rows": null,
            "height": null,
            "justify_content": null,
            "justify_items": null,
            "left": null,
            "margin": null,
            "max_height": null,
            "max_width": null,
            "min_height": null,
            "min_width": null,
            "object_fit": null,
            "object_position": null,
            "order": null,
            "overflow": null,
            "overflow_x": null,
            "overflow_y": null,
            "padding": null,
            "right": null,
            "top": null,
            "visibility": null,
            "width": null
          }
        },
        "4adf9a8220ef489e93092fef8748505d": {
          "model_module": "@jupyter-widgets/controls",
          "model_name": "ProgressStyleModel",
          "model_module_version": "1.5.0",
          "state": {
            "_model_module": "@jupyter-widgets/controls",
            "_model_module_version": "1.5.0",
            "_model_name": "ProgressStyleModel",
            "_view_count": null,
            "_view_module": "@jupyter-widgets/base",
            "_view_module_version": "1.2.0",
            "_view_name": "StyleView",
            "bar_color": null,
            "description_width": ""
          }
        },
        "9e93f1cebc694c29871ee1791b71a681": {
          "model_module": "@jupyter-widgets/base",
          "model_name": "LayoutModel",
          "model_module_version": "1.2.0",
          "state": {
            "_model_module": "@jupyter-widgets/base",
            "_model_module_version": "1.2.0",
            "_model_name": "LayoutModel",
            "_view_count": null,
            "_view_module": "@jupyter-widgets/base",
            "_view_module_version": "1.2.0",
            "_view_name": "LayoutView",
            "align_content": null,
            "align_items": null,
            "align_self": null,
            "border": null,
            "bottom": null,
            "display": null,
            "flex": null,
            "flex_flow": null,
            "grid_area": null,
            "grid_auto_columns": null,
            "grid_auto_flow": null,
            "grid_auto_rows": null,
            "grid_column": null,
            "grid_gap": null,
            "grid_row": null,
            "grid_template_areas": null,
            "grid_template_columns": null,
            "grid_template_rows": null,
            "height": null,
            "justify_content": null,
            "justify_items": null,
            "left": null,
            "margin": null,
            "max_height": null,
            "max_width": null,
            "min_height": null,
            "min_width": null,
            "object_fit": null,
            "object_position": null,
            "order": null,
            "overflow": null,
            "overflow_x": null,
            "overflow_y": null,
            "padding": null,
            "right": null,
            "top": null,
            "visibility": null,
            "width": null
          }
        },
        "ab84b88fe2bd4f8db4a8f45eaac9bcf2": {
          "model_module": "@jupyter-widgets/controls",
          "model_name": "DescriptionStyleModel",
          "model_module_version": "1.5.0",
          "state": {
            "_model_module": "@jupyter-widgets/controls",
            "_model_module_version": "1.5.0",
            "_model_name": "DescriptionStyleModel",
            "_view_count": null,
            "_view_module": "@jupyter-widgets/base",
            "_view_module_version": "1.2.0",
            "_view_name": "StyleView",
            "description_width": ""
          }
        },
        "2cc8c9c652f74c1ca214e8d4375ee0df": {
          "model_module": "@jupyter-widgets/controls",
          "model_name": "HBoxModel",
          "model_module_version": "1.5.0",
          "state": {
            "_dom_classes": [],
            "_model_module": "@jupyter-widgets/controls",
            "_model_module_version": "1.5.0",
            "_model_name": "HBoxModel",
            "_view_count": null,
            "_view_module": "@jupyter-widgets/controls",
            "_view_module_version": "1.5.0",
            "_view_name": "HBoxView",
            "box_style": "",
            "children": [
              "IPY_MODEL_324fd92e33ad46d1a82bdf9c567044c5",
              "IPY_MODEL_74e47e6bf2634020a33025d49e3a0069",
              "IPY_MODEL_9caeb9feaf3e46c0b9a73c52815382a1"
            ],
            "layout": "IPY_MODEL_d797bda509d84a858595a20414408596"
          }
        },
        "324fd92e33ad46d1a82bdf9c567044c5": {
          "model_module": "@jupyter-widgets/controls",
          "model_name": "HTMLModel",
          "model_module_version": "1.5.0",
          "state": {
            "_dom_classes": [],
            "_model_module": "@jupyter-widgets/controls",
            "_model_module_version": "1.5.0",
            "_model_name": "HTMLModel",
            "_view_count": null,
            "_view_module": "@jupyter-widgets/controls",
            "_view_module_version": "1.5.0",
            "_view_name": "HTMLView",
            "description": "",
            "description_tooltip": null,
            "layout": "IPY_MODEL_7e871e7f93044cde8572b0ece05c7413",
            "placeholder": "​",
            "style": "IPY_MODEL_9251e29828da40b1a3da65d34a1ffaac",
            "value": "100%"
          }
        },
        "74e47e6bf2634020a33025d49e3a0069": {
          "model_module": "@jupyter-widgets/controls",
          "model_name": "FloatProgressModel",
          "model_module_version": "1.5.0",
          "state": {
            "_dom_classes": [],
            "_model_module": "@jupyter-widgets/controls",
            "_model_module_version": "1.5.0",
            "_model_name": "FloatProgressModel",
            "_view_count": null,
            "_view_module": "@jupyter-widgets/controls",
            "_view_module_version": "1.5.0",
            "_view_name": "ProgressView",
            "bar_style": "success",
            "description": "",
            "description_tooltip": null,
            "layout": "IPY_MODEL_4daba687af2f40efa06f3ccf7b5e9abd",
            "max": 125,
            "min": 0,
            "orientation": "horizontal",
            "style": "IPY_MODEL_af906a39e84440d19fd6301bf1ee301b",
            "value": 125
          }
        },
        "9caeb9feaf3e46c0b9a73c52815382a1": {
          "model_module": "@jupyter-widgets/controls",
          "model_name": "HTMLModel",
          "model_module_version": "1.5.0",
          "state": {
            "_dom_classes": [],
            "_model_module": "@jupyter-widgets/controls",
            "_model_module_version": "1.5.0",
            "_model_name": "HTMLModel",
            "_view_count": null,
            "_view_module": "@jupyter-widgets/controls",
            "_view_module_version": "1.5.0",
            "_view_name": "HTMLView",
            "description": "",
            "description_tooltip": null,
            "layout": "IPY_MODEL_0206f85d662647b79a55472ea0e67f58",
            "placeholder": "​",
            "style": "IPY_MODEL_a50d5187d4994b8fb99c79ac1b490b76",
            "value": " 125/125 [00:05&lt;00:00, 26.13ba/s]"
          }
        },
        "d797bda509d84a858595a20414408596": {
          "model_module": "@jupyter-widgets/base",
          "model_name": "LayoutModel",
          "model_module_version": "1.2.0",
          "state": {
            "_model_module": "@jupyter-widgets/base",
            "_model_module_version": "1.2.0",
            "_model_name": "LayoutModel",
            "_view_count": null,
            "_view_module": "@jupyter-widgets/base",
            "_view_module_version": "1.2.0",
            "_view_name": "LayoutView",
            "align_content": null,
            "align_items": null,
            "align_self": null,
            "border": null,
            "bottom": null,
            "display": null,
            "flex": null,
            "flex_flow": null,
            "grid_area": null,
            "grid_auto_columns": null,
            "grid_auto_flow": null,
            "grid_auto_rows": null,
            "grid_column": null,
            "grid_gap": null,
            "grid_row": null,
            "grid_template_areas": null,
            "grid_template_columns": null,
            "grid_template_rows": null,
            "height": null,
            "justify_content": null,
            "justify_items": null,
            "left": null,
            "margin": null,
            "max_height": null,
            "max_width": null,
            "min_height": null,
            "min_width": null,
            "object_fit": null,
            "object_position": null,
            "order": null,
            "overflow": null,
            "overflow_x": null,
            "overflow_y": null,
            "padding": null,
            "right": null,
            "top": null,
            "visibility": null,
            "width": null
          }
        },
        "7e871e7f93044cde8572b0ece05c7413": {
          "model_module": "@jupyter-widgets/base",
          "model_name": "LayoutModel",
          "model_module_version": "1.2.0",
          "state": {
            "_model_module": "@jupyter-widgets/base",
            "_model_module_version": "1.2.0",
            "_model_name": "LayoutModel",
            "_view_count": null,
            "_view_module": "@jupyter-widgets/base",
            "_view_module_version": "1.2.0",
            "_view_name": "LayoutView",
            "align_content": null,
            "align_items": null,
            "align_self": null,
            "border": null,
            "bottom": null,
            "display": null,
            "flex": null,
            "flex_flow": null,
            "grid_area": null,
            "grid_auto_columns": null,
            "grid_auto_flow": null,
            "grid_auto_rows": null,
            "grid_column": null,
            "grid_gap": null,
            "grid_row": null,
            "grid_template_areas": null,
            "grid_template_columns": null,
            "grid_template_rows": null,
            "height": null,
            "justify_content": null,
            "justify_items": null,
            "left": null,
            "margin": null,
            "max_height": null,
            "max_width": null,
            "min_height": null,
            "min_width": null,
            "object_fit": null,
            "object_position": null,
            "order": null,
            "overflow": null,
            "overflow_x": null,
            "overflow_y": null,
            "padding": null,
            "right": null,
            "top": null,
            "visibility": null,
            "width": null
          }
        },
        "9251e29828da40b1a3da65d34a1ffaac": {
          "model_module": "@jupyter-widgets/controls",
          "model_name": "DescriptionStyleModel",
          "model_module_version": "1.5.0",
          "state": {
            "_model_module": "@jupyter-widgets/controls",
            "_model_module_version": "1.5.0",
            "_model_name": "DescriptionStyleModel",
            "_view_count": null,
            "_view_module": "@jupyter-widgets/base",
            "_view_module_version": "1.2.0",
            "_view_name": "StyleView",
            "description_width": ""
          }
        },
        "4daba687af2f40efa06f3ccf7b5e9abd": {
          "model_module": "@jupyter-widgets/base",
          "model_name": "LayoutModel",
          "model_module_version": "1.2.0",
          "state": {
            "_model_module": "@jupyter-widgets/base",
            "_model_module_version": "1.2.0",
            "_model_name": "LayoutModel",
            "_view_count": null,
            "_view_module": "@jupyter-widgets/base",
            "_view_module_version": "1.2.0",
            "_view_name": "LayoutView",
            "align_content": null,
            "align_items": null,
            "align_self": null,
            "border": null,
            "bottom": null,
            "display": null,
            "flex": null,
            "flex_flow": null,
            "grid_area": null,
            "grid_auto_columns": null,
            "grid_auto_flow": null,
            "grid_auto_rows": null,
            "grid_column": null,
            "grid_gap": null,
            "grid_row": null,
            "grid_template_areas": null,
            "grid_template_columns": null,
            "grid_template_rows": null,
            "height": null,
            "justify_content": null,
            "justify_items": null,
            "left": null,
            "margin": null,
            "max_height": null,
            "max_width": null,
            "min_height": null,
            "min_width": null,
            "object_fit": null,
            "object_position": null,
            "order": null,
            "overflow": null,
            "overflow_x": null,
            "overflow_y": null,
            "padding": null,
            "right": null,
            "top": null,
            "visibility": null,
            "width": null
          }
        },
        "af906a39e84440d19fd6301bf1ee301b": {
          "model_module": "@jupyter-widgets/controls",
          "model_name": "ProgressStyleModel",
          "model_module_version": "1.5.0",
          "state": {
            "_model_module": "@jupyter-widgets/controls",
            "_model_module_version": "1.5.0",
            "_model_name": "ProgressStyleModel",
            "_view_count": null,
            "_view_module": "@jupyter-widgets/base",
            "_view_module_version": "1.2.0",
            "_view_name": "StyleView",
            "bar_color": null,
            "description_width": ""
          }
        },
        "0206f85d662647b79a55472ea0e67f58": {
          "model_module": "@jupyter-widgets/base",
          "model_name": "LayoutModel",
          "model_module_version": "1.2.0",
          "state": {
            "_model_module": "@jupyter-widgets/base",
            "_model_module_version": "1.2.0",
            "_model_name": "LayoutModel",
            "_view_count": null,
            "_view_module": "@jupyter-widgets/base",
            "_view_module_version": "1.2.0",
            "_view_name": "LayoutView",
            "align_content": null,
            "align_items": null,
            "align_self": null,
            "border": null,
            "bottom": null,
            "display": null,
            "flex": null,
            "flex_flow": null,
            "grid_area": null,
            "grid_auto_columns": null,
            "grid_auto_flow": null,
            "grid_auto_rows": null,
            "grid_column": null,
            "grid_gap": null,
            "grid_row": null,
            "grid_template_areas": null,
            "grid_template_columns": null,
            "grid_template_rows": null,
            "height": null,
            "justify_content": null,
            "justify_items": null,
            "left": null,
            "margin": null,
            "max_height": null,
            "max_width": null,
            "min_height": null,
            "min_width": null,
            "object_fit": null,
            "object_position": null,
            "order": null,
            "overflow": null,
            "overflow_x": null,
            "overflow_y": null,
            "padding": null,
            "right": null,
            "top": null,
            "visibility": null,
            "width": null
          }
        },
        "a50d5187d4994b8fb99c79ac1b490b76": {
          "model_module": "@jupyter-widgets/controls",
          "model_name": "DescriptionStyleModel",
          "model_module_version": "1.5.0",
          "state": {
            "_model_module": "@jupyter-widgets/controls",
            "_model_module_version": "1.5.0",
            "_model_name": "DescriptionStyleModel",
            "_view_count": null,
            "_view_module": "@jupyter-widgets/base",
            "_view_module_version": "1.2.0",
            "_view_name": "StyleView",
            "description_width": ""
          }
        }
      }
    }
  },
  "nbformat": 4,
  "nbformat_minor": 0
}