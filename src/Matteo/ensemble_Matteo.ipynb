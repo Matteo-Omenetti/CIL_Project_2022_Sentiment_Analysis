{
  "nbformat": 4,
  "nbformat_minor": 0,
  "metadata": {
    "colab": {
      "name": "ensemble_Matteo.ipynb",
      "provenance": [],
      "collapsed_sections": []
    },
    "kernelspec": {
      "name": "python3",
      "display_name": "Python 3"
    },
    "language_info": {
      "name": "python"
    }
  },
  "cells": [
    {
      "cell_type": "code",
      "source": [
        "from ast import literal_eval\n",
        "import os\n",
        "import numpy as np"
      ],
      "metadata": {
        "id": "M2ZIDq09fry5"
      },
      "execution_count": 1,
      "outputs": []
    },
    {
      "cell_type": "code",
      "source": [
        "from google.colab import drive\n",
        "drive.mount('/content/drive', force_remount=True)"
      ],
      "metadata": {
        "colab": {
          "base_uri": "https://localhost:8080/"
        },
        "id": "bYbFrCKhfzAo",
        "outputId": "704d9bfa-a5a3-449a-a3c5-2ce43a028987"
      },
      "execution_count": 12,
      "outputs": [
        {
          "output_type": "stream",
          "name": "stdout",
          "text": [
            "Mounted at /content/drive\n"
          ]
        }
      ]
    },
    {
      "cell_type": "code",
      "source": [
        "# constants and global variables\n",
        "PROBABILITIES = '/content/drive/MyDrive/Colab Notebooks/CIL/Probabilities/{}'\n",
        "DATA_PATH = '/content/drive/MyDrive/Colab Notebooks/CIL/Dataset/{}'"
      ],
      "metadata": {
        "id": "oOEDWoCyf0oP"
      },
      "execution_count": 3,
      "outputs": []
    },
    {
      "cell_type": "code",
      "execution_count": 13,
      "metadata": {
        "colab": {
          "base_uri": "https://localhost:8080/"
        },
        "id": "yLwq6sYzfnbR",
        "outputId": "a6211025-cd94-46a4-beca-b91d988a306e"
      },
      "outputs": [
        {
          "output_type": "stream",
          "name": "stdout",
          "text": [
            "bert_predictions_probas.csv\n",
            "bert_predictions_probas_2.csv\n"
          ]
        }
      ],
      "source": [
        "# Perform a voting --> use the probabilities of the predictions from different\n",
        "# models to create a new set of predictions\n",
        "y_pred = None\n",
        "for filename in os.listdir('/content/drive/MyDrive/Colab Notebooks/CIL/Probabilities/'):\n",
        "  # open file containing probabilities of a model\n",
        "  print(filename)\n",
        "  f = open(PROBABILITIES.format(filename), \"r\")\n",
        "\n",
        "  # discard header\n",
        "  header = f.readline()\n",
        "\n",
        "  # read the enitire file\n",
        "  probas = f.readlines()\n",
        "\n",
        "  to_sum = []\n",
        "  # loop over prediction probabilties for each X_test\n",
        "  for proba in probas:\n",
        "      # discard id and \\n\n",
        "      proba = \",\".join(proba.split(\",\")[1:]).strip()\n",
        "      # go from string to array\n",
        "      proba = literal_eval(proba)\n",
        "\n",
        "      to_sum.append(np.array(proba))\n",
        "  \n",
        "  if y_pred == None:\n",
        "    y_pred = to_sum\n",
        "  else: \n",
        "    y_pred = np.add(y_pred, to_sum)"
      ]
    },
    {
      "cell_type": "code",
      "source": [
        "y_pred = np.argmax(np.array(y_pred), axis=-1)\n",
        "def write_output(file_name, Y):\n",
        "  f  = open(file_name, \"w\")\n",
        "  f.write(\"Id,Prediction\\n\")\n",
        "  id = 1\n",
        "  for y in Y:\n",
        "    if y == 0:\n",
        "      y = -1\n",
        "    f.write(str(id) + \",\" + str(y) + \"\\n\")\n",
        "    id = id + 1\n",
        "  f.close()\n",
        "\n",
        "write_output(DATA_PATH.format(\"ensemble_predictions.csv\"), y_pred)"
      ],
      "metadata": {
        "id": "Lcnjx2R7hgaB"
      },
      "execution_count": 15,
      "outputs": []
    }
  ]
}