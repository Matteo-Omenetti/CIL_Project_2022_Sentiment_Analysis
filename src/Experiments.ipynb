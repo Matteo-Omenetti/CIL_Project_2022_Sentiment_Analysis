{
 "cells": [
  {
   "cell_type": "code",
   "execution_count": 38,
   "metadata": {},
   "outputs": [],
   "source": [
    "from torch.nn.utils.rnn import PackedSequence, pack_padded_sequence, pad_packed_sequence, pad_sequence, pack_sequence\n",
    "import torch\n",
    "import torch.nn as nn\n",
    "import numpy as np"
   ]
  },
  {
   "cell_type": "code",
   "execution_count": null,
   "metadata": {},
   "outputs": [],
   "source": []
  },
  {
   "cell_type": "code",
   "execution_count": 67,
   "metadata": {},
   "outputs": [],
   "source": [
    "x_seq = [torch.tensor([[1.,2.], [3.,4.], [5.,6.]]), torch.tensor([[7.,8.], [9.,10.]]),\n",
    " torch.tensor([[11., 12.], [13., 14.], [15., 16.], [17., 18.]])]\n",
    "x_padded = pad_sequence(x_seq, batch_first=True)"
   ]
  },
  {
   "cell_type": "code",
   "execution_count": 68,
   "metadata": {},
   "outputs": [
    {
     "data": {
      "text/plain": [
       "(tensor([[[ 1.,  2.],\n",
       "          [ 3.,  4.],\n",
       "          [ 5.,  6.],\n",
       "          [ 0.,  0.]],\n",
       " \n",
       "         [[ 7.,  8.],\n",
       "          [ 9., 10.],\n",
       "          [ 0.,  0.],\n",
       "          [ 0.,  0.]],\n",
       " \n",
       "         [[11., 12.],\n",
       "          [13., 14.],\n",
       "          [15., 16.],\n",
       "          [17., 18.]]]),\n",
       " tensor([3, 2, 4]))"
      ]
     },
     "execution_count": 68,
     "metadata": {},
     "output_type": "execute_result"
    }
   ],
   "source": [
    "x_padded = pad_sequence(x_seq, batch_first=True)\n",
    "lengths = torch.as_tensor([v.size(0) for v in x_seq])\n",
    "x_packed = pack_padded_sequence(x_padded, lengths, batch_first=True, enforce_sorted = False)\n",
    "\n",
    "pad_packed_sequence(x_packed, batch_first=True)"
   ]
  },
  {
   "cell_type": "code",
   "execution_count": 69,
   "metadata": {},
   "outputs": [
    {
     "data": {
      "text/plain": [
       "tensor([[[ 1.,  2.],\n",
       "         [ 3.,  4.],\n",
       "         [ 5.,  6.],\n",
       "         [ 0.,  0.]],\n",
       "\n",
       "        [[ 7.,  8.],\n",
       "         [ 9., 10.],\n",
       "         [ 0.,  0.],\n",
       "         [ 0.,  0.]],\n",
       "\n",
       "        [[11., 12.],\n",
       "         [13., 14.],\n",
       "         [15., 16.],\n",
       "         [17., 18.]]])"
      ]
     },
     "execution_count": 69,
     "metadata": {},
     "output_type": "execute_result"
    }
   ],
   "source": [
    "x, y = pad_packed_sequence(x_packed, batch_first=True)\n",
    "y\n",
    "x"
   ]
  },
  {
   "cell_type": "code",
   "execution_count": 70,
   "metadata": {},
   "outputs": [
    {
     "ename": "SyntaxError",
     "evalue": "unexpected EOF while parsing (2977427633.py, line 1)",
     "output_type": "error",
     "traceback": [
      "\u001b[0;36m  Input \u001b[0;32mIn [70]\u001b[0;36m\u001b[0m\n\u001b[0;31m    (torch.tensor(np.random.normal(size=(2,3,(\"3))),\", \"torch.tensor(np.random.normal(size=(2,3,\", \"3))))\")\u001b[0m\n\u001b[0m                                                                                                           ^\u001b[0m\n\u001b[0;31mSyntaxError\u001b[0m\u001b[0;31m:\u001b[0m unexpected EOF while parsing\n"
     ]
    }
   ],
   "source": []
  },
  {
   "cell_type": "code",
   "execution_count": 97,
   "metadata": {},
   "outputs": [
    {
     "data": {
      "text/plain": [
       "tensor([[[-3.7654e-03, -5.0252e-01],\n",
       "         [ 1.0016e-04, -4.4782e-01],\n",
       "         [ 2.1859e-04, -3.5612e-01],\n",
       "         [ 0.0000e+00,  0.0000e+00]],\n",
       "\n",
       "        [[ 5.3202e-05, -2.6492e-01],\n",
       "         [ 1.0374e-05, -1.7264e-01],\n",
       "         [ 0.0000e+00,  0.0000e+00],\n",
       "         [ 0.0000e+00,  0.0000e+00]],\n",
       "\n",
       "        [[ 1.8118e-06, -1.0672e-01],\n",
       "         [ 2.9769e-07, -6.2241e-02],\n",
       "         [ 4.7116e-08, -3.5255e-02],\n",
       "         [ 7.2860e-09, -1.9610e-02]]], grad_fn=<IndexSelectBackward0>)"
      ]
     },
     "execution_count": 97,
     "metadata": {},
     "output_type": "execute_result"
    }
   ],
   "source": [
    "model = nn.LSTM(input_size = 2, hidden_size=1, num_layers=1, bidirectional=True, batch_first=True)\n",
    "\n",
    "\n",
    "\n",
    "output, _ = model(x_packed)\n",
    "\n",
    "output, input_sizes = pad_packed_sequence(output, batch_first=True)\n",
    "\n",
    "output"
   ]
  },
  {
   "cell_type": "code",
   "execution_count": 101,
   "metadata": {},
   "outputs": [
    {
     "data": {
      "text/plain": [
       "tensor([[-3.7654e-03, -5.0252e-01],\n",
       "        [ 5.3202e-05, -2.6492e-01],\n",
       "        [ 1.8118e-06, -1.0672e-01]], grad_fn=<SliceBackward0>)"
      ]
     },
     "execution_count": 101,
     "metadata": {},
     "output_type": "execute_result"
    }
   ],
   "source": [
    "\n",
    "outputs_0 = output[:, 0, :]\n",
    "outputs_0\n"
   ]
  },
  {
   "cell_type": "code",
   "execution_count": 115,
   "metadata": {},
   "outputs": [
    {
     "data": {
      "text/plain": [
       "tensor([[ 2.1859e-04, -3.5612e-01],\n",
       "        [ 1.0374e-05, -1.7264e-01],\n",
       "        [ 7.2860e-09, -1.9610e-02]], grad_fn=<StackBackward0>)"
      ]
     },
     "execution_count": 115,
     "metadata": {},
     "output_type": "execute_result"
    }
   ],
   "source": [
    "\n",
    "outputs_end = torch.stack([output[batch_idx, seq_length - 1, :] for batch_idx, seq_length in enumerate(input_sizes)], dim = 0)\n",
    "\n",
    "outputs_end\n"
   ]
  },
  {
   "cell_type": "code",
   "execution_count": 117,
   "metadata": {},
   "outputs": [
    {
     "data": {
      "text/plain": [
       "tensor([[-3.7654e-03, -5.0252e-01,  2.1859e-04, -3.5612e-01],\n",
       "        [ 5.3202e-05, -2.6492e-01,  1.0374e-05, -1.7264e-01],\n",
       "        [ 1.8118e-06, -1.0672e-01,  7.2860e-09, -1.9610e-02]],\n",
       "       grad_fn=<CatBackward0>)"
      ]
     },
     "execution_count": 117,
     "metadata": {},
     "output_type": "execute_result"
    }
   ],
   "source": [
    "torch.cat((outputs_0, outputs_end), dim = 1)"
   ]
  },
  {
   "cell_type": "code",
   "execution_count": 16,
   "metadata": {},
   "outputs": [
    {
     "data": {
      "text/plain": [
       "[[1, 2, 3], [4, 5, 6], [7, 8, 9], [10, 11, 12], [13, 14]]"
      ]
     },
     "execution_count": 16,
     "metadata": {},
     "output_type": "execute_result"
    }
   ],
   "source": [
    "#Generates all the indices that correspond to a batch\n",
    "batch_indices = [[1,2,3,4,5,6,7,8,9,10,11,12,13,14][i: i + 3] for i in range(0, 14, 3)]\n",
    "\n",
    "batch_indices"
   ]
  },
  {
   "cell_type": "code",
   "execution_count": null,
   "metadata": {},
   "outputs": [],
   "source": [
    "torch.cat((outputs_0, outputs_end), dim = 2)"
   ]
  },
  {
   "cell_type": "code",
   "execution_count": 65,
   "metadata": {},
   "outputs": [
    {
     "data": {
      "text/plain": [
       "torch.float64"
      ]
     },
     "execution_count": 65,
     "metadata": {},
     "output_type": "execute_result"
    }
   ],
   "source": []
  },
  {
   "cell_type": "code",
   "execution_count": 66,
   "metadata": {},
   "outputs": [
    {
     "data": {
      "text/plain": [
       "torch.float32"
      ]
     },
     "execution_count": 66,
     "metadata": {},
     "output_type": "execute_result"
    }
   ],
   "source": []
  },
  {
   "cell_type": "code",
   "execution_count": null,
   "metadata": {},
   "outputs": [],
   "source": []
  }
 ],
 "metadata": {
  "interpreter": {
   "hash": "134b77b9d8ada40f17455b71728b472d40805e9d0aa47c4cadf4f98e9e759b1f"
  },
  "kernelspec": {
   "display_name": "Python 3.9.13 ('CIL_Project_2022_Sentiment_Analysis-ifu4sxxf')",
   "language": "python",
   "name": "python3"
  },
  "language_info": {
   "codemirror_mode": {
    "name": "ipython",
    "version": 3
   },
   "file_extension": ".py",
   "mimetype": "text/x-python",
   "name": "python",
   "nbconvert_exporter": "python",
   "pygments_lexer": "ipython3",
   "version": "3.9.13"
  },
  "orig_nbformat": 4
 },
 "nbformat": 4,
 "nbformat_minor": 2
}
