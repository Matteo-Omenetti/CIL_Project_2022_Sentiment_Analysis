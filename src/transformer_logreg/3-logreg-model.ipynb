{
  "nbformat": 4,
  "nbformat_minor": 0,
  "metadata": {
    "accelerator": "GPU",
    "colab": {
      "name": "logreg.ipynb",
      "provenance": [],
      "collapsed_sections": [],
      "machine_shape": "hm"
    },
    "kernelspec": {
      "display_name": "Python 3",
      "language": "python",
      "name": "python3"
    },
    "language_info": {
      "codemirror_mode": {
        "name": "ipython",
        "version": 3
      },
      "file_extension": ".py",
      "mimetype": "text/x-python",
      "name": "python",
      "nbconvert_exporter": "python",
      "pygments_lexer": "ipython3",
      "version": "3.9.2"
    },
    "gpuClass": "standard"
  },
  "cells": [
    {
      "cell_type": "markdown",
      "metadata": {
        "id": "EVr8sce42-Du"
      },
      "source": [
        "### Install and import necessary packages"
      ]
    },
    {
      "cell_type": "code",
      "metadata": {
        "id": "EbHoJEJd46mA"
      },
      "source": [
        "from sklearn.metrics import f1_score, accuracy_score, precision_score, recall_score\n",
        "from sklearn.metrics import confusion_matrix, ConfusionMatrixDisplay\n",
        "# Tools for scaling data, PCA, and standard datasets\n",
        "from sklearn import preprocessing, decomposition, datasets\n",
        "import numpy as np\n",
        "import pandas as pd"
      ],
      "execution_count": null,
      "outputs": []
    },
    {
      "cell_type": "markdown",
      "source": [
        "## Load data"
      ],
      "metadata": {
        "id": "QDwHcrRRCdGZ"
      }
    },
    {
      "cell_type": "code",
      "source": [
        "from google.colab import drive\n",
        "drive.mount('/content/drive',force_remount = True)\n",
        "!ls '/content/drive/MyDrive/eth_CIL_exercise/data/logreg_input'\n",
        "valm1 = pd.read_csv('/content/drive/MyDrive/eth_CIL_exercise/data/logreg_input/pred_val_1-cardiff.csv',names= ['p10', 'p11'])\n",
        "valm2 = pd.read_csv('/content/drive/MyDrive/eth_CIL_exercise/data/logreg_input/pred_val_1-bertweet.csv',names= ['p20', 'p21'])\n",
        "valm3 = pd.read_csv('/content/drive/MyDrive/eth_CIL_exercise/data/logreg_input/pred_val_1-xlnet.csv',names= ['p30', 'p31'])\n",
        "testm1 = pd.read_csv('/content/drive/MyDrive/eth_CIL_exercise/data/logreg_input/pred_test-prob_1-cardiff.csv',names= ['p10', 'p11'])\n",
        "testm2 = pd.read_csv('/content/drive/MyDrive/eth_CIL_exercise/data/logreg_input/pred_test-prob_1-bertweet.csv',names= ['p20', 'p21'])\n",
        "testm3 = pd.read_csv('/content/drive/MyDrive/eth_CIL_exercise/data/logreg_input/pred_test-prob_1-xlnet.csv',names= ['p30', 'p31'])"
      ],
      "metadata": {
        "colab": {
          "base_uri": "https://localhost:8080/"
        },
        "id": "8GPOg6fJOvN_",
        "outputId": "0b1ed606-5011-4c37-95de-750d9bff1d45",
        "collapsed": true
      },
      "execution_count": null,
      "outputs": [
        {
          "output_type": "stream",
          "name": "stdout",
          "text": [
            "Mounted at /content/drive\n",
            "gold.csv\t\t       pred_test-prob_1-xlnet.csv  pred_val_1-xlnet.csv\n",
            "pred_test-prob_1-bertweet.csv  pred_val_1-bertweet.csv\n",
            "pred_test-prob_1-cardiff.csv   pred_val_1-cardiff.csv\n"
          ]
        }
      ]
    },
    {
      "cell_type": "code",
      "source": [
        "#COMPARE: df_val['sentiment'] vs gold, are they the same function set\n",
        "df_val = pd.read_csv('/content/drive/MyDrive/eth_CIL_exercise/data/clean_val.csv')\n",
        "gold = pd.read_csv('/content/drive/MyDrive/eth_CIL_exercise/data/logreg_input/gold.csv',names= ['sentiment'])\n",
        "cm = confusion_matrix(df_val['sentiment'] , gold) #so gold = df_val['sentiment']\n",
        "cm"
      ],
      "metadata": {
        "id": "1-D1P4S6UXwD",
        "colab": {
          "base_uri": "https://localhost:8080/"
        },
        "outputId": "f5447cd0-0b75-43bb-fdde-eb8824a866ff"
      },
      "execution_count": null,
      "outputs": [
        {
          "output_type": "execute_result",
          "data": {
            "text/plain": [
              "array([[249742,      0],\n",
              "       [     0, 250258]])"
            ]
          },
          "metadata": {},
          "execution_count": 6
        }
      ]
    },
    {
      "cell_type": "code",
      "source": [
        "#merge data\n",
        "X_trainf = pd.concat([valm1, valm2,valm3], axis=1)\n",
        "y_trainf = gold\n",
        "X_test = pd.concat( [testm1,testm2,testm3], axis=1)"
      ],
      "metadata": {
        "id": "A5MDmdrQT3Qp"
      },
      "execution_count": null,
      "outputs": []
    },
    {
      "cell_type": "code",
      "source": [
        "from sklearn.model_selection import train_test_split\n",
        "from sklearn.utils import shuffle\n",
        "#split data\n",
        "X_train, X_val, y_train, y_val = train_test_split(X_trainf, y_trainf, test_size=0.5, random_state=68)\n",
        "X_train, y_train = shuffle(X_train, y_train, random_state=68) # shuffle the training data\n",
        "X_val, y_val = shuffle(X_val, y_val, random_state=68)"
      ],
      "metadata": {
        "id": "75aAXvYKT5AR"
      },
      "execution_count": null,
      "outputs": []
    },
    {
      "cell_type": "code",
      "source": [
        "#scale the data\n",
        "standard_scaler = preprocessing.StandardScaler()\n",
        "X_train_standard = standard_scaler.fit_transform(X_train)\n",
        "X_val_standard = standard_scaler.transform(X_val)\n",
        "X_test_standard = standard_scaler.transform(X_test)"
      ],
      "metadata": {
        "id": "TxHTkCV-zFGA"
      },
      "execution_count": null,
      "outputs": []
    },
    {
      "cell_type": "code",
      "source": [
        "print(X_train.shape)\n",
        "print(y_train.shape)\n",
        "print(X_val.shape)\n",
        "print(y_val.shape)\n",
        "print(X_test.shape)"
      ],
      "metadata": {
        "colab": {
          "base_uri": "https://localhost:8080/"
        },
        "id": "IfafN4a1joCb",
        "outputId": "b1439bc7-ba23-4ede-9b1c-e2654d23e45c"
      },
      "execution_count": null,
      "outputs": [
        {
          "output_type": "stream",
          "name": "stdout",
          "text": [
            "(250000, 6)\n",
            "(250000, 1)\n",
            "(250000, 6)\n",
            "(250000, 1)\n",
            "(10000, 6)\n"
          ]
        }
      ]
    },
    {
      "cell_type": "markdown",
      "source": [
        "## Finetuning LogReg model"
      ],
      "metadata": {
        "id": "0_Q5WHN0T7XC"
      }
    },
    {
      "cell_type": "code",
      "source": [
        "from sklearn.model_selection import train_test_split, GridSearchCV, cross_val_score, validation_curve, learning_curve\n",
        "# The LogReg learning algorithm\n",
        "from sklearn.linear_model import LogisticRegression\n",
        "logreg = LogisticRegression(random_state = 88,\n",
        "                            penalty = 'l2')\n",
        "logreg.fit(X_train_standard, y_train)\n",
        "logreg.score(X_train_standard, y_train), logreg.score(X_val_standard, y_val)"
      ],
      "metadata": {
        "id": "I9VNiNvJUIkp",
        "colab": {
          "base_uri": "https://localhost:8080/"
        },
        "outputId": "972e6527-1e81-4937-a84c-1e0eb42bd6a7"
      },
      "execution_count": null,
      "outputs": [
        {
          "output_type": "stream",
          "name": "stderr",
          "text": [
            "/usr/local/lib/python3.7/dist-packages/sklearn/utils/validation.py:993: DataConversionWarning: A column-vector y was passed when a 1d array was expected. Please change the shape of y to (n_samples, ), for example using ravel().\n",
            "  y = column_or_1d(y, warn=True)\n"
          ]
        },
        {
          "output_type": "execute_result",
          "data": {
            "text/plain": [
              "(0.9181, 0.91708)"
            ]
          },
          "metadata": {},
          "execution_count": 29
        }
      ]
    },
    {
      "cell_type": "code",
      "source": [
        "from sklearn.linear_model import LogisticRegressionCV\n",
        "logregcv = LogisticRegressionCV(cv=4, random_state=99)\n",
        "logregcv.fit(X_train_standard, y_train)\n",
        "logregcv.score(X_train_standard, y_train), logregcv.score(X_val_standard, y_val)"
      ],
      "metadata": {
        "id": "8Gv7QqdZmqMW",
        "colab": {
          "base_uri": "https://localhost:8080/"
        },
        "outputId": "67990b55-4421-4196-c207-239a7a57ad1a"
      },
      "execution_count": null,
      "outputs": [
        {
          "output_type": "stream",
          "name": "stderr",
          "text": [
            "/usr/local/lib/python3.7/dist-packages/sklearn/utils/validation.py:993: DataConversionWarning: A column-vector y was passed when a 1d array was expected. Please change the shape of y to (n_samples, ), for example using ravel().\n",
            "  y = column_or_1d(y, warn=True)\n"
          ]
        },
        {
          "output_type": "execute_result",
          "data": {
            "text/plain": [
              "(0.918092, 0.91708)"
            ]
          },
          "metadata": {},
          "execution_count": 30
        }
      ]
    },
    {
      "cell_type": "code",
      "source": [
        "#predict\n",
        "pred_lrcv = logregcv.predict(X_test)\n",
        "pred_lr = logreg.predict(X_test_standard)"
      ],
      "metadata": {
        "id": "-pIoR7ZrnKpQ",
        "colab": {
          "base_uri": "https://localhost:8080/"
        },
        "outputId": "752e56d8-943d-490a-f491-4282668fae03"
      },
      "execution_count": null,
      "outputs": [
        {
          "output_type": "stream",
          "name": "stderr",
          "text": [
            "/usr/local/lib/python3.7/dist-packages/sklearn/base.py:444: UserWarning: X has feature names, but LogisticRegressionCV was fitted without feature names\n",
            "  f\"X has feature names, but {self.__class__.__name__} was fitted without\"\n"
          ]
        }
      ]
    },
    {
      "cell_type": "code",
      "source": [
        "pred_test = pd.DataFrame({'Prediction': pred_lr})\n",
        "pred_test = pd.DataFrame({'Id': pred_test.index + 1 ,'Prediction': pred_lr}) #add columns Id as sample_submission file\n",
        "pred_test.loc[pred_test['Prediction'] < 1, 'Prediction'] = -1"
      ],
      "metadata": {
        "id": "LM_TmykvjQRi"
      },
      "execution_count": null,
      "outputs": []
    },
    {
      "cell_type": "code",
      "source": [
        "from google.colab import files\n",
        "pred_test.to_csv('pred_test_lr.csv',index=False)\n",
        "files.download('pred_test_lr.csv')"
      ],
      "metadata": {
        "id": "KYMzjg5KjThr",
        "colab": {
          "base_uri": "https://localhost:8080/",
          "height": 34
        },
        "outputId": "5cd56dcf-4e89-4e45-e66a-5be7a7695dce"
      },
      "execution_count": null,
      "outputs": [
        {
          "output_type": "display_data",
          "data": {
            "text/plain": [
              "<IPython.core.display.Javascript object>"
            ],
            "application/javascript": [
              "\n",
              "    async function download(id, filename, size) {\n",
              "      if (!google.colab.kernel.accessAllowed) {\n",
              "        return;\n",
              "      }\n",
              "      const div = document.createElement('div');\n",
              "      const label = document.createElement('label');\n",
              "      label.textContent = `Downloading \"${filename}\": `;\n",
              "      div.appendChild(label);\n",
              "      const progress = document.createElement('progress');\n",
              "      progress.max = size;\n",
              "      div.appendChild(progress);\n",
              "      document.body.appendChild(div);\n",
              "\n",
              "      const buffers = [];\n",
              "      let downloaded = 0;\n",
              "\n",
              "      const channel = await google.colab.kernel.comms.open(id);\n",
              "      // Send a message to notify the kernel that we're ready.\n",
              "      channel.send({})\n",
              "\n",
              "      for await (const message of channel.messages) {\n",
              "        // Send a message to notify the kernel that we're ready.\n",
              "        channel.send({})\n",
              "        if (message.buffers) {\n",
              "          for (const buffer of message.buffers) {\n",
              "            buffers.push(buffer);\n",
              "            downloaded += buffer.byteLength;\n",
              "            progress.value = downloaded;\n",
              "          }\n",
              "        }\n",
              "      }\n",
              "      const blob = new Blob(buffers, {type: 'application/binary'});\n",
              "      const a = document.createElement('a');\n",
              "      a.href = window.URL.createObjectURL(blob);\n",
              "      a.download = filename;\n",
              "      div.appendChild(a);\n",
              "      a.click();\n",
              "      div.remove();\n",
              "    }\n",
              "  "
            ]
          },
          "metadata": {}
        },
        {
          "output_type": "display_data",
          "data": {
            "text/plain": [
              "<IPython.core.display.Javascript object>"
            ],
            "application/javascript": [
              "download(\"download_022d7c4a-77d4-46ca-a4b7-a3c02dffa81c\", \"pred_test_lr.csv\", 73815)"
            ]
          },
          "metadata": {}
        }
      ]
    },
    {
      "cell_type": "markdown",
      "source": [
        "## knn\n"
      ],
      "metadata": {
        "id": "grxQG-RrHcF4"
      }
    },
    {
      "cell_type": "code",
      "source": [
        "from sklearn.neighbors import KNeighborsClassifier\n",
        "neigh = KNeighborsClassifier(n_neighbors=15)\n",
        "y_pred = neigh.fit(X_train_standard, y_train).predict(X_val_standard)\n",
        "accuracy_score(y_val, y_pred)"
      ],
      "metadata": {
        "colab": {
          "base_uri": "https://localhost:8080/"
        },
        "id": "9JqfxH0dGa6g",
        "outputId": "e3716c33-f6ee-4f3d-c83e-1d122820d2b5"
      },
      "execution_count": null,
      "outputs": [
        {
          "output_type": "stream",
          "name": "stderr",
          "text": [
            "/usr/local/lib/python3.7/dist-packages/sklearn/neighbors/_classification.py:198: DataConversionWarning: A column-vector y was passed when a 1d array was expected. Please change the shape of y to (n_samples,), for example using ravel().\n",
            "  return self._fit(X, y)\n"
          ]
        },
        {
          "output_type": "execute_result",
          "data": {
            "text/plain": [
              "0.9122333333333333"
            ]
          },
          "metadata": {},
          "execution_count": 20
        }
      ]
    },
    {
      "cell_type": "code",
      "source": [
        "pred_knn = neigh.predict(X_test)\n",
        "pred_test = pd.DataFrame({'Prediction': pred_knn})\n",
        "pred_test = pd.DataFrame({'Id': pred_test.index + 1 ,'Prediction': pred_knn}) #add columns Id as sample_submission file\n",
        "pred_test.loc[pred_test['Prediction'] < 1, 'Prediction'] = -1\n",
        "from google.colab import files\n",
        "pred_test.to_csv('pred_test_knn.csv',index=False)\n",
        "files.download('pred_test_knn.csv')"
      ],
      "metadata": {
        "id": "In81utPiHVIw"
      },
      "execution_count": null,
      "outputs": []
    },
    {
      "cell_type": "markdown",
      "source": [
        "## Naive BAyes"
      ],
      "metadata": {
        "id": "7cJX5-4EEE9C"
      }
    },
    {
      "cell_type": "code",
      "source": [
        "from sklearn.naive_bayes import GaussianNB\n",
        "gnb = GaussianNB()\n",
        "y_pred = gnb.fit(X_train_standard, y_train).predict(X_val_standard)\n",
        "accuracy_score(y_val, y_pred)"
      ],
      "metadata": {
        "id": "z1SJTmF2EC4u",
        "colab": {
          "base_uri": "https://localhost:8080/"
        },
        "outputId": "384c19af-ad25-4a76-9675-a129ef25f523"
      },
      "execution_count": null,
      "outputs": [
        {
          "output_type": "stream",
          "name": "stderr",
          "text": [
            "/usr/local/lib/python3.7/dist-packages/sklearn/utils/validation.py:993: DataConversionWarning: A column-vector y was passed when a 1d array was expected. Please change the shape of y to (n_samples, ), for example using ravel().\n",
            "  y = column_or_1d(y, warn=True)\n"
          ]
        },
        {
          "output_type": "execute_result",
          "data": {
            "text/plain": [
              "0.9085866666666667"
            ]
          },
          "metadata": {},
          "execution_count": 21
        }
      ]
    }
  ]
}