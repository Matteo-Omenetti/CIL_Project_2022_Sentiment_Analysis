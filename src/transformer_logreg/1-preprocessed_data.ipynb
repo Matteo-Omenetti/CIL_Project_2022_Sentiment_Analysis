{
  "nbformat": 4,
  "nbformat_minor": 0,
  "metadata": {
    "accelerator": "GPU",
    "colab": {
      "name": "preprocessed_data.ipynb",
      "provenance": [],
      "collapsed_sections": []
    },
    "kernelspec": {
      "display_name": "Python 3",
      "language": "python",
      "name": "python3"
    },
    "language_info": {
      "codemirror_mode": {
        "name": "ipython",
        "version": 3
      },
      "file_extension": ".py",
      "mimetype": "text/x-python",
      "name": "python",
      "nbconvert_exporter": "python",
      "pygments_lexer": "ipython3",
      "version": "3.9.2"
    },
    "gpuClass": "standard"
  },
  "cells": [
    {
      "cell_type": "markdown",
      "metadata": {
        "id": "DLCsPq6F2X-1"
      },
      "source": [
        "\n",
        "# Sentiment Analysis"
      ]
    },
    {
      "cell_type": "markdown",
      "metadata": {
        "id": "EVr8sce42-Du"
      },
      "source": [
        "### Install and import necessary packages"
      ]
    },
    {
      "cell_type": "code",
      "metadata": {
        "id": "EbHoJEJd46mA"
      },
      "source": [
        "\n",
        "import numpy as np\n",
        "import pandas as pd\n",
        "from collections import Counter\n",
        "from sklearn.model_selection import train_test_split\n",
        "from sklearn.utils import shuffle\n"
      ],
      "execution_count": null,
      "outputs": []
    },
    {
      "cell_type": "markdown",
      "metadata": {
        "id": "t8NsCc923Oy6"
      },
      "source": [
        "# Load data"
      ]
    },
    {
      "cell_type": "code",
      "source": [
        "from google.colab import drive\n",
        "drive.mount('/content/drive',force_remount=True)\n",
        "!ls '/content/drive/MyDrive/eth_CIL_exercise/data'\n",
        "#df_traindev = pd.read_csv('/content/drive/MyDrive/eth_CIL_exercise/data/df_traindev.csv')\n",
        "df_traindev = pd.read_csv('/content/drive/MyDrive/eth_CIL_exercise/data/df_traindev_full.csv')\n",
        "df_test = pd.read_csv('/content/drive/MyDrive/eth_CIL_exercise/data/test.csv')"
      ],
      "metadata": {
        "id": "FJv2V9mPUFP3",
        "colab": {
          "base_uri": "https://localhost:8080/"
        },
        "outputId": "45d9b44a-9974-4a38-8bc7-4d9fa020eadc"
      },
      "execution_count": null,
      "outputs": [
        {
          "output_type": "stream",
          "name": "stdout",
          "text": [
            "Mounted at /content/drive\n",
            "df_traindev.csv  df_traindev_full.csv  test.csv\n"
          ]
        }
      ]
    },
    {
      "cell_type": "markdown",
      "source": [
        "### split train/val set"
      ],
      "metadata": {
        "id": "3pxLty5MeTGZ"
      }
    },
    {
      "cell_type": "code",
      "metadata": {
        "id": "rqbjWod972fJ"
      },
      "source": [
        "#split train/val\n",
        "VAL_SIZE = 0.2 #Matt: 0.05\n",
        "X_train, X_val, y_train, y_val = train_test_split(df_traindev['tweet'], df_traindev['sentiment'], test_size=VAL_SIZE, random_state=55)\n",
        "X_train, y_train = shuffle(X_train, y_train, random_state=84) # shuffle the training data\n",
        "X_val, y_val = shuffle(X_val, y_val, random_state=84)"
      ],
      "execution_count": null,
      "outputs": []
    },
    {
      "cell_type": "code",
      "source": [
        "#TRAIN, VAL, TEST\n",
        "clean_train = pd.DataFrame({ 'tweet': X_train, 'sentiment': y_train })\n",
        "clean_val = pd.DataFrame({ 'tweet': X_val, 'sentiment': y_val })\n",
        "df_test['sentiment'] = 0 #add sentiment column to testset, set all values = 0"
      ],
      "metadata": {
        "id": "NKRmXZRSntZE"
      },
      "execution_count": null,
      "outputs": []
    },
    {
      "cell_type": "code",
      "source": [
        "from google.colab import files\n",
        "clean_train.to_csv('clean_train.csv',index=False)\n",
        "clean_val.to_csv('clean_val.csv',index=False)\n",
        "df_test.to_csv('clean_test.csv',index=False)\n",
        "#files.download('pred_test_1.csv')"
      ],
      "metadata": {
        "id": "-Bx8tlYnWnoe"
      },
      "execution_count": null,
      "outputs": []
    },
    {
      "cell_type": "markdown",
      "source": [
        "### processing"
      ],
      "metadata": {
        "id": "1d7_yKfbnkd_"
      }
    },
    {
      "cell_type": "code",
      "source": [
        "#preprocessing traindev set\n",
        "for i in range(len(df_traindev['tweet'])):\n",
        "  df_traindev['tweet'][i+1]= df_traindev['tweet'][i+1].lower().replace(\"<user>\", \"\").replace(\"<url>\", \"\")\n",
        "#preprocessing test set\n",
        "for i in range(len(df_test['tweet'])):\n",
        "  df_test['tweet'][i]= df_test['tweet'][i].lower().replace(\"<user>\", \"\").replace(\"<url>\", \"\") \n",
        "\n",
        "'''\n",
        "  Indices of Trainset is from 1\n",
        "  Indices of Trainset is from 0\n",
        "'''\n"
      ],
      "metadata": {
        "colab": {
          "base_uri": "https://localhost:8080/"
        },
        "id": "WJ42g5vHeWR6",
        "outputId": "e87cf7a3-3b5e-4af7-c463-0a52b2b5d48f"
      },
      "execution_count": null,
      "outputs": [
        {
          "output_type": "stream",
          "name": "stderr",
          "text": [
            "/usr/local/lib/python3.7/dist-packages/ipykernel_launcher.py:3: SettingWithCopyWarning: \n",
            "A value is trying to be set on a copy of a slice from a DataFrame\n",
            "\n",
            "See the caveats in the documentation: https://pandas.pydata.org/pandas-docs/stable/user_guide/indexing.html#returning-a-view-versus-a-copy\n",
            "  This is separate from the ipykernel package so we can avoid doing imports until\n"
          ]
        }
      ]
    }
  ]
}